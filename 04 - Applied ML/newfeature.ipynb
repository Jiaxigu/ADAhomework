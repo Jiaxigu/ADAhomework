{
 "cells": [
  {
   "cell_type": "code",
   "execution_count": null,
   "metadata": {
    "collapsed": true
   },
   "outputs": [],
   "source": [
    "# drop useless features\n",
    "cleanedDF = specRef.drop(['player', 'club', 'position', 'photoID', 'refNum', 'refCountry', 'Alpha_3'], 1)"
   ]
  },
  {
   "cell_type": "code",
   "execution_count": null,
   "metadata": {
    "collapsed": true
   },
   "outputs": [],
   "source": [
    "# remove NA value in skin tone rater\n",
    "cleanedDF = cleanedDF[np.isfinite(cleanedDF['rater1'])]"
   ]
  },
  {
   "cell_type": "code",
   "execution_count": null,
   "metadata": {
    "collapsed": true
   },
   "outputs": [],
   "source": [
    "ah = cleanedDF[cleanedDF['playerShort'] == 'aaron-hughes']\n"
   ]
  },
  {
   "cell_type": "code",
   "execution_count": null,
   "metadata": {
    "collapsed": true
   },
   "outputs": [],
   "source": [
    "# Create new features. change 'ah' to your iterator name(like 'i', or 'player')\n",
    "average_cards_per_game = (ah['yellowCards'].sum() + ah['yellowReds'].sum() + ah['redCards'].sum()) / ah['games'].sum()\n",
    "\n",
    "#higher IAT = higher Exp = \n",
    "ah['personal_implicit_bias'] = ((ah['yellowCards'] + ah['yellowReds'] + ah['redCards']) / ah['games'] - average_cards_per_game) * ah['meanIAT']\n",
    "ah['personal_explicit_bias'] = ((ah['yellowCards'] + ah['yellowReds'] + ah['redCards']) / ah['games'] - average_cards_per_game) * ah['meanExp']\n",
    "\n",
    "average_implicit_bias = ah['personal_implicit_bias'].sum() / ah.shape[0]\n",
    "average_explicit_bias = ah['personal_explicit_bias'].sum() / ah.shape[0]\n",
    "\n",
    "# add three average_* features to each of your player entry"
   ]
  }
 ],
 "metadata": {
  "kernelspec": {
   "display_name": "Python [Root]",
   "language": "python",
   "name": "Python [Root]"
  },
  "language_info": {
   "codemirror_mode": {
    "name": "ipython",
    "version": 3
   },
   "file_extension": ".py",
   "mimetype": "text/x-python",
   "name": "python",
   "nbconvert_exporter": "python",
   "pygments_lexer": "ipython3",
   "version": "3.5.2"
  },
  "toc": {
   "nav_menu": {
    "height": "12px",
    "width": "252px"
   },
   "navigate_menu": true,
   "number_sections": true,
   "sideBar": true,
   "threshold": 4,
   "toc_cell": false,
   "toc_section_display": "block",
   "toc_window_display": false
  }
 },
 "nbformat": 4,
 "nbformat_minor": 0
}
