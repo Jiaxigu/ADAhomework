{
 "cells": [
  {
   "cell_type": "markdown",
   "metadata": {},
   "source": [
    "# First part"
   ]
  },
  {
   "cell_type": "code",
   "execution_count": 2,
   "metadata": {
    "collapsed": false
   },
   "outputs": [
    {
     "name": "stderr",
     "output_type": "stream",
     "text": [
      "/usr/local/lib/python3.5/dist-packages/sklearn/cross_validation.py:44: DeprecationWarning: This module was deprecated in version 0.18 in favor of the model_selection module into which all the refactored classes and functions are moved. Also note that the interface of the new CV iterators are different from that of this module. This module will be removed in 0.20.\n",
      "  \"This module will be removed in 0.20.\", DeprecationWarning)\n"
     ]
    }
   ],
   "source": [
    "#import libraries\n",
    "import pandas as pd\n",
    "import numpy as np\n",
    "import matplotlib.pyplot as plt\n",
    "import seaborn as sns\n",
    "import matplotlib.pyplot as plt\n",
    "import os\n",
    "import scipy.stats.mstats as ssm\n",
    "from scipy.stats import gaussian_kde as kde\n",
    "import random\n",
    "from sklearn import metrics\n",
    "from sklearn.neighbors import KNeighborsClassifier\n",
    "from sklearn.cross_validation import cross_val_score\n",
    "from sklearn.ensemble import RandomForestClassifier\n",
    "from sklearn.cluster import KMeans\n",
    "from sklearn.metrics import log_loss\n",
    "from sklearn.metrics import silhouette_score\n",
    "from sklearn import preprocessing\n",
    "\n",
    "%matplotlib inline"
   ]
  },
  {
   "cell_type": "markdown",
   "metadata": {},
   "source": [
    "Time to load the data file"
   ]
  },
  {
   "cell_type": "code",
   "execution_count": 3,
   "metadata": {
    "collapsed": true
   },
   "outputs": [],
   "source": [
    "data = pd.read_csv('CrowdstormingDataJuly1st.csv')"
   ]
  },
  {
   "cell_type": "markdown",
   "metadata": {},
   "source": [
    "and take a look at it:"
   ]
  },
  {
   "cell_type": "code",
   "execution_count": 4,
   "metadata": {
    "collapsed": false
   },
   "outputs": [
    {
     "data": {
      "text/html": [
       "<div>\n",
       "<table border=\"1\" class=\"dataframe\">\n",
       "  <thead>\n",
       "    <tr style=\"text-align: right;\">\n",
       "      <th></th>\n",
       "      <th>playerShort</th>\n",
       "      <th>player</th>\n",
       "      <th>club</th>\n",
       "      <th>leagueCountry</th>\n",
       "      <th>birthday</th>\n",
       "      <th>height</th>\n",
       "      <th>weight</th>\n",
       "      <th>position</th>\n",
       "      <th>games</th>\n",
       "      <th>victories</th>\n",
       "      <th>...</th>\n",
       "      <th>rater2</th>\n",
       "      <th>refNum</th>\n",
       "      <th>refCountry</th>\n",
       "      <th>Alpha_3</th>\n",
       "      <th>meanIAT</th>\n",
       "      <th>nIAT</th>\n",
       "      <th>seIAT</th>\n",
       "      <th>meanExp</th>\n",
       "      <th>nExp</th>\n",
       "      <th>seExp</th>\n",
       "    </tr>\n",
       "  </thead>\n",
       "  <tbody>\n",
       "    <tr>\n",
       "      <th>0</th>\n",
       "      <td>lucas-wilchez</td>\n",
       "      <td>Lucas Wilchez</td>\n",
       "      <td>Real Zaragoza</td>\n",
       "      <td>Spain</td>\n",
       "      <td>31.08.1983</td>\n",
       "      <td>177.0</td>\n",
       "      <td>72.0</td>\n",
       "      <td>Attacking Midfielder</td>\n",
       "      <td>1</td>\n",
       "      <td>0</td>\n",
       "      <td>...</td>\n",
       "      <td>0.50</td>\n",
       "      <td>1</td>\n",
       "      <td>1</td>\n",
       "      <td>GRC</td>\n",
       "      <td>0.326391</td>\n",
       "      <td>712.0</td>\n",
       "      <td>0.000564</td>\n",
       "      <td>0.396000</td>\n",
       "      <td>750.0</td>\n",
       "      <td>0.002696</td>\n",
       "    </tr>\n",
       "    <tr>\n",
       "      <th>1</th>\n",
       "      <td>john-utaka</td>\n",
       "      <td>John Utaka</td>\n",
       "      <td>Montpellier HSC</td>\n",
       "      <td>France</td>\n",
       "      <td>08.01.1982</td>\n",
       "      <td>179.0</td>\n",
       "      <td>82.0</td>\n",
       "      <td>Right Winger</td>\n",
       "      <td>1</td>\n",
       "      <td>0</td>\n",
       "      <td>...</td>\n",
       "      <td>0.75</td>\n",
       "      <td>2</td>\n",
       "      <td>2</td>\n",
       "      <td>ZMB</td>\n",
       "      <td>0.203375</td>\n",
       "      <td>40.0</td>\n",
       "      <td>0.010875</td>\n",
       "      <td>-0.204082</td>\n",
       "      <td>49.0</td>\n",
       "      <td>0.061504</td>\n",
       "    </tr>\n",
       "    <tr>\n",
       "      <th>2</th>\n",
       "      <td>abdon-prats</td>\n",
       "      <td>Abdón Prats</td>\n",
       "      <td>RCD Mallorca</td>\n",
       "      <td>Spain</td>\n",
       "      <td>17.12.1992</td>\n",
       "      <td>181.0</td>\n",
       "      <td>79.0</td>\n",
       "      <td>NaN</td>\n",
       "      <td>1</td>\n",
       "      <td>0</td>\n",
       "      <td>...</td>\n",
       "      <td>NaN</td>\n",
       "      <td>3</td>\n",
       "      <td>3</td>\n",
       "      <td>ESP</td>\n",
       "      <td>0.369894</td>\n",
       "      <td>1785.0</td>\n",
       "      <td>0.000229</td>\n",
       "      <td>0.588297</td>\n",
       "      <td>1897.0</td>\n",
       "      <td>0.001002</td>\n",
       "    </tr>\n",
       "    <tr>\n",
       "      <th>3</th>\n",
       "      <td>pablo-mari</td>\n",
       "      <td>Pablo Marí</td>\n",
       "      <td>RCD Mallorca</td>\n",
       "      <td>Spain</td>\n",
       "      <td>31.08.1993</td>\n",
       "      <td>191.0</td>\n",
       "      <td>87.0</td>\n",
       "      <td>Center Back</td>\n",
       "      <td>1</td>\n",
       "      <td>1</td>\n",
       "      <td>...</td>\n",
       "      <td>NaN</td>\n",
       "      <td>3</td>\n",
       "      <td>3</td>\n",
       "      <td>ESP</td>\n",
       "      <td>0.369894</td>\n",
       "      <td>1785.0</td>\n",
       "      <td>0.000229</td>\n",
       "      <td>0.588297</td>\n",
       "      <td>1897.0</td>\n",
       "      <td>0.001002</td>\n",
       "    </tr>\n",
       "    <tr>\n",
       "      <th>4</th>\n",
       "      <td>ruben-pena</td>\n",
       "      <td>Rubén Peña</td>\n",
       "      <td>Real Valladolid</td>\n",
       "      <td>Spain</td>\n",
       "      <td>18.07.1991</td>\n",
       "      <td>172.0</td>\n",
       "      <td>70.0</td>\n",
       "      <td>Right Midfielder</td>\n",
       "      <td>1</td>\n",
       "      <td>1</td>\n",
       "      <td>...</td>\n",
       "      <td>NaN</td>\n",
       "      <td>3</td>\n",
       "      <td>3</td>\n",
       "      <td>ESP</td>\n",
       "      <td>0.369894</td>\n",
       "      <td>1785.0</td>\n",
       "      <td>0.000229</td>\n",
       "      <td>0.588297</td>\n",
       "      <td>1897.0</td>\n",
       "      <td>0.001002</td>\n",
       "    </tr>\n",
       "  </tbody>\n",
       "</table>\n",
       "<p>5 rows × 28 columns</p>\n",
       "</div>"
      ],
      "text/plain": [
       "     playerShort         player             club leagueCountry    birthday  \\\n",
       "0  lucas-wilchez  Lucas Wilchez    Real Zaragoza         Spain  31.08.1983   \n",
       "1     john-utaka     John Utaka  Montpellier HSC        France  08.01.1982   \n",
       "2    abdon-prats    Abdón Prats     RCD Mallorca         Spain  17.12.1992   \n",
       "3     pablo-mari     Pablo Marí     RCD Mallorca         Spain  31.08.1993   \n",
       "4     ruben-pena     Rubén Peña  Real Valladolid         Spain  18.07.1991   \n",
       "\n",
       "   height  weight              position  games  victories    ...     rater2  \\\n",
       "0   177.0    72.0  Attacking Midfielder      1          0    ...       0.50   \n",
       "1   179.0    82.0          Right Winger      1          0    ...       0.75   \n",
       "2   181.0    79.0                   NaN      1          0    ...        NaN   \n",
       "3   191.0    87.0           Center Back      1          1    ...        NaN   \n",
       "4   172.0    70.0      Right Midfielder      1          1    ...        NaN   \n",
       "\n",
       "   refNum  refCountry  Alpha_3   meanIAT    nIAT     seIAT   meanExp    nExp  \\\n",
       "0       1           1      GRC  0.326391   712.0  0.000564  0.396000   750.0   \n",
       "1       2           2      ZMB  0.203375    40.0  0.010875 -0.204082    49.0   \n",
       "2       3           3      ESP  0.369894  1785.0  0.000229  0.588297  1897.0   \n",
       "3       3           3      ESP  0.369894  1785.0  0.000229  0.588297  1897.0   \n",
       "4       3           3      ESP  0.369894  1785.0  0.000229  0.588297  1897.0   \n",
       "\n",
       "      seExp  \n",
       "0  0.002696  \n",
       "1  0.061504  \n",
       "2  0.001002  \n",
       "3  0.001002  \n",
       "4  0.001002  \n",
       "\n",
       "[5 rows x 28 columns]"
      ]
     },
     "execution_count": 4,
     "metadata": {},
     "output_type": "execute_result"
    }
   ],
   "source": [
    "data.head()"
   ]
  },
  {
   "cell_type": "markdown",
   "metadata": {},
   "source": [
    "To avoid redundancy, we will assume that the reader is familiar with the meaning of each one of the columns of this data set. Based on this, we will drop some rows that are either hard to pass to the random forest, are could not really have information to predict the skin color. The goal is to predict, based on the characteristics of a player, the skin tone.\n",
    "\n",
    "We have to remember that each row in the dataset represents a dyad between a referee and a player. Now, the dataset was clearly used to check if the referees give more red cards to black players than to white players. In our case we have to check if with the available data (number of Goals, Defeats, red cards, yellow cards) we can infer the skin color of a player.\n",
    "\n",
    "For that purpose we will generate a new dataset with what we think are important characteristics of the players:"
   ]
  },
  {
   "cell_type": "code",
   "execution_count": 5,
   "metadata": {
    "collapsed": false
   },
   "outputs": [],
   "source": [
    "playerNames = data['playerShort'].unique()\n",
    "mDataFrames = []\n",
    "for pName in playerNames:\n",
    "    tmpSet = data[data['playerShort']==pName]\n",
    "    tmpPlayer = pd.DataFrame(columns=['weight','height','defeats','goals','yellowCards',\n",
    "                                      'redCards','victories','Color'])\n",
    "    tmpPlayer['weight']=[tmpSet['weight'].mean()]\n",
    "    tmpPlayer['height']=[tmpSet['height'].mean()]\n",
    "    tmpPlayer['defeats']=[tmpSet['defeats'].sum()]\n",
    "    tmpPlayer['goals']=[tmpSet['goals'].sum()]\n",
    "    tmpPlayer['yellowCards']=[tmpSet['yellowCards'].sum()]\n",
    "    tmpPlayer['redCards']=[tmpSet['redCards'].sum()]\n",
    "    tmpPlayer['victories']=[tmpSet['victories'].sum()]\n",
    "    tmpPlayer['Color'] = 'Black' if (tmpSet['rater1'].mean()+tmpSet['rater2'].mean())/2>0.5 else 'White'\n",
    "    \n",
    "    mDataFrames.append(tmpPlayer)\n",
    "cleanData = pd.concat(mDataFrames,axis=0, ignore_index=True)\n",
    "cleanData = cleanData.dropna()"
   ]
  },
  {
   "cell_type": "markdown",
   "metadata": {},
   "source": [
    "With the generated data sets for training, we will create a random Forest"
   ]
  },
  {
   "cell_type": "code",
   "execution_count": 6,
   "metadata": {
    "collapsed": false
   },
   "outputs": [],
   "source": [
    "#Generate a training dataset\n",
    "features = cleanData.columns[cleanData.columns!=cleanData.columns[-1]]\n",
    "\n",
    "train = cleanData[features]\n",
    "\n",
    "labels_str = cleanData['Color']\n",
    "labels = np.asarray(labels_str, dtype=\"|S6\")"
   ]
  },
  {
   "cell_type": "markdown",
   "metadata": {},
   "source": [
    "Now we declare our model, and perform a 5-fold cross validation on the full data set:"
   ]
  },
  {
   "cell_type": "code",
   "execution_count": 7,
   "metadata": {
    "collapsed": false
   },
   "outputs": [
    {
     "data": {
      "text/plain": [
       "array([ 0.84050633,  0.84810127,  0.86075949,  0.84771574,  0.81218274])"
      ]
     },
     "execution_count": 7,
     "metadata": {},
     "output_type": "execute_result"
    }
   ],
   "source": [
    "rfc = RandomForestClassifier(n_estimators=10)\n",
    "cScore = cross_val_score(rfc,train,labels,cv=5)\n",
    "cScore"
   ]
  },
  {
   "cell_type": "markdown",
   "metadata": {},
   "source": [
    "We can simply take the average of this accuracy to obtain an overall accuracy prediction:"
   ]
  },
  {
   "cell_type": "code",
   "execution_count": 8,
   "metadata": {
    "collapsed": false
   },
   "outputs": [
    {
     "data": {
      "text/plain": [
       "0.84185311315299105"
      ]
     },
     "execution_count": 8,
     "metadata": {},
     "output_type": "execute_result"
    }
   ],
   "source": [
    "cScore.mean()"
   ]
  },
  {
   "cell_type": "markdown",
   "metadata": {},
   "source": [
    "Let's sheck what is the importance per feature, according to the random forest, when we use all the variables of the original data set."
   ]
  },
  {
   "cell_type": "code",
   "execution_count": 9,
   "metadata": {
    "collapsed": false
   },
   "outputs": [
    {
     "data": {
      "text/plain": [
       "array([ 0.13898929,  0.13943938,  0.18010573,  0.15596177,  0.14960783,\n",
       "        0.06654286,  0.16935315])"
      ]
     },
     "execution_count": 9,
     "metadata": {},
     "output_type": "execute_result"
    },
    {
     "data": {
      "image/png": "[encoded data removed]",
      "text/plain": [
       "<matplotlib.figure.Figure at 0x7f0d65ccf908>"
      ]
     },
     "metadata": {},
     "output_type": "display_data"
    }
   ],
   "source": [
    "#res = pd.Series(rfc.predict(train)).apply(lambda x: float(x))\n",
    "rfc.fit(train,labels)\n",
    "#rfc.score(train,labels)\n",
    "importances = rfc.feature_importances_\n",
    "width = 10/len(importances)*0.9\n",
    "ind = np.linspace(0,10,len(importances))\n",
    "plt.bar(ind, importances*100, width, color='g')\n",
    "plt.xticks(ind+width/2, features)\n",
    "plt.ylabel('Importance (%)')\n",
    "plt.ylim([0,max(importances*100)+10])\n",
    "importances"
   ]
  },
  {
   "cell_type": "markdown",
   "metadata": {},
   "source": [
    "This seems to tell us that the most important feauture for the set are the victories."
   ]
  },
  {
   "cell_type": "markdown",
   "metadata": {},
   "source": [
    "# Bonus"
   ]
  },
  {
   "cell_type": "markdown",
   "metadata": {},
   "source": [
    "It is time to take a look to the learning curves for two different sets of input variables: The script looks long, but is actually fairly simple. First, we generate a set of random indexes to divide easily the data set:"
   ]
  },
  {
   "cell_type": "code",
   "execution_count": 10,
   "metadata": {
    "collapsed": true
   },
   "outputs": [],
   "source": [
    "shuffledIndexes = train.iloc[np.random.permutation(len(train))].index"
   ]
  },
  {
   "cell_type": "markdown",
   "metadata": {},
   "source": [
    "Now, we increasingly build random forests, and evaluate their performance on the full dataset."
   ]
  },
  {
   "cell_type": "code",
   "execution_count": 11,
   "metadata": {
    "collapsed": false
   },
   "outputs": [],
   "source": [
    "vals = 0\n",
    "results1 = []\n",
    "results2 = []\n",
    "disc=20\n",
    "\n",
    "N = len(train.columns)\n",
    "while vals < len(shuffledIndexes):\n",
    "    vals = vals + np.ceil(len(shuffledIndexes)/disc)\n",
    "    if(vals > np.ceil(len(shuffledIndexes))):\n",
    "        vals = np.ceil(len(shuffledIndexes))\n",
    "    vals = int(vals)\n",
    "    rfc1 = RandomForestClassifier(n_estimators=10)\n",
    "    rfc2 = RandomForestClassifier(n_estimators=10)\n",
    "    train_lr=train.loc[shuffledIndexes[0:vals]]\n",
    "    labels_lr=np.asarray(cleanData.loc[shuffledIndexes[0:vals]]['Color'], dtype=\"|S6\")\n",
    "    rfc1.fit(train_lr,labels_lr)\n",
    "    #Test always in the full data set\n",
    "    results1.append(rfc1.score(train,labels))\n",
    "    rfc2.fit(train_lr[train_lr.columns[0:N-2]],labels_lr)\n",
    "    #Test always in the full data set\n",
    "    results2.append(rfc2.score(train[train.columns[0:N-2]],labels))\n",
    "percentage = np.linspace(0,100,disc)"
   ]
  },
  {
   "cell_type": "code",
   "execution_count": 12,
   "metadata": {
    "collapsed": false
   },
   "outputs": [
    {
     "data": {
      "image/png": "[encoded data removed]",
      "text/plain": [
       "<matplotlib.figure.Figure at 0x7f0d65cdfcf8>"
      ]
     },
     "metadata": {},
     "output_type": "display_data"
    }
   ],
   "source": [
    "plt.plot(percentage,results1,percentage,results2)\n",
    "plt.xlabel('Percentage of data used (%)')\n",
    "plt.ylabel('Percentage of correct predictions (%/100)')\n",
    "plt.show()"
   ]
  },
  {
   "cell_type": "markdown",
   "metadata": {},
   "source": [
    "Notice that the percentage of correct predictions at the end of the plot is close to 100%. There is clearly an overfit of the data, But this is to be expected as the test set starts to be the same as the train set. We can, however, perform again a 5 fold cross validation on the small sets and output only the average of this cross validation:"
   ]
  },
  {
   "cell_type": "code",
   "execution_count": 19,
   "metadata": {
    "collapsed": false
   },
   "outputs": [],
   "source": [
    "vals = 0\n",
    "results1p = []\n",
    "results2p = []\n",
    "disc=20\n",
    "\n",
    "N = len(train.columns)\n",
    "while vals < len(shuffledIndexes):\n",
    "    vals = vals + np.ceil(len(shuffledIndexes)/disc)\n",
    "    if(vals > np.ceil(len(shuffledIndexes))):\n",
    "        vals = np.ceil(len(shuffledIndexes))\n",
    "    vals = int(vals)\n",
    "    rfc1 = RandomForestClassifier(n_estimators=10)\n",
    "    rfc2 = RandomForestClassifier(n_estimators=10)\n",
    "    train_lr=train.loc[shuffledIndexes[0:vals]]\n",
    "    labels_lr=np.asarray(cleanData.loc[shuffledIndexes[0:vals]]['Color'], dtype=\"|S6\")\n",
    "    rfc1.fit(train_lr,labels_lr)\n",
    "    #Test always in the full data set\n",
    "    results1p.append(cross_val_score(rfc,train_lr,labels_lr,cv=5).mean())\n",
    "    #Data set with two columns less\n",
    "    rfc2.fit(train_lr[train_lr.columns[0:N-2]],labels_lr)\n",
    "    #Test always in the full data set\n",
    "    results2p.append(cross_val_score(rfc2,train_lr[train.columns[0:N-2]],labels_lr).mean())\n",
    "percentage = np.linspace(0,100,disc)"
   ]
  },
  {
   "cell_type": "code",
   "execution_count": 20,
   "metadata": {
    "collapsed": false
   },
   "outputs": [
    {
     "data": {
      "image/png": "[encoded data removed]",
      "text/plain": [
       "<matplotlib.figure.Figure at 0x7f0d60d4a390>"
      ]
     },
     "metadata": {},
     "output_type": "display_data"
    }
   ],
   "source": [
    "plt.plot(percentage,results1p,percentage,results2p)\n",
    "plt.xlabel('Percentage of data used (%)')\n",
    "plt.ylabel('Percentage of correct predictions (%/100)')\n",
    "plt.show()"
   ]
  },
  {
   "cell_type": "markdown",
   "metadata": {
    "collapsed": false
   },
   "source": [
    "# To the second part"
   ]
  },
  {
   "cell_type": "markdown",
   "metadata": {
    "collapsed": true
   },
   "source": [
    "Now is time to prepare an unsupervised machine learning method. We will take the safe route and we will try to do it with a KMeans classifier. We will ask the classifier to cluster the data only in two groups:"
   ]
  },
  {
   "cell_type": "code",
   "execution_count": 21,
   "metadata": {
    "collapsed": false
   },
   "outputs": [
    {
     "data": {
      "text/plain": [
       "KMeans(algorithm='auto', copy_x=True, init='k-means++', max_iter=300,\n",
       "    n_clusters=2, n_init=10, n_jobs=1, precompute_distances='auto',\n",
       "    random_state=None, tol=0.0001, verbose=0)"
      ]
     },
     "execution_count": 21,
     "metadata": {},
     "output_type": "execute_result"
    }
   ],
   "source": [
    "#myCluster = KMeans(init='random', n_clusters=2, n_init=10)\n",
    "myCluster = KMeans(n_clusters=2, n_init=10)\n",
    "myCluster.fit(train)"
   ]
  },
  {
   "cell_type": "markdown",
   "metadata": {},
   "source": [
    "Now, let's receive the prediction of the cluster that the data belongs to. The function will return either 0 or 1 as labels of the data. We turn them into the two labels that the variable label_str contains:"
   ]
  },
  {
   "cell_type": "code",
   "execution_count": 22,
   "metadata": {
    "collapsed": false
   },
   "outputs": [],
   "source": [
    "prediction = myCluster.predict(train)\n",
    "prediction = pd.Series(prediction)\n",
    "prediction = prediction.apply(lambda x: labels_str.unique()[0] if x==1 else labels_str.unique()[1])\n",
    "prediction.index = labels_str.index"
   ]
  },
  {
   "cell_type": "markdown",
   "metadata": {},
   "source": [
    "Now, as we could by mistake used the wrong label, we simply check in which entries they agree and in which ones they don't and we take the maximum between that percentage, called acc, and 1-acc which would be the accuracy with the labels switched"
   ]
  },
  {
   "cell_type": "code",
   "execution_count": 23,
   "metadata": {
    "collapsed": false
   },
   "outputs": [
    {
     "data": {
      "text/plain": [
       "0.67207298530157122"
      ]
     },
     "execution_count": 23,
     "metadata": {},
     "output_type": "execute_result"
    }
   ],
   "source": [
    "acc = (prediction==labels_str).sum()/len(labels_str)\n",
    "\n",
    "acc = max(acc,1-acc)\n",
    "acc"
   ]
  },
  {
   "cell_type": "markdown",
   "metadata": {},
   "source": [
    "Even though it is best way to see the error of the prediction, in the case of only 2 clusters it is feasible to calculate the error like this, and gives us an idea that the possibility of the description of the player being bound to his skin color is low.\n",
    "\n",
    "Now, we do the same but removing features, and using rather the silhouette_score:"
   ]
  },
  {
   "cell_type": "code",
   "execution_count": 24,
   "metadata": {
    "collapsed": false
   },
   "outputs": [
    {
     "data": {
      "text/plain": [
       "0.00016349801862945148"
      ]
     },
     "execution_count": 24,
     "metadata": {},
     "output_type": "execute_result"
    }
   ],
   "source": [
    "silhouette_score(train,labels_str)"
   ]
  },
  {
   "cell_type": "code",
   "execution_count": null,
   "metadata": {
    "collapsed": true
   },
   "outputs": [],
   "source": []
  }
 ],
 "metadata": {
  "kernelspec": {
   "display_name": "Python 3",
   "language": "python",
   "name": "python3"
  },
  "language_info": {
   "codemirror_mode": {
    "name": "ipython",
    "version": 3
   },
   "file_extension": ".py",
   "mimetype": "text/x-python",
   "name": "python",
   "nbconvert_exporter": "python",
   "pygments_lexer": "ipython3",
   "version": "3.5.2"
  }
 },
 "nbformat": 4,
 "nbformat_minor": 1
}
