{
 "cells": [
  {
   "cell_type": "markdown",
   "metadata": {},
   "source": [
    "# Background"
   ]
  },
  {
   "cell_type": "markdown",
   "metadata": {},
   "source": [
    "In this homework we will practice with interactive visualization, which is the key ingredient of many successful viz (especially when it comes to infographics). You will be working with the P3 database of the SNSF (Swiss National Science Foundation). As you can see from their entry page, P3 already offers some ready-made viz, but we want to build a more advanced one for the sake of quick data exploration. Therefore, start by downloading the raw data (just for the Grant Export), and read carefully the documentation to understand the schema. Install then Folium to deal with geographical data (HINT: it is not available in your standard Anaconda environment, therefore search on the Web how to install it easily!) The README file of Folium comes with very clear examples, and links to their own iPython Notebooks -- make good use of this information. For your own convenience, in this same directory you can already find a TopoJSON file with the geo-coordinates of each Swiss canton (which can be used as an overlay on the Folium maps)."
   ]
  },
  {
   "cell_type": "markdown",
   "metadata": {},
   "source": [
    "# Assignment"
   ]
  },
  {
   "cell_type": "markdown",
   "metadata": {},
   "source": [
    "Build a Choropleth map which shows intuitively (i.e., use colors wisely) how much grant money goes to each Swiss canton. To do so, you will need to use the provided TopoJSON file, combined with the Choropleth map example you can find in the Folium README file.\n",
    "HINT: the P3 database is formed by entries which assign a grant (and its approved amount) to a University name. Therefore you will need a smart strategy to go from University to Canton name. The Geonames Full Text Search API in JSON can help you with this -- try to use it as much as possible to build the canton mappings that you need. For those universities for which you cannot find a mapping via the API, you are then allowed to build it manually -- feel free to stop by the time you mapped the top-95% of the universities. I also recommend you to use an intermediate viz step for debugging purposes, showing all the universties as markers in your map (e.g., if you don't select the right results from the Geonames API, some of your markers might be placed on nearby countries...)\n",
    "\n",
    "BONUS: using the map you have just built, and the geographical information contained in it, could you give a rough estimate of the difference in research funding between the areas divided by the Röstigraben?"
   ]
  },
  {
   "cell_type": "markdown",
   "metadata": {},
   "source": [
    "# Getting started"
   ]
  },
  {
   "cell_type": "markdown",
   "metadata": {},
   "source": [
    "## Imports"
   ]
  },
  {
   "cell_type": "code",
   "execution_count": 81,
   "metadata": {
    "collapsed": false
   },
   "outputs": [],
   "source": [
    "%matplotlib inline\n",
    "import pandas as pd\n",
    "import numpy as np\n",
    "import scipy.stats as stats\n",
    "import folium\n",
    "import json\n",
    "import urllib\n",
    "\n",
    "from googleplaces import GooglePlaces, types, lang"
   ]
  },
  {
   "cell_type": "markdown",
   "metadata": {
    "collapsed": true
   },
   "source": [
    "## Read data from grant report"
   ]
  },
  {
   "cell_type": "code",
   "execution_count": 67,
   "metadata": {
    "collapsed": false
   },
   "outputs": [
    {
     "data": {
      "text/html": [
       "<div>\n",
       "<table border=\"1\" class=\"dataframe\">\n",
       "  <thead>\n",
       "    <tr style=\"text-align: right;\">\n",
       "      <th></th>\n",
       "      <th>﻿\"Project Number\"</th>\n",
       "      <th>Project Title</th>\n",
       "      <th>Project Title English</th>\n",
       "      <th>Responsible Applicant</th>\n",
       "      <th>Funding Instrument</th>\n",
       "      <th>Funding Instrument Hierarchy</th>\n",
       "      <th>Institution</th>\n",
       "      <th>University</th>\n",
       "      <th>Discipline Number</th>\n",
       "      <th>Discipline Name</th>\n",
       "      <th>Discipline Name Hierarchy</th>\n",
       "      <th>Start Date</th>\n",
       "      <th>End Date</th>\n",
       "      <th>Approved Amount</th>\n",
       "      <th>Keywords</th>\n",
       "    </tr>\n",
       "  </thead>\n",
       "  <tbody>\n",
       "    <tr>\n",
       "      <th>0</th>\n",
       "      <td>1</td>\n",
       "      <td>Schlussband (Bd. VI) der Jacob Burckhardt-Biog...</td>\n",
       "      <td></td>\n",
       "      <td>Kaegi Werner</td>\n",
       "      <td>Project funding (Div. I-III)</td>\n",
       "      <td>Project funding</td>\n",
       "      <td></td>\n",
       "      <td>Nicht zuteilbar - NA</td>\n",
       "      <td>10302</td>\n",
       "      <td>Swiss history</td>\n",
       "      <td>Human and Social Sciences;Theology &amp; religious...</td>\n",
       "      <td>01.10.1975</td>\n",
       "      <td>30.09.1976</td>\n",
       "      <td>11619.00</td>\n",
       "      <td></td>\n",
       "    </tr>\n",
       "    <tr>\n",
       "      <th>1</th>\n",
       "      <td>4</td>\n",
       "      <td>Batterie de tests à l'usage des enseignants po...</td>\n",
       "      <td></td>\n",
       "      <td>Massarenti Léonard</td>\n",
       "      <td>Project funding (Div. I-III)</td>\n",
       "      <td>Project funding</td>\n",
       "      <td>Faculté de Psychologie et des Sciences de l'Ed...</td>\n",
       "      <td>Université de Genève - GE</td>\n",
       "      <td>10104</td>\n",
       "      <td>Educational science and Pedagogy</td>\n",
       "      <td>Human and Social Sciences;Psychology, educatio...</td>\n",
       "      <td>01.10.1975</td>\n",
       "      <td>30.09.1976</td>\n",
       "      <td>41022.00</td>\n",
       "      <td></td>\n",
       "    </tr>\n",
       "    <tr>\n",
       "      <th>2</th>\n",
       "      <td>5</td>\n",
       "      <td>Kritische Erstausgabe der \"Evidentiae contra D...</td>\n",
       "      <td></td>\n",
       "      <td>Kommission für das Corpus philosophorum medii ...</td>\n",
       "      <td>Project funding (Div. I-III)</td>\n",
       "      <td>Project funding</td>\n",
       "      <td>Kommission für das Corpus philosophorum medii ...</td>\n",
       "      <td>NPO (Biblioth., Museen, Verwalt.) - NPO</td>\n",
       "      <td>10101</td>\n",
       "      <td>Philosophy</td>\n",
       "      <td>Human and Social Sciences;Linguistics and lite...</td>\n",
       "      <td>01.03.1976</td>\n",
       "      <td>28.02.1985</td>\n",
       "      <td>79732.00</td>\n",
       "      <td></td>\n",
       "    </tr>\n",
       "    <tr>\n",
       "      <th>3</th>\n",
       "      <td>6</td>\n",
       "      <td>Katalog der datierten Handschriften in der Sch...</td>\n",
       "      <td></td>\n",
       "      <td>Burckhardt Max</td>\n",
       "      <td>Project funding (Div. I-III)</td>\n",
       "      <td>Project funding</td>\n",
       "      <td>Abt. Handschriften und Alte Drucke Bibliothek ...</td>\n",
       "      <td>Universität Basel - BS</td>\n",
       "      <td>10302</td>\n",
       "      <td>Swiss history</td>\n",
       "      <td>Human and Social Sciences;Theology &amp; religious...</td>\n",
       "      <td>01.10.1975</td>\n",
       "      <td>30.09.1976</td>\n",
       "      <td>52627.00</td>\n",
       "      <td></td>\n",
       "    </tr>\n",
       "    <tr>\n",
       "      <th>4</th>\n",
       "      <td>7</td>\n",
       "      <td>Wissenschaftliche Mitarbeit am Thesaurus Lingu...</td>\n",
       "      <td></td>\n",
       "      <td>Schweiz. Thesauruskommission</td>\n",
       "      <td>Project funding (Div. I-III)</td>\n",
       "      <td>Project funding</td>\n",
       "      <td>Schweiz. Thesauruskommission</td>\n",
       "      <td>NPO (Biblioth., Museen, Verwalt.) - NPO</td>\n",
       "      <td>10303</td>\n",
       "      <td>Ancient history and Classical studies</td>\n",
       "      <td>Human and Social Sciences;Theology &amp; religious...</td>\n",
       "      <td>01.01.1976</td>\n",
       "      <td>30.04.1978</td>\n",
       "      <td>120042.00</td>\n",
       "      <td></td>\n",
       "    </tr>\n",
       "  </tbody>\n",
       "</table>\n",
       "</div>"
      ],
      "text/plain": [
       "   ﻿\"Project Number\"                                      Project Title  \\\n",
       "0                  1  Schlussband (Bd. VI) der Jacob Burckhardt-Biog...   \n",
       "1                  4  Batterie de tests à l'usage des enseignants po...   \n",
       "2                  5  Kritische Erstausgabe der \"Evidentiae contra D...   \n",
       "3                  6  Katalog der datierten Handschriften in der Sch...   \n",
       "4                  7  Wissenschaftliche Mitarbeit am Thesaurus Lingu...   \n",
       "\n",
       "  Project Title English                              Responsible Applicant  \\\n",
       "0                                                             Kaegi Werner   \n",
       "1                                                       Massarenti Léonard   \n",
       "2                        Kommission für das Corpus philosophorum medii ...   \n",
       "3                                                           Burckhardt Max   \n",
       "4                                             Schweiz. Thesauruskommission   \n",
       "\n",
       "             Funding Instrument Funding Instrument Hierarchy  \\\n",
       "0  Project funding (Div. I-III)              Project funding   \n",
       "1  Project funding (Div. I-III)              Project funding   \n",
       "2  Project funding (Div. I-III)              Project funding   \n",
       "3  Project funding (Div. I-III)              Project funding   \n",
       "4  Project funding (Div. I-III)              Project funding   \n",
       "\n",
       "                                         Institution  \\\n",
       "0                                                      \n",
       "1  Faculté de Psychologie et des Sciences de l'Ed...   \n",
       "2  Kommission für das Corpus philosophorum medii ...   \n",
       "3  Abt. Handschriften und Alte Drucke Bibliothek ...   \n",
       "4                       Schweiz. Thesauruskommission   \n",
       "\n",
       "                                University  Discipline Number  \\\n",
       "0                     Nicht zuteilbar - NA              10302   \n",
       "1                Université de Genève - GE              10104   \n",
       "2  NPO (Biblioth., Museen, Verwalt.) - NPO              10101   \n",
       "3                   Universität Basel - BS              10302   \n",
       "4  NPO (Biblioth., Museen, Verwalt.) - NPO              10303   \n",
       "\n",
       "                         Discipline Name  \\\n",
       "0                          Swiss history   \n",
       "1       Educational science and Pedagogy   \n",
       "2                             Philosophy   \n",
       "3                          Swiss history   \n",
       "4  Ancient history and Classical studies   \n",
       "\n",
       "                           Discipline Name Hierarchy  Start Date    End Date  \\\n",
       "0  Human and Social Sciences;Theology & religious...  01.10.1975  30.09.1976   \n",
       "1  Human and Social Sciences;Psychology, educatio...  01.10.1975  30.09.1976   \n",
       "2  Human and Social Sciences;Linguistics and lite...  01.03.1976  28.02.1985   \n",
       "3  Human and Social Sciences;Theology & religious...  01.10.1975  30.09.1976   \n",
       "4  Human and Social Sciences;Theology & religious...  01.01.1976  30.04.1978   \n",
       "\n",
       "  Approved Amount Keywords  \n",
       "0        11619.00           \n",
       "1        41022.00           \n",
       "2        79732.00           \n",
       "3        52627.00           \n",
       "4       120042.00           "
      ]
     },
     "execution_count": 67,
     "metadata": {},
     "output_type": "execute_result"
    }
   ],
   "source": [
    "# read csv file. we notice that a lot of NaN value is present, so we replace them with empty field for better visual\n",
    "grantReport = pd.read_csv('data/P3_GrantExport.csv', delimiter=';')\n",
    "grantReport = grantReport.fillna('')\n",
    "grantReport.head()"
   ]
  },
  {
   "cell_type": "markdown",
   "metadata": {},
   "source": [
    "## Clean up"
   ]
  },
  {
   "cell_type": "markdown",
   "metadata": {},
   "source": [
    "From the chart above, we are interested in nothing but two columns: _University_ and _Approved Amount_."
   ]
  },
  {
   "cell_type": "code",
   "execution_count": 69,
   "metadata": {
    "collapsed": false
   },
   "outputs": [
    {
     "data": {
      "text/html": [
       "<div>\n",
       "<table border=\"1\" class=\"dataframe\">\n",
       "  <thead>\n",
       "    <tr style=\"text-align: right;\">\n",
       "      <th></th>\n",
       "      <th>Approved Amount</th>\n",
       "      <th>University</th>\n",
       "    </tr>\n",
       "  </thead>\n",
       "  <tbody>\n",
       "    <tr>\n",
       "      <th>0</th>\n",
       "      <td>11619.00</td>\n",
       "      <td>Nicht zuteilbar - NA</td>\n",
       "    </tr>\n",
       "    <tr>\n",
       "      <th>1</th>\n",
       "      <td>41022.00</td>\n",
       "      <td>Université de Genève - GE</td>\n",
       "    </tr>\n",
       "    <tr>\n",
       "      <th>2</th>\n",
       "      <td>79732.00</td>\n",
       "      <td>NPO (Biblioth., Museen, Verwalt.) - NPO</td>\n",
       "    </tr>\n",
       "    <tr>\n",
       "      <th>3</th>\n",
       "      <td>52627.00</td>\n",
       "      <td>Universität Basel - BS</td>\n",
       "    </tr>\n",
       "    <tr>\n",
       "      <th>4</th>\n",
       "      <td>120042.00</td>\n",
       "      <td>NPO (Biblioth., Museen, Verwalt.) - NPO</td>\n",
       "    </tr>\n",
       "  </tbody>\n",
       "</table>\n",
       "</div>"
      ],
      "text/plain": [
       "  Approved Amount                               University\n",
       "0        11619.00                     Nicht zuteilbar - NA\n",
       "1        41022.00                Université de Genève - GE\n",
       "2        79732.00  NPO (Biblioth., Museen, Verwalt.) - NPO\n",
       "3        52627.00                   Universität Basel - BS\n",
       "4       120042.00  NPO (Biblioth., Museen, Verwalt.) - NPO"
      ]
     },
     "execution_count": 69,
     "metadata": {},
     "output_type": "execute_result"
    }
   ],
   "source": [
    "grantReport = grantReport[['Approved Amount', 'University']]\n",
    "grantReport.head()"
   ]
  },
  {
   "cell_type": "markdown",
   "metadata": {},
   "source": [
    "First we check the universities."
   ]
  },
  {
   "cell_type": "code",
   "execution_count": 71,
   "metadata": {
    "collapsed": false
   },
   "outputs": [
    {
     "data": {
      "text/plain": [
       "(78,)"
      ]
     },
     "execution_count": 71,
     "metadata": {},
     "output_type": "execute_result"
    }
   ],
   "source": [
    "grantReport.University.unique().shape"
   ]
  },
  {
   "cell_type": "markdown",
   "metadata": {},
   "source": [
    "There are not so many different universities out there. So we list all of them to check outliers."
   ]
  },
  {
   "cell_type": "code",
   "execution_count": 72,
   "metadata": {
    "collapsed": false
   },
   "outputs": [
    {
     "data": {
      "text/plain": [
       "array(['Nicht zuteilbar - NA', 'Université de Genève - GE',\n",
       "       'NPO (Biblioth., Museen, Verwalt.) - NPO', 'Universität Basel - BS',\n",
       "       'Université de Fribourg - FR', 'Universität Zürich - ZH',\n",
       "       'Université de Lausanne - LA', 'Universität Bern - BE',\n",
       "       'Eidg. Forschungsanstalt für Wald,Schnee,Land - WSL',\n",
       "       'Université de Neuchâtel - NE', 'ETH Zürich - ETHZ',\n",
       "       'Inst. de Hautes Etudes Internat. et du Dév - IHEID',\n",
       "       'Universität St. Gallen - SG', 'Weitere Institute - FINST',\n",
       "       'Firmen/Privatwirtschaft - FP',\n",
       "       'Pädagogische Hochschule Graubünden - PHGR', 'EPF Lausanne - EPFL',\n",
       "       'Pädagogische Hochschule Zürich - PHZFH', 'Universität Luzern - LU',\n",
       "       'Schweiz. Institut für Kunstwissenschaft - SIK-ISEA',\n",
       "       'SUP della Svizzera italiana - SUPSI',\n",
       "       'HES de Suisse occidentale - HES-SO',\n",
       "       'Robert Walser-Stiftung Bern - RWS', 'Paul Scherrer Institut - PSI',\n",
       "       'Pädagogische Hochschule St. Gallen - PHSG',\n",
       "       'Eidg. Anstalt für Wasserversorgung - EAWAG',\n",
       "       'Eidg. Material und Prüfungsanstalt - EMPA',\n",
       "       'Physikal.-Meteorolog. Observatorium Davos - PMOD',\n",
       "       'Berner Fachhochschule - BFH',\n",
       "       'Swiss Center for Electronics and Microtech. - CSEM',\n",
       "       'Weitere Spitäler - ASPIT', 'AO Research Institute - AORI',\n",
       "       'Allergie- und Asthmaforschung - SIAF',\n",
       "       'Forschungsinstitut für biologischen Landbau - FIBL',\n",
       "       'Friedrich Miescher Institute - FMI',\n",
       "       'Kantonsspital St. Gallen - KSPSG',\n",
       "       'Forschungsanstalten Agroscope - AGS',\n",
       "       'Ente Ospedaliero Cantonale - EOC',\n",
       "       'Inst. universit. romand de Santé au Travail - IST',\n",
       "       'Eidg. Hochschulinstitut für Berufsbildung - EHB',\n",
       "       'Zürcher Fachhochschule (ohne PH) - ZFH',\n",
       "       'Università della Svizzera italiana - USI',\n",
       "       'Institut für Kulturforschung Graubünden - IKG',\n",
       "       'Fachhochschule Nordwestschweiz (ohne PH) - FHNW',\n",
       "       'Interkant. Hochschule für Heilpädagogik ZH - HfH', '',\n",
       "       \"Centre de rech. sur l'environnement alpin - CREALP\",\n",
       "       'Idiap Research Institute - IDIAP',\n",
       "       'Pädagogische Hochschule Bern - PHBern',\n",
       "       'Institut Universitaire Kurt Bösch - IUKB',\n",
       "       'Schweizer Paraplegiker Forschung - SPF',\n",
       "       'Hochschule Luzern - HSLU',\n",
       "       'Forschungsinstitut für Opthalmologie - IRO',\n",
       "       'Haute école pédagogique du canton de Vaud - HEPL',\n",
       "       'Fachhochschule Ostschweiz - FHO',\n",
       "       'Inst. Suisse de Spéléologie et Karstologie - ISSKA',\n",
       "       'Swiss Institute of Bioinformatics - SIB',\n",
       "       'Haute école pédagogique BE, JU, NE - HEPBEJUNE',\n",
       "       'Pädagogische Hochschule Luzern - PHLU',\n",
       "       'Forschungskommission SAGW', 'Istituto Svizzero di Roma - ISR',\n",
       "       'Pädag. Hochschule Tessin (Teilschule SUPSI) - ASP',\n",
       "       'Haute école pédagogique fribourgeoise - HEPFR',\n",
       "       'Pädagogische Hochschule Schwyz - PHSZ',\n",
       "       'Pädagogische Hochschule Thurgau - PHTG',\n",
       "       'Biotechnologie Institut Thurgau - BITG',\n",
       "       'Fachhochschule Kalaidos - FHKD',\n",
       "       'Schweizer Kompetenzzentrum Sozialwissensch. - FORS',\n",
       "       'Pädagogische Hochschule Wallis - PHVS',\n",
       "       'Schweiz. Hochschule für Logopädie Rorschach - SHLR',\n",
       "       'Pädagogische Hochschule Zug - PHZG',\n",
       "       'Instituto Ricerche Solari Locarno - IRSOL',\n",
       "       'Franklin University Switzerland - FUS',\n",
       "       'Pädagogische Hochschule Schaffhausen - PHSH',\n",
       "       'Pädagogische Hochschule Nordwestschweiz - PHFHNW',\n",
       "       'Staatsunabh. Theologische Hochschule Basel - STHB',\n",
       "       'Facoltà di Teologia di Lugano - FTL',\n",
       "       'Fernfachhochschule Schweiz (Mitglied SUPSI) - FFHS'], dtype=object)"
      ]
     },
     "execution_count": 72,
     "metadata": {},
     "output_type": "execute_result"
    }
   ],
   "source": [
    "uni = grantReport.University.unique()\n",
    "uni"
   ]
  },
  {
   "cell_type": "markdown",
   "metadata": {},
   "source": [
    "We see some obvious outliers there, such as an empty '', 'Nicht zuteilbar - NA', 'Weitere Institute - FINST'(_other institute_), and 'Weitere Spitäler - ASPIT'(_other hospital_)"
   ]
  },
  {
   "cell_type": "code",
   "execution_count": 73,
   "metadata": {
    "collapsed": false
   },
   "outputs": [],
   "source": [
    "invalidUniversities = ['Nicht zuteilbar - NA', 'Weitere Institute - FINST', 'Weitere Spitäler - ASPIT']\n",
    "grantReport.University = grantReport.University.replace(invalidUniversities, '')\n",
    "grantReport = grantReport[grantReport.University != '']"
   ]
  },
  {
   "cell_type": "code",
   "execution_count": 74,
   "metadata": {
    "collapsed": false
   },
   "outputs": [
    {
     "data": {
      "text/plain": [
       "(74,)"
      ]
     },
     "execution_count": 74,
     "metadata": {},
     "output_type": "execute_result"
    }
   ],
   "source": [
    "uni = grantReport.University.unique()\n",
    "uni.shape"
   ]
  },
  {
   "cell_type": "markdown",
   "metadata": {},
   "source": [
    "Great, we have kicked out outliers in University column. Now we do the same for the _Approved Amount_."
   ]
  },
  {
   "cell_type": "code",
   "execution_count": 75,
   "metadata": {
    "collapsed": false
   },
   "outputs": [
    {
     "data": {
      "text/plain": [
       "12815436933.020002"
      ]
     },
     "execution_count": 75,
     "metadata": {},
     "output_type": "execute_result"
    }
   ],
   "source": [
    "# we take an iterative way. valid amounts should be able to be transfered into floats with 'astype' method. do this:\n",
    "# sum(grantReport['Approved Amount'].astype(float))\n",
    "# when we try the above code, python returns an error:  could not convert string to float: 'data not included in P3'. we kick this out.\n",
    "invalidAmounts = ['data not included in P3']\n",
    "grantReport['Approved Amount'] = grantReport['Approved Amount'].replace(invalidAmounts, '')\n",
    "grantReport = grantReport[grantReport['Approved Amount'] != '']\n",
    "sum(grantReport['Approved Amount'].astype(float))\n",
    "# do the 'sum' code again. this time it works! seems we have only one type of invalid entry in 'Approved Amount'."
   ]
  },
  {
   "cell_type": "code",
   "execution_count": 76,
   "metadata": {
    "collapsed": false
   },
   "outputs": [
    {
     "data": {
      "text/plain": [
       "Approved Amount    48159\n",
       "University         48159\n",
       "dtype: int64"
      ]
     },
     "execution_count": 76,
     "metadata": {},
     "output_type": "execute_result"
    }
   ],
   "source": [
    "grantReport.count()"
   ]
  },
  {
   "cell_type": "markdown",
   "metadata": {},
   "source": [
    "## Assign universities to cantons"
   ]
  },
  {
   "cell_type": "code",
   "execution_count": 77,
   "metadata": {
    "collapsed": false
   },
   "outputs": [
    {
     "data": {
      "text/plain": [
       "(74,)"
      ]
     },
     "execution_count": 77,
     "metadata": {},
     "output_type": "execute_result"
    }
   ],
   "source": [
    "uni.shape"
   ]
  },
  {
   "cell_type": "markdown",
   "metadata": {},
   "source": [
    "### Import Google Map Services"
   ]
  },
  {
   "cell_type": "code",
   "execution_count": 89,
   "metadata": {
    "collapsed": false
   },
   "outputs": [],
   "source": [
    "# change key everytime\n",
    "API_KEY = 'USE_YOUR_KEY'\n",
    "\n",
    "if API_KEY != 'USE_YOUR_KEY':\n",
    "    google_places = GooglePlaces(API_KEY)        "
   ]
  },
  {
   "cell_type": "code",
   "execution_count": 90,
   "metadata": {
    "collapsed": false
   },
   "outputs": [
    {
     "data": {
      "text/plain": [
       "<Place name=\"University of Geneva\", lat=46.199444, lng=6.1451157>"
      ]
     },
     "execution_count": 90,
     "metadata": {},
     "output_type": "execute_result"
    }
   ],
   "source": [
    "response = google_places.text_search(query = uni[0])\n",
    "if response.places:\n",
    "    place = response.places[0]\n",
    "place"
   ]
  },
  {
   "cell_type": "code",
   "execution_count": 98,
   "metadata": {
    "collapsed": false
   },
   "outputs": [
    {
     "data": {
      "text/plain": [
       "{'address_components': [{'long_name': 'Geneva',\n",
       "   'short_name': 'Geneva',\n",
       "   'types': ['locality', 'political']},\n",
       "  {'long_name': 'Centre-Plainpalais-Acacias',\n",
       "   'short_name': 'Centre-Plainpalais-Acacias',\n",
       "   'types': ['sublocality_level_1', 'sublocality', 'political']},\n",
       "  {'long_name': 'Genève',\n",
       "   'short_name': 'Genève',\n",
       "   'types': ['administrative_area_level_2', 'political']},\n",
       "  {'long_name': 'Geneva',\n",
       "   'short_name': 'GE',\n",
       "   'types': ['administrative_area_level_1', 'political']},\n",
       "  {'long_name': 'Switzerland',\n",
       "   'short_name': 'CH',\n",
       "   'types': ['country', 'political']},\n",
       "  {'long_name': '1205', 'short_name': '1205', 'types': ['postal_code']}],\n",
       " 'adr_address': '<span class=\"postal-code\">CH-1205</span> <span class=\"locality\">Geneva</span>, <span class=\"country-name\">Switzerland</span>',\n",
       " 'formatted_address': '1205 Geneva, Switzerland',\n",
       " 'formatted_phone_number': '022 379 71 11',\n",
       " 'geometry': {'location': {'lat': Decimal('46.199444'),\n",
       "   'lng': Decimal('6.1451157')},\n",
       "  'viewport': {'northeast': {'lat': Decimal('46.20045794999999'),\n",
       "    'lng': Decimal('6.146152850000001')},\n",
       "   'southwest': {'lat': Decimal('46.19747575000001'),\n",
       "    'lng': Decimal('6.142004249999998')}}},\n",
       " 'icon': 'https://maps.gstatic.com/mapfiles/place_api/icons/school-71.png',\n",
       " 'id': 'a9ef02f59afc7d055563beca4d1f509efa98cde8',\n",
       " 'international_phone_number': '+41 22 379 71 11',\n",
       " 'name': 'University of Geneva',\n",
       " 'photos': [{'height': 2160,\n",
       "   'html_attributions': ['<a href=\"https://maps.google.com/maps/contrib/107958259135711194844/photos\">Balázs Fodor</a>'],\n",
       "   'photo_reference': 'CoQBcwAAAGIKGHYmuAnnEwc6BxopqcduYaWoonqOfLgZZ6G7NQswt0O5oDSFKHicD_B7ipx76oEhnCFr7XLoShMbZm6INSI6P8VK6Az_b2TkQ5FQwldoS856PlJXb5ESDvahZcGZuzPadvUuUIy24evXBBv60Q2Y3u2s8fRPGhHmvCVSsCncEhDUy4jcgi_ztZp3TWok__NrGhS1t6aXyhXbLsx8wa5JkJCcW1jMDQ',\n",
       "   'width': 3840},\n",
       "  {'height': 2448,\n",
       "   'html_attributions': ['<a href=\"https://maps.google.com/maps/contrib/108719108268774799592/photos\">Serafeim Loukas</a>'],\n",
       "   'photo_reference': 'CoQBcwAAABwCQraSii_5vMI_KI56CB_qA3x_hypMbToMXW_eHClEJH-ATipKQxdXjLUZ-50DKnnmd8W2ZbfDFuPueOTxWATkKGyTqGToC1t74rNRUVZWaRdDKg-cQHk3eeKomgN6lvqtGgjw4-imighLoyqi3pmz7Lb_uuk8I__jYd-pOtBrEhCOVQ_kfcnKcUoHDn3PHhOlGhRoPHmMSbiDiO4ZQOBuDRQDjSZF-A',\n",
       "   'width': 3264},\n",
       "  {'height': 1224,\n",
       "   'html_attributions': ['<a href=\"https://maps.google.com/maps/contrib/100265275664244059768/photos\">aamir Bhat</a>'],\n",
       "   'photo_reference': 'CoQBcwAAAOe4uAaqNcP1PsqShPWGLtJ24-Y0eCQieBvY3_0skWsAQIGMD3kZRocMEr0nV20N2eexoOeGvn9ZrarQWnXWdbQ_HKKN3JjKCzz1p7pvAcT3x-xhzaqsmJHvFZlIMX4SbrZw8tgq2Lu7YnbKKpp8QhrN_HydqpT6noX1mQRtFoOFEhDjH5_6QQxHP7A6VU00IlABGhSQjKvKEPWVY6PGYD2BG3YnSrBZZg',\n",
       "   'width': 1632},\n",
       "  {'height': 3648,\n",
       "   'html_attributions': ['<a href=\"https://maps.google.com/maps/contrib/107899781299580958654/photos\">Ryan Mao</a>'],\n",
       "   'photo_reference': 'CoQBdwAAALeFryzN-9iolSMunXkp4iN1PUgXUncbaVmw0Oi5Ou6siXYKOqic8kzPaW-yqk4xrHUGTxVUGT07cnXFnsYmww-d3k8eer8G3xPqkZjLsu2QW_o3fDRwnEhJfVeQH94dKafrK9dPgnQx9cB0SW2BjY3HRMzina7HYiA_MAY_F9N4EhBe0XoDoDemp-k_1SDpjPe8GhRUZVcWgzXOtx0c8J2UWNjlk7C0_A',\n",
       "   'width': 5472},\n",
       "  {'height': 1119,\n",
       "   'html_attributions': ['<a href=\"https://maps.google.com/maps/contrib/102670352484906491035/photos\">mal 쏜</a>'],\n",
       "   'photo_reference': 'CoQBcwAAAFtdol-po-0NMVBJaubYtCTKZXdgg1HOHDXaPE4uZCFF3QqqcduFDUn_jO24Ulk6N8Ksa-KN-P1UmwqwbFLwrx2332cgYV6Dpqu0X-kwyBdQ3AffGN8hmI1bQ-2Wk6soYHG54K7ZXYe0lf25QIg7HL4oIPH_YX5h0H2KrZsWcFJVEhDz1jShIiI3-dlhXMJjkuBIGhS_sbj9W5-TOEhWrfddAdvh4Ykxdg',\n",
       "   'width': 1492},\n",
       "  {'height': 3648,\n",
       "   'html_attributions': ['<a href=\"https://maps.google.com/maps/contrib/107899781299580958654/photos\">Ryan Mao</a>'],\n",
       "   'photo_reference': 'CoQBdwAAAO8xCeHir-wuIbtoUiGEFeSxKmj0hml-6GVAY3Q5QIuMgehGm3nCFRnwaQ7Vbux4t8cayJFLD0zA2YAy-jcYOh2kVE2aSM9jgPKCYMsUWdI-hm00XeVVTQzZGWXQFp2g4hl-6FdGiCrtPvnBtJtwS_j-78XQssPJHFPnn674meBVEhB-DIEn34VliCtRbjCvnUvGGhRyOyw45-YL1SibOiZnV0Gtw0Mt3A',\n",
       "   'width': 5472},\n",
       "  {'height': 1944,\n",
       "   'html_attributions': ['<a href=\"https://maps.google.com/maps/contrib/101387726051017969850/photos\">Olalekan Paul Akande</a>'],\n",
       "   'photo_reference': 'CoQBdwAAAB6Zzih526tJrmsbQbQ2eY87ihrg7ROamMkOVcblPXwY5UVpp4Wdt4W_Mil6f1NctNDFDTPfpuxHy072gaSji-A0um8qcy7FgLWCUdG_KQ44VNiEkQEewl2Opqn2l8hnMFRLTKYHDJrdQF6qXh2uwpKcuUBG6cW3jMBMs1eNWYyTEhDmVi6zCngV1Nf-Qsyu7_igGhTWBxwnfQQdcOSZYkmmO_SWGLnVcg',\n",
       "   'width': 2592},\n",
       "  {'height': 768,\n",
       "   'html_attributions': ['<a href=\"https://maps.google.com/maps/contrib/115275434358349064593/photos\">Adail Sobral</a>'],\n",
       "   'photo_reference': 'CoQBcwAAACm5JaGC9uV1GT-nilhATAu3lQvVzrUNxGFqg1QoDAQ5Zz60AXkxgN08yzQ-tmdRGqzGzf3wAwiA7s1oHXKHFUY0y6srbjLFtV8cPIZ16oBSrDRtcLNQiErzxWs72Mj0GAd_RPOV2Fy2V-V3bVkYj56ijrErmdbcHyq4FOVYeLQyEhD77Q6eIKTvI4jITg8aLid_GhTGZHbhPuVdDDRz0vUwgLU8RYejKg',\n",
       "   'width': 1024},\n",
       "  {'height': 3648,\n",
       "   'html_attributions': ['<a href=\"https://maps.google.com/maps/contrib/107899781299580958654/photos\">Ryan Mao</a>'],\n",
       "   'photo_reference': 'CoQBdwAAABfnqdswf2ukMjPRy70OreX6z_p37dYhlrdepMUpQFAm1eA7lqsZ0dGHjWkXClZquKcSJyTT6jljScGuZ1G4iUjkS262ZLMm5PlAlfaq81w4zq3ZVsvR0aYtWV1diUU9g74z-s02BcGNuD6PUQakbAy8bPKKmc0jdcJwHLzT23GXEhBUgMvxlFLDyX9O-GfvkyAKGhS6Fg6hV0Z4QDVHvn1svhQr4vRQEw',\n",
       "   'width': 5472},\n",
       "  {'height': 3648,\n",
       "   'html_attributions': ['<a href=\"https://maps.google.com/maps/contrib/107899781299580958654/photos\">Ryan Mao</a>'],\n",
       "   'photo_reference': 'CoQBdwAAACTvxAuBjw51xBDlFjlrKyZnWUi1J5fTDdYGVw94i_BvWjIHnYtkmsQ-6yrpxZLfNxQc-fhU4uH9B4Cnw1e87DaWEh_q7PI1dSRP0kj6mpzsDJTdxnP1KBbYCO1DgoSqIpmf5I0FOpdkOroxXZQld8Yv09jKfc3u01xzv6cKppGSEhDcSh9ojFTR0riSfrQsjwuwGhTIFVYm6WP8lBWKGiNSd7R0BUHAQg',\n",
       "   'width': 5472}],\n",
       " 'place_id': 'ChIJ3yKsR1FkjEcRIpuYmmtbIq0',\n",
       " 'rating': Decimal('4.3'),\n",
       " 'reference': 'CmRSAAAAH0uRgmrMq-_0ngDn6YtOSXN2ayvWT0rYjpbYtlekNAejQ9jwKYUmUbP9f3gLnPuJNiczm3XajleXrkmp40qfaO4CBqFggVF6od6z7EZhQa2bkAWokUg_2-7e8_EzPEtZEhBJCdxURsbA6bK6t2USgB_VGhSQslqdUoqIqqmSncj-hvDhW4q_SA',\n",
       " 'reviews': [{'aspects': [{'rating': 3, 'type': 'overall'}],\n",
       "   'author_name': 'tuliz b.',\n",
       "   'author_url': 'https://plus.google.com/116406896570201735495',\n",
       "   'language': 'en',\n",
       "   'profile_photo_url': '//lh3.googleusercontent.com/-LlhXj2NZ2Js/AAAAAAAAAAI/AAAAAAAAAkA/9l9fcmVWCF0/photo.jpg',\n",
       "   'rating': 5,\n",
       "   'text': 'One of the oldest university in Europe.',\n",
       "   'time': 1474297373},\n",
       "  {'aspects': [{'rating': 3, 'type': 'overall'}],\n",
       "   'author_name': 'Olalekan Paul Akande',\n",
       "   'author_url': 'https://plus.google.com/101387726051017969850',\n",
       "   'language': 'en',\n",
       "   'profile_photo_url': '//lh3.googleusercontent.com/-PuxeLzuPYPc/AAAAAAAAAAI/AAAAAAAAABs/VnlRcWicx-8/photo.jpg',\n",
       "   'rating': 5,\n",
       "   'text': 'Architectural design',\n",
       "   'time': 1475335662},\n",
       "  {'aspects': [{'rating': 3, 'type': 'overall'}],\n",
       "   'author_name': 'YINHUI BAO',\n",
       "   'author_url': 'https://plus.google.com/117301521129206646254',\n",
       "   'language': 'en',\n",
       "   'profile_photo_url': '//lh5.googleusercontent.com/-AXYtQpQYH4E/AAAAAAAAAAI/AAAAAAAAAF4/cSJcFMTMQ-4/photo.jpg',\n",
       "   'rating': 5,\n",
       "   'text': 'Great university in Swiss and the world',\n",
       "   'time': 1459718375},\n",
       "  {'aspects': [{'rating': 3, 'type': 'overall'}],\n",
       "   'author_name': 'Adegboye Adeyanju',\n",
       "   'author_url': 'https://plus.google.com/112834616220945091249',\n",
       "   'language': 'en',\n",
       "   'profile_photo_url': '//lh6.googleusercontent.com/-pIxyEM-OnhE/AAAAAAAAAAI/AAAAAAAAAFM/P1NwFXrb07M/photo.jpg',\n",
       "   'rating': 5,\n",
       "   'text': 'Home and University of Saussure the greatest linguist',\n",
       "   'time': 1365470785},\n",
       "  {'aspects': [{'rating': 3, 'type': 'overall'}],\n",
       "   'author_name': 'abbas mohammad',\n",
       "   'author_url': 'https://plus.google.com/118445634824581251361',\n",
       "   'language': 'en',\n",
       "   'profile_photo_url': '//lh4.googleusercontent.com/-arhFvV9Ka2A/AAAAAAAAAAI/AAAAAAAAAGw/UmBqJPt5f8c/photo.jpg',\n",
       "   'rating': 5,\n",
       "   'text': 'Nice',\n",
       "   'time': 1399600941}],\n",
       " 'scope': 'GOOGLE',\n",
       " 'types': ['university', 'point_of_interest', 'establishment'],\n",
       " 'url': 'https://maps.google.com/?cid=12475634435483015970',\n",
       " 'utc_offset': 120,\n",
       " 'vicinity': 'Geneva',\n",
       " 'website': 'http://www.unige.ch/'}"
      ]
     },
     "execution_count": 98,
     "metadata": {},
     "output_type": "execute_result"
    }
   ],
   "source": [
    "place.get_details()\n",
    "details = place.details\n",
    "details"
   ]
  },
  {
   "cell_type": "code",
   "execution_count": 99,
   "metadata": {
    "collapsed": false
   },
   "outputs": [
    {
     "data": {
      "text/plain": [
       "'GE'"
      ]
     },
     "execution_count": 99,
     "metadata": {},
     "output_type": "execute_result"
    }
   ],
   "source": [
    "for component in details['address_components']:\n",
    "    if 'administrative_area_level_1' in component['types']:\n",
    "        canton = component['short_name']\n",
    "canton"
   ]
  },
  {
   "cell_type": "code",
   "execution_count": 100,
   "metadata": {
    "collapsed": true
   },
   "outputs": [],
   "source": [
    "# sum it up as functions\n",
    "def uni_to_canton(name):\n",
    "    response = google_places.text_search(query = name)\n",
    "    if response.places:\n",
    "        place = response.places[0]\n",
    "        place.get_details()\n",
    "        details = place.details\n",
    "        for component in details['address_components']:\n",
    "            if 'administrative_area_level_1' in component['types']:\n",
    "                canton = component['short_name']\n",
    "    return canton"
   ]
  },
  {
   "cell_type": "code",
   "execution_count": null,
   "metadata": {
    "collapsed": true
   },
   "outputs": [],
   "source": []
  }
 ],
 "metadata": {
  "anaconda-cloud": {},
  "kernelspec": {
   "display_name": "Python [Root]",
   "language": "python",
   "name": "Python [Root]"
  },
  "language_info": {
   "codemirror_mode": {
    "name": "ipython",
    "version": 3
   },
   "file_extension": ".py",
   "mimetype": "text/x-python",
   "name": "python",
   "nbconvert_exporter": "python",
   "pygments_lexer": "ipython3",
   "version": "3.5.2"
  },
  "toc": {
   "nav_menu": {
    "height": "12px",
    "width": "252px"
   },
   "navigate_menu": true,
   "number_sections": true,
   "sideBar": true,
   "threshold": 4,
   "toc_cell": false,
   "toc_section_display": "block",
   "toc_window_display": false
  }
 },
 "nbformat": 4,
 "nbformat_minor": 0
}
