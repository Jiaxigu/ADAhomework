{
 "cells": [
  {
   "cell_type": "markdown",
   "metadata": {},
   "source": [
    "# Assignment"
   ]
  },
  {
   "cell_type": "markdown",
   "metadata": {},
   "source": [
    "Build a Choropleth map which shows intuitively (i.e., use colors wisely) how much grant money goes to each Swiss canton. To do so, you will need to use the provided TopoJSON file, combined with the Choropleth map example you can find in the Folium README file.\n",
    "HINT: the P3 database is formed by entries which assign a grant (and its approved amount) to a University name. Therefore you will need a smart strategy to go from University to Canton name. The Geonames Full Text Search API in JSON can help you with this -- try to use it as much as possible to build the canton mappings that you need. For those universities for which you cannot find a mapping via the API, you are then allowed to build it manually -- feel free to stop by the time you mapped the top-95% of the universities. I also recommend you to use an intermediate viz step for debugging purposes, showing all the universties as markers in your map (e.g., if you don't select the right results from the Geonames API, some of your markers might be placed on nearby countries...)\n",
    "\n",
    "BONUS: using the map you have just built, and the geographical information contained in it, could you give a rough estimate of the difference in research funding between the areas divided by the Röstigraben?"
   ]
  },
  {
   "cell_type": "markdown",
   "metadata": {},
   "source": [
    "# Getting started"
   ]
  },
  {
   "cell_type": "markdown",
   "metadata": {},
   "source": [
    "## Imports"
   ]
  },
  {
   "cell_type": "code",
   "execution_count": 552,
   "metadata": {
    "collapsed": false
   },
   "outputs": [],
   "source": [
    "%matplotlib inline\n",
    "import pandas as pd\n",
    "import numpy as np\n",
    "import scipy.stats as stats\n",
    "import folium\n",
    "import json\n",
    "import csv\n",
    "\n",
    "from googleplaces import GooglePlaces, types, lang"
   ]
  },
  {
   "cell_type": "markdown",
   "metadata": {
    "collapsed": true
   },
   "source": [
    "## Read data from grant report"
   ]
  },
  {
   "cell_type": "code",
   "execution_count": 553,
   "metadata": {
    "collapsed": false
   },
   "outputs": [
    {
     "data": {
      "text/html": [
       "<div>\n",
       "<table border=\"1\" class=\"dataframe\">\n",
       "  <thead>\n",
       "    <tr style=\"text-align: right;\">\n",
       "      <th></th>\n",
       "      <th>﻿\"Project Number\"</th>\n",
       "      <th>Project Title</th>\n",
       "      <th>Project Title English</th>\n",
       "      <th>Responsible Applicant</th>\n",
       "      <th>Funding Instrument</th>\n",
       "      <th>Funding Instrument Hierarchy</th>\n",
       "      <th>Institution</th>\n",
       "      <th>University</th>\n",
       "      <th>Discipline Number</th>\n",
       "      <th>Discipline Name</th>\n",
       "      <th>Discipline Name Hierarchy</th>\n",
       "      <th>Start Date</th>\n",
       "      <th>End Date</th>\n",
       "      <th>Approved Amount</th>\n",
       "      <th>Keywords</th>\n",
       "    </tr>\n",
       "  </thead>\n",
       "  <tbody>\n",
       "    <tr>\n",
       "      <th>0</th>\n",
       "      <td>1</td>\n",
       "      <td>Schlussband (Bd. VI) der Jacob Burckhardt-Biog...</td>\n",
       "      <td></td>\n",
       "      <td>Kaegi Werner</td>\n",
       "      <td>Project funding (Div. I-III)</td>\n",
       "      <td>Project funding</td>\n",
       "      <td></td>\n",
       "      <td>Nicht zuteilbar - NA</td>\n",
       "      <td>10302</td>\n",
       "      <td>Swiss history</td>\n",
       "      <td>Human and Social Sciences;Theology &amp; religious...</td>\n",
       "      <td>01.10.1975</td>\n",
       "      <td>30.09.1976</td>\n",
       "      <td>11619.00</td>\n",
       "      <td></td>\n",
       "    </tr>\n",
       "    <tr>\n",
       "      <th>1</th>\n",
       "      <td>4</td>\n",
       "      <td>Batterie de tests à l'usage des enseignants po...</td>\n",
       "      <td></td>\n",
       "      <td>Massarenti Léonard</td>\n",
       "      <td>Project funding (Div. I-III)</td>\n",
       "      <td>Project funding</td>\n",
       "      <td>Faculté de Psychologie et des Sciences de l'Ed...</td>\n",
       "      <td>Université de Genève - GE</td>\n",
       "      <td>10104</td>\n",
       "      <td>Educational science and Pedagogy</td>\n",
       "      <td>Human and Social Sciences;Psychology, educatio...</td>\n",
       "      <td>01.10.1975</td>\n",
       "      <td>30.09.1976</td>\n",
       "      <td>41022.00</td>\n",
       "      <td></td>\n",
       "    </tr>\n",
       "    <tr>\n",
       "      <th>2</th>\n",
       "      <td>5</td>\n",
       "      <td>Kritische Erstausgabe der \"Evidentiae contra D...</td>\n",
       "      <td></td>\n",
       "      <td>Kommission für das Corpus philosophorum medii ...</td>\n",
       "      <td>Project funding (Div. I-III)</td>\n",
       "      <td>Project funding</td>\n",
       "      <td>Kommission für das Corpus philosophorum medii ...</td>\n",
       "      <td>NPO (Biblioth., Museen, Verwalt.) - NPO</td>\n",
       "      <td>10101</td>\n",
       "      <td>Philosophy</td>\n",
       "      <td>Human and Social Sciences;Linguistics and lite...</td>\n",
       "      <td>01.03.1976</td>\n",
       "      <td>28.02.1985</td>\n",
       "      <td>79732.00</td>\n",
       "      <td></td>\n",
       "    </tr>\n",
       "    <tr>\n",
       "      <th>3</th>\n",
       "      <td>6</td>\n",
       "      <td>Katalog der datierten Handschriften in der Sch...</td>\n",
       "      <td></td>\n",
       "      <td>Burckhardt Max</td>\n",
       "      <td>Project funding (Div. I-III)</td>\n",
       "      <td>Project funding</td>\n",
       "      <td>Abt. Handschriften und Alte Drucke Bibliothek ...</td>\n",
       "      <td>Universität Basel - BS</td>\n",
       "      <td>10302</td>\n",
       "      <td>Swiss history</td>\n",
       "      <td>Human and Social Sciences;Theology &amp; religious...</td>\n",
       "      <td>01.10.1975</td>\n",
       "      <td>30.09.1976</td>\n",
       "      <td>52627.00</td>\n",
       "      <td></td>\n",
       "    </tr>\n",
       "    <tr>\n",
       "      <th>4</th>\n",
       "      <td>7</td>\n",
       "      <td>Wissenschaftliche Mitarbeit am Thesaurus Lingu...</td>\n",
       "      <td></td>\n",
       "      <td>Schweiz. Thesauruskommission</td>\n",
       "      <td>Project funding (Div. I-III)</td>\n",
       "      <td>Project funding</td>\n",
       "      <td>Schweiz. Thesauruskommission</td>\n",
       "      <td>NPO (Biblioth., Museen, Verwalt.) - NPO</td>\n",
       "      <td>10303</td>\n",
       "      <td>Ancient history and Classical studies</td>\n",
       "      <td>Human and Social Sciences;Theology &amp; religious...</td>\n",
       "      <td>01.01.1976</td>\n",
       "      <td>30.04.1978</td>\n",
       "      <td>120042.00</td>\n",
       "      <td></td>\n",
       "    </tr>\n",
       "  </tbody>\n",
       "</table>\n",
       "</div>"
      ],
      "text/plain": [
       "   ﻿\"Project Number\"                                      Project Title  \\\n",
       "0                  1  Schlussband (Bd. VI) der Jacob Burckhardt-Biog...   \n",
       "1                  4  Batterie de tests à l'usage des enseignants po...   \n",
       "2                  5  Kritische Erstausgabe der \"Evidentiae contra D...   \n",
       "3                  6  Katalog der datierten Handschriften in der Sch...   \n",
       "4                  7  Wissenschaftliche Mitarbeit am Thesaurus Lingu...   \n",
       "\n",
       "  Project Title English                              Responsible Applicant  \\\n",
       "0                                                             Kaegi Werner   \n",
       "1                                                       Massarenti Léonard   \n",
       "2                        Kommission für das Corpus philosophorum medii ...   \n",
       "3                                                           Burckhardt Max   \n",
       "4                                             Schweiz. Thesauruskommission   \n",
       "\n",
       "             Funding Instrument Funding Instrument Hierarchy  \\\n",
       "0  Project funding (Div. I-III)              Project funding   \n",
       "1  Project funding (Div. I-III)              Project funding   \n",
       "2  Project funding (Div. I-III)              Project funding   \n",
       "3  Project funding (Div. I-III)              Project funding   \n",
       "4  Project funding (Div. I-III)              Project funding   \n",
       "\n",
       "                                         Institution  \\\n",
       "0                                                      \n",
       "1  Faculté de Psychologie et des Sciences de l'Ed...   \n",
       "2  Kommission für das Corpus philosophorum medii ...   \n",
       "3  Abt. Handschriften und Alte Drucke Bibliothek ...   \n",
       "4                       Schweiz. Thesauruskommission   \n",
       "\n",
       "                                University  Discipline Number  \\\n",
       "0                     Nicht zuteilbar - NA              10302   \n",
       "1                Université de Genève - GE              10104   \n",
       "2  NPO (Biblioth., Museen, Verwalt.) - NPO              10101   \n",
       "3                   Universität Basel - BS              10302   \n",
       "4  NPO (Biblioth., Museen, Verwalt.) - NPO              10303   \n",
       "\n",
       "                         Discipline Name  \\\n",
       "0                          Swiss history   \n",
       "1       Educational science and Pedagogy   \n",
       "2                             Philosophy   \n",
       "3                          Swiss history   \n",
       "4  Ancient history and Classical studies   \n",
       "\n",
       "                           Discipline Name Hierarchy  Start Date    End Date  \\\n",
       "0  Human and Social Sciences;Theology & religious...  01.10.1975  30.09.1976   \n",
       "1  Human and Social Sciences;Psychology, educatio...  01.10.1975  30.09.1976   \n",
       "2  Human and Social Sciences;Linguistics and lite...  01.03.1976  28.02.1985   \n",
       "3  Human and Social Sciences;Theology & religious...  01.10.1975  30.09.1976   \n",
       "4  Human and Social Sciences;Theology & religious...  01.01.1976  30.04.1978   \n",
       "\n",
       "  Approved Amount Keywords  \n",
       "0        11619.00           \n",
       "1        41022.00           \n",
       "2        79732.00           \n",
       "3        52627.00           \n",
       "4       120042.00           "
      ]
     },
     "execution_count": 553,
     "metadata": {},
     "output_type": "execute_result"
    }
   ],
   "source": [
    "# read csv file. we notice that a lot of NaN value is present, so we replace them with empty field for better visual\n",
    "grantReport = pd.read_csv('data/P3_GrantExport.csv', delimiter=';')\n",
    "grantReport = grantReport.fillna('')\n",
    "grantReport.head()"
   ]
  },
  {
   "cell_type": "markdown",
   "metadata": {},
   "source": [
    "## Clean up"
   ]
  },
  {
   "cell_type": "markdown",
   "metadata": {},
   "source": [
    "From the chart above, we are interested in nothing but two columns: _University_ and _Approved Amount_."
   ]
  },
  {
   "cell_type": "code",
   "execution_count": 554,
   "metadata": {
    "collapsed": false
   },
   "outputs": [
    {
     "data": {
      "text/html": [
       "<div>\n",
       "<table border=\"1\" class=\"dataframe\">\n",
       "  <thead>\n",
       "    <tr style=\"text-align: right;\">\n",
       "      <th></th>\n",
       "      <th>Approved Amount</th>\n",
       "      <th>University</th>\n",
       "    </tr>\n",
       "  </thead>\n",
       "  <tbody>\n",
       "    <tr>\n",
       "      <th>0</th>\n",
       "      <td>11619.00</td>\n",
       "      <td>Nicht zuteilbar - NA</td>\n",
       "    </tr>\n",
       "    <tr>\n",
       "      <th>1</th>\n",
       "      <td>41022.00</td>\n",
       "      <td>Université de Genève - GE</td>\n",
       "    </tr>\n",
       "    <tr>\n",
       "      <th>2</th>\n",
       "      <td>79732.00</td>\n",
       "      <td>NPO (Biblioth., Museen, Verwalt.) - NPO</td>\n",
       "    </tr>\n",
       "    <tr>\n",
       "      <th>3</th>\n",
       "      <td>52627.00</td>\n",
       "      <td>Universität Basel - BS</td>\n",
       "    </tr>\n",
       "    <tr>\n",
       "      <th>4</th>\n",
       "      <td>120042.00</td>\n",
       "      <td>NPO (Biblioth., Museen, Verwalt.) - NPO</td>\n",
       "    </tr>\n",
       "  </tbody>\n",
       "</table>\n",
       "</div>"
      ],
      "text/plain": [
       "  Approved Amount                               University\n",
       "0        11619.00                     Nicht zuteilbar - NA\n",
       "1        41022.00                Université de Genève - GE\n",
       "2        79732.00  NPO (Biblioth., Museen, Verwalt.) - NPO\n",
       "3        52627.00                   Universität Basel - BS\n",
       "4       120042.00  NPO (Biblioth., Museen, Verwalt.) - NPO"
      ]
     },
     "execution_count": 554,
     "metadata": {},
     "output_type": "execute_result"
    }
   ],
   "source": [
    "grantReport = grantReport[['Approved Amount', 'University']]\n",
    "grantReport.head()"
   ]
  },
  {
   "cell_type": "markdown",
   "metadata": {},
   "source": [
    "First we check the universities."
   ]
  },
  {
   "cell_type": "code",
   "execution_count": 555,
   "metadata": {
    "collapsed": false
   },
   "outputs": [
    {
     "data": {
      "text/plain": [
       "(78,)"
      ]
     },
     "execution_count": 555,
     "metadata": {},
     "output_type": "execute_result"
    }
   ],
   "source": [
    "grantReport.University.unique().shape"
   ]
  },
  {
   "cell_type": "markdown",
   "metadata": {},
   "source": [
    "Seems there are not so many different universities. So we list all of them to check outliers."
   ]
  },
  {
   "cell_type": "code",
   "execution_count": 556,
   "metadata": {
    "collapsed": false
   },
   "outputs": [
    {
     "data": {
      "text/plain": [
       "array(['Nicht zuteilbar - NA', 'Université de Genève - GE',\n",
       "       'NPO (Biblioth., Museen, Verwalt.) - NPO', 'Universität Basel - BS',\n",
       "       'Université de Fribourg - FR', 'Universität Zürich - ZH',\n",
       "       'Université de Lausanne - LA', 'Universität Bern - BE',\n",
       "       'Eidg. Forschungsanstalt für Wald,Schnee,Land - WSL',\n",
       "       'Université de Neuchâtel - NE', 'ETH Zürich - ETHZ',\n",
       "       'Inst. de Hautes Etudes Internat. et du Dév - IHEID',\n",
       "       'Universität St. Gallen - SG', 'Weitere Institute - FINST',\n",
       "       'Firmen/Privatwirtschaft - FP',\n",
       "       'Pädagogische Hochschule Graubünden - PHGR', 'EPF Lausanne - EPFL',\n",
       "       'Pädagogische Hochschule Zürich - PHZFH', 'Universität Luzern - LU',\n",
       "       'Schweiz. Institut für Kunstwissenschaft - SIK-ISEA',\n",
       "       'SUP della Svizzera italiana - SUPSI',\n",
       "       'HES de Suisse occidentale - HES-SO',\n",
       "       'Robert Walser-Stiftung Bern - RWS', 'Paul Scherrer Institut - PSI',\n",
       "       'Pädagogische Hochschule St. Gallen - PHSG',\n",
       "       'Eidg. Anstalt für Wasserversorgung - EAWAG',\n",
       "       'Eidg. Material und Prüfungsanstalt - EMPA',\n",
       "       'Physikal.-Meteorolog. Observatorium Davos - PMOD',\n",
       "       'Berner Fachhochschule - BFH',\n",
       "       'Swiss Center for Electronics and Microtech. - CSEM',\n",
       "       'Weitere Spitäler - ASPIT', 'AO Research Institute - AORI',\n",
       "       'Allergie- und Asthmaforschung - SIAF',\n",
       "       'Forschungsinstitut für biologischen Landbau - FIBL',\n",
       "       'Friedrich Miescher Institute - FMI',\n",
       "       'Kantonsspital St. Gallen - KSPSG',\n",
       "       'Forschungsanstalten Agroscope - AGS',\n",
       "       'Ente Ospedaliero Cantonale - EOC',\n",
       "       'Inst. universit. romand de Santé au Travail - IST',\n",
       "       'Eidg. Hochschulinstitut für Berufsbildung - EHB',\n",
       "       'Zürcher Fachhochschule (ohne PH) - ZFH',\n",
       "       'Università della Svizzera italiana - USI',\n",
       "       'Institut für Kulturforschung Graubünden - IKG',\n",
       "       'Fachhochschule Nordwestschweiz (ohne PH) - FHNW',\n",
       "       'Interkant. Hochschule für Heilpädagogik ZH - HfH', '',\n",
       "       \"Centre de rech. sur l'environnement alpin - CREALP\",\n",
       "       'Idiap Research Institute - IDIAP',\n",
       "       'Pädagogische Hochschule Bern - PHBern',\n",
       "       'Institut Universitaire Kurt Bösch - IUKB',\n",
       "       'Schweizer Paraplegiker Forschung - SPF',\n",
       "       'Hochschule Luzern - HSLU',\n",
       "       'Forschungsinstitut für Opthalmologie - IRO',\n",
       "       'Haute école pédagogique du canton de Vaud - HEPL',\n",
       "       'Fachhochschule Ostschweiz - FHO',\n",
       "       'Inst. Suisse de Spéléologie et Karstologie - ISSKA',\n",
       "       'Swiss Institute of Bioinformatics - SIB',\n",
       "       'Haute école pédagogique BE, JU, NE - HEPBEJUNE',\n",
       "       'Pädagogische Hochschule Luzern - PHLU',\n",
       "       'Forschungskommission SAGW', 'Istituto Svizzero di Roma - ISR',\n",
       "       'Pädag. Hochschule Tessin (Teilschule SUPSI) - ASP',\n",
       "       'Haute école pédagogique fribourgeoise - HEPFR',\n",
       "       'Pädagogische Hochschule Schwyz - PHSZ',\n",
       "       'Pädagogische Hochschule Thurgau - PHTG',\n",
       "       'Biotechnologie Institut Thurgau - BITG',\n",
       "       'Fachhochschule Kalaidos - FHKD',\n",
       "       'Schweizer Kompetenzzentrum Sozialwissensch. - FORS',\n",
       "       'Pädagogische Hochschule Wallis - PHVS',\n",
       "       'Schweiz. Hochschule für Logopädie Rorschach - SHLR',\n",
       "       'Pädagogische Hochschule Zug - PHZG',\n",
       "       'Instituto Ricerche Solari Locarno - IRSOL',\n",
       "       'Franklin University Switzerland - FUS',\n",
       "       'Pädagogische Hochschule Schaffhausen - PHSH',\n",
       "       'Pädagogische Hochschule Nordwestschweiz - PHFHNW',\n",
       "       'Staatsunabh. Theologische Hochschule Basel - STHB',\n",
       "       'Facoltà di Teologia di Lugano - FTL',\n",
       "       'Fernfachhochschule Schweiz (Mitglied SUPSI) - FFHS'], dtype=object)"
      ]
     },
     "execution_count": 556,
     "metadata": {},
     "output_type": "execute_result"
    }
   ],
   "source": [
    "uni = grantReport.University.unique()\n",
    "uni"
   ]
  },
  {
   "cell_type": "markdown",
   "metadata": {},
   "source": [
    "After a quick check, we find some of the entries don't refer to a specific university, but some institutions in a specific area. They are:\n",
    "- Nicht zuteilbar - NA\n",
    "- Weitere Institute - FINST (_other institute_)\n",
    "- Weitere Spitäler - ASPIT (_other hospital_)\n",
    "- NPO (Biblioth., Museen, Verwalt.) - NPO (_non profit orgs_)\n",
    "- Firmen/Privatwirtschaft - FP (_companies_)"
   ]
  },
  {
   "cell_type": "code",
   "execution_count": 557,
   "metadata": {
    "collapsed": false
   },
   "outputs": [],
   "source": [
    "invalidUniversities = ['Nicht zuteilbar - NA', \n",
    "                       'Weitere Institute - FINST', \n",
    "                       'Weitere Spitäler - ASPIT', \n",
    "                       'NPO (Biblioth., Museen, Verwalt.) - NPO',\n",
    "                       'Firmen/Privatwirtschaft - FP']\n",
    "grantReport.University = grantReport.University.replace(invalidUniversities, '')\n",
    "grantReport = grantReport[grantReport.University != '']"
   ]
  },
  {
   "cell_type": "code",
   "execution_count": 558,
   "metadata": {
    "collapsed": false
   },
   "outputs": [
    {
     "data": {
      "text/plain": [
       "(72,)"
      ]
     },
     "execution_count": 558,
     "metadata": {},
     "output_type": "execute_result"
    }
   ],
   "source": [
    "uni = grantReport.University.unique()\n",
    "uni.shape"
   ]
  },
  {
   "cell_type": "markdown",
   "metadata": {},
   "source": [
    "Great, we have kicked out outliers in University column. Now we do the same for the _Approved Amount_."
   ]
  },
  {
   "cell_type": "code",
   "execution_count": 559,
   "metadata": {
    "collapsed": false
   },
   "outputs": [
    {
     "data": {
      "text/plain": [
       "12369619629.330006"
      ]
     },
     "execution_count": 559,
     "metadata": {},
     "output_type": "execute_result"
    }
   ],
   "source": [
    "# we take an iterative way. valid amounts should be able to be transfered into floats with 'astype' method. do this:\n",
    "# sum(pd.to_numeric(grantReport['Approved Amount'], errors='coerce'))\n",
    "# when we try the above code, python returns an error:  could not convert string to float: 'data not included in P3'. we kick this out.\n",
    "invalidAmounts = ['data not included in P3']\n",
    "grantReport['Approved Amount'] = grantReport['Approved Amount'].replace(invalidAmounts, '')\n",
    "grantReport = grantReport[grantReport['Approved Amount'] != '']\n",
    "sum(pd.to_numeric(grantReport['Approved Amount'], errors='coerce'))\n",
    "# do the code again. this time it works! seems we have only one type of invalid entry in 'Approved Amount'.\n"
   ]
  },
  {
   "cell_type": "code",
   "execution_count": 560,
   "metadata": {
    "collapsed": false
   },
   "outputs": [
    {
     "data": {
      "text/plain": [
       "(46194, 2)"
      ]
     },
     "execution_count": 560,
     "metadata": {},
     "output_type": "execute_result"
    }
   ],
   "source": [
    "grantReport.shape"
   ]
  },
  {
   "cell_type": "markdown",
   "metadata": {},
   "source": [
    "## Assign universities to cantons"
   ]
  },
  {
   "cell_type": "markdown",
   "metadata": {},
   "source": [
    "### Import Google Map Services"
   ]
  },
  {
   "cell_type": "markdown",
   "metadata": {},
   "source": [
    "Here we use Google Map Services to retrieve geo information by querying university names."
   ]
  },
  {
   "cell_type": "code",
   "execution_count": 426,
   "metadata": {
    "collapsed": false
   },
   "outputs": [],
   "source": [
    "# use your key\n",
    "API_KEY = 'HIDED_KEY'\n",
    "\n",
    "if API_KEY != 'HIDED_KEY':\n",
    "    google_places = GooglePlaces(API_KEY)        "
   ]
  },
  {
   "cell_type": "markdown",
   "metadata": {},
   "source": [
    "First we try to play around with an instance in the `uni` array."
   ]
  },
  {
   "cell_type": "code",
   "execution_count": 427,
   "metadata": {
    "collapsed": false
   },
   "outputs": [
    {
     "data": {
      "text/plain": [
       "<Place name=\"University of Bern\", lat=46.9504896, lng=7.438119000000002>"
      ]
     },
     "execution_count": 427,
     "metadata": {},
     "output_type": "execute_result"
    }
   ],
   "source": [
    "response = google_places.text_search(query = uni[5])\n",
    "if response.places:\n",
    "    place = response.places[0]\n",
    "place"
   ]
  },
  {
   "cell_type": "code",
   "execution_count": 428,
   "metadata": {
    "collapsed": false
   },
   "outputs": [
    {
     "data": {
      "text/plain": [
       "'BE'"
      ]
     },
     "execution_count": 428,
     "metadata": {},
     "output_type": "execute_result"
    }
   ],
   "source": [
    "place.get_details()\n",
    "details = place.details\n",
    "for component in details['address_components']:\n",
    "    if 'administrative_area_level_1' in component['types']:\n",
    "        canton = component['short_name']\n",
    "canton"
   ]
  },
  {
   "cell_type": "markdown",
   "metadata": {},
   "source": [
    "Seems good. Now we sum it up as functions for future use."
   ]
  },
  {
   "cell_type": "code",
   "execution_count": 429,
   "metadata": {
    "collapsed": true
   },
   "outputs": [],
   "source": [
    "def text_search(name):\n",
    "    response = google_places.text_search(query = name)\n",
    "    return response\n",
    "\n",
    "def uni_to_canton(name):\n",
    "    response = text_search(name)\n",
    "    canton = 'not found'\n",
    "    if response.places:\n",
    "        place = response.places[0]\n",
    "        place.get_details()\n",
    "        details = place.details\n",
    "        for component in details['address_components']:\n",
    "            if 'administrative_area_level_1' in component['types']:\n",
    "                canton = component['short_name']\n",
    "    return canton\n",
    "\n",
    "def add_mapping_to_dict(existingDict, name):\n",
    "    existingDict[name] = uni_to_canton(name)\n",
    "    return existingDict"
   ]
  },
  {
   "cell_type": "code",
   "execution_count": 430,
   "metadata": {
    "collapsed": false
   },
   "outputs": [],
   "source": [
    "# mapping process. WARNING: DAILY QUOTA RESTRICTED\n",
    "uniDict = {}\n",
    "for u in uni:\n",
    "    add_mapping_to_dict(uniDict, u)"
   ]
  },
  {
   "cell_type": "markdown",
   "metadata": {},
   "source": [
    "To avoid query overflow, we save the dictionary locally."
   ]
  },
  {
   "cell_type": "code",
   "execution_count": 431,
   "metadata": {
    "collapsed": false
   },
   "outputs": [],
   "source": [
    "uniDict_path = 'data/uniDict.json'\n",
    "with open(uniDict_path, 'w') as js:\n",
    "    json.dump(uniDict, js)"
   ]
  },
  {
   "cell_type": "code",
   "execution_count": 561,
   "metadata": {
    "collapsed": false
   },
   "outputs": [],
   "source": [
    "# read json file\n",
    "with open(uniDict_path, 'r') as js:\n",
    "    uniDict = json.load(js)"
   ]
  },
  {
   "cell_type": "markdown",
   "metadata": {},
   "source": [
    "### Fill 'not found' items"
   ]
  },
  {
   "cell_type": "code",
   "execution_count": 562,
   "metadata": {
    "collapsed": false
   },
   "outputs": [
    {
     "name": "stdout",
     "output_type": "stream",
     "text": [
      "Zürcher Fachhochschule (ohne PH) - ZFH\n",
      "Staatsunabh. Theologische Hochschule Basel - STHB\n",
      "Forschungsanstalten Agroscope - AGS\n",
      "AO Research Institute - AORI\n",
      "Forschungsinstitut für Opthalmologie - IRO\n",
      "Forschungskommission SAGW\n",
      "Eidg. Forschungsanstalt für Wald,Schnee,Land - WSL\n",
      "Schweizer Kompetenzzentrum Sozialwissensch. - FORS\n",
      "Pädagogische Hochschule Wallis - PHVS\n",
      "Physikal.-Meteorolog. Observatorium Davos - PMOD\n",
      "Swiss Center for Electronics and Microtech. - CSEM\n",
      "Pädag. Hochschule Tessin (Teilschule SUPSI) - ASP\n"
     ]
    }
   ],
   "source": [
    "for key, value in uniDict.items():\n",
    "    if value == 'not found':\n",
    "        print(key)"
   ]
  },
  {
   "cell_type": "code",
   "execution_count": 563,
   "metadata": {
    "collapsed": true
   },
   "outputs": [],
   "source": [
    "# Now we fix them manually.\n",
    "uniDict['Zürcher Fachhochschule (ohne PH) - ZFH'] = 'ZH'\n",
    "uniDict['Forschungsinstitut für Opthalmologie - IRO'] = 'VS'\n",
    "uniDict['Forschungsanstalten Agroscope - AGS'] = 'BE'\n",
    "uniDict['AO Research Institute - AORI'] = 'GR'\n",
    "uniDict['Forschungskommission SAGW'] = 'BE'\n",
    "uniDict['Eidg. Forschungsanstalt für Wald,Schnee,Land - WSL'] = 'ZH'\n",
    "uniDict['Schweizer Kompetenzzentrum Sozialwissensch. - FORS'] = 'VD'\n",
    "uniDict['Pädagogische Hochschule Wallis - PHVS'] = 'VS'\n",
    "uniDict['Swiss Center for Electronics and Microtech. - CSEM'] = 'NE'\n",
    "uniDict['Physikal.-Meteorolog. Observatorium Davos - PMOD'] = 'GR'\n",
    "uniDict['Staatsunabh. Theologische Hochschule Basel - STHB'] = 'BS'\n",
    "uniDict['Pädag. Hochschule Tessin (Teilschule SUPSI) - ASP'] = 'TI'"
   ]
  },
  {
   "cell_type": "code",
   "execution_count": 564,
   "metadata": {
    "collapsed": false
   },
   "outputs": [
    {
     "data": {
      "text/plain": [
       "dict_values(['ZH', 'TI', 'GR', 'SG', 'GE', 'SG', 'LU', 'ZH', 'SH', 'FR', 'ZH', 'ZG', 'LU', 'BE', 'ZH', 'BE', 'VS', 'ZH', 'BS', 'VS', 'Lazio', 'BS', 'BE', 'BS', 'ZH', 'GR', 'VS', 'SZ', 'ZH', 'BE', 'JU', 'TI', 'FR', 'HE', 'BE', 'GE', 'SG', 'GR', 'AG', 'ZH', 'ZH', 'VD', 'VS', 'VD', 'SO', 'SG', 'VS', 'TI', 'TG', 'GR', 'VS', 'TG', 'ZH', 'TI', 'GE', 'TI', 'GR', 'SG', 'BL', 'VD', 'NE', 'NE', 'LU', 'TI', 'VD', 'VD', 'BE', 'BE', 'JU', 'NE', 'LU', 'TI'])"
      ]
     },
     "execution_count": 564,
     "metadata": {},
     "output_type": "execute_result"
    }
   ],
   "source": [
    "uniDict.values()"
   ]
  },
  {
   "cell_type": "markdown",
   "metadata": {},
   "source": [
    "We also see an entry called 'Lazio' in the dict. It's obviously not in Switzerland but in Italy. We can remove it later."
   ]
  },
  {
   "cell_type": "markdown",
   "metadata": {},
   "source": [
    "### Add Canton column in dataframe"
   ]
  },
  {
   "cell_type": "markdown",
   "metadata": {},
   "source": [
    "Now, to prepare for the choropleth, we create a new column called `Canton` to map universities with cantons.\n"
   ]
  },
  {
   "cell_type": "code",
   "execution_count": 565,
   "metadata": {
    "collapsed": false
   },
   "outputs": [
    {
     "data": {
      "text/plain": [
       "(46194, 3)"
      ]
     },
     "execution_count": 565,
     "metadata": {},
     "output_type": "execute_result"
    }
   ],
   "source": [
    "grantReport['Canton'] = np.nan\n",
    "for u in uni:\n",
    "    grantReport.loc[grantReport.University == u, 'Canton'] = uniDict[u]\n",
    "grantReport.shape"
   ]
  },
  {
   "cell_type": "code",
   "execution_count": 566,
   "metadata": {
    "collapsed": false
   },
   "outputs": [
    {
     "data": {
      "text/plain": [
       "(46188, 3)"
      ]
     },
     "execution_count": 566,
     "metadata": {},
     "output_type": "execute_result"
    }
   ],
   "source": [
    "# delete rows in \"Canton\" Lazio\n",
    "grantReport = grantReport[grantReport.Canton != 'Lazio']\n",
    "grantReport.shape"
   ]
  },
  {
   "cell_type": "code",
   "execution_count": 567,
   "metadata": {
    "collapsed": false
   },
   "outputs": [
    {
     "data": {
      "text/html": [
       "<div>\n",
       "<table border=\"1\" class=\"dataframe\">\n",
       "  <thead>\n",
       "    <tr style=\"text-align: right;\">\n",
       "      <th></th>\n",
       "      <th>Approved Amount</th>\n",
       "      <th>University</th>\n",
       "      <th>Canton</th>\n",
       "    </tr>\n",
       "  </thead>\n",
       "  <tbody>\n",
       "    <tr>\n",
       "      <th>1</th>\n",
       "      <td>41022.00</td>\n",
       "      <td>Université de Genève - GE</td>\n",
       "      <td>GE</td>\n",
       "    </tr>\n",
       "    <tr>\n",
       "      <th>3</th>\n",
       "      <td>52627.00</td>\n",
       "      <td>Universität Basel - BS</td>\n",
       "      <td>BS</td>\n",
       "    </tr>\n",
       "    <tr>\n",
       "      <th>5</th>\n",
       "      <td>53009.00</td>\n",
       "      <td>Université de Fribourg - FR</td>\n",
       "      <td>FR</td>\n",
       "    </tr>\n",
       "    <tr>\n",
       "      <th>6</th>\n",
       "      <td>25403.00</td>\n",
       "      <td>Université de Fribourg - FR</td>\n",
       "      <td>FR</td>\n",
       "    </tr>\n",
       "    <tr>\n",
       "      <th>7</th>\n",
       "      <td>47100.00</td>\n",
       "      <td>Universität Zürich - ZH</td>\n",
       "      <td>ZH</td>\n",
       "    </tr>\n",
       "  </tbody>\n",
       "</table>\n",
       "</div>"
      ],
      "text/plain": [
       "  Approved Amount                   University Canton\n",
       "1        41022.00    Université de Genève - GE     GE\n",
       "3        52627.00       Universität Basel - BS     BS\n",
       "5        53009.00  Université de Fribourg - FR     FR\n",
       "6        25403.00  Université de Fribourg - FR     FR\n",
       "7        47100.00      Universität Zürich - ZH     ZH"
      ]
     },
     "execution_count": 567,
     "metadata": {},
     "output_type": "execute_result"
    }
   ],
   "source": [
    "grantReport.head()"
   ]
  },
  {
   "cell_type": "markdown",
   "metadata": {},
   "source": [
    "This `grantReport` is exactly the data frame we want."
   ]
  },
  {
   "cell_type": "markdown",
   "metadata": {},
   "source": [
    "# Plot"
   ]
  },
  {
   "cell_type": "markdown",
   "metadata": {},
   "source": [
    "Since we have already everything we desire, it's time create the choropleth. We will use a logarithmic scale because the total money spent per canton is high and the differences are too remarkable."
   ]
  },
  {
   "cell_type": "code",
   "execution_count": 568,
   "metadata": {
    "collapsed": true
   },
   "outputs": [],
   "source": [
    "grantReport['Approved Amount'] = pd.to_numeric(grantReport['Approved Amount'], errors='coerce')"
   ]
  },
  {
   "cell_type": "code",
   "execution_count": 500,
   "metadata": {
    "collapsed": false
   },
   "outputs": [],
   "source": [
    "topo_path = r'ch-cantons.topojson.json'\n",
    "\n",
    "with open(topo_path) as data_file:    \n",
    "    crl = json.load(data_file)\n",
    "    \n",
    "# retrieve the name of the cantons from the topojson\n",
    "cantonNames = []\n",
    "for i in range(0,26):\n",
    "    cantonNames.append(crl['objects']['cantons']['geometries'][i]['id'])\n",
    "    \n",
    "# calculate grant sum for each canton\n",
    "grantSum = np.r_[0:26] * 0.0\n",
    "for i in range(0,len(grantReport.Canton.unique())):\n",
    "    canton = grantReport.Canton.unique()[i]\n",
    "    if canton in cantonNames:\n",
    "        grantSum[cantonNames.index(canton)] = grantReport[grantReport.Canton == canton]['Approved Amount'].sum()\n",
    "    \n",
    "countDF = pd.DataFrame({'Canton': cantonNames, 'Grant': np.log10(grantSum+1)})\n",
    "\n",
    "sc = np.linspace(0, np.max(countDF.Grant), 6)\n",
    "\n",
    "map_4 = folium.Map(location=[46.57, 7.27], tiles = 'Mapbox bright', zoom_start=8)\n",
    "map_4.choropleth(geo_path=topo_path, topojson = 'objects.cantons', data = countDF,\n",
    "                 columns=['Canton', 'Grant'],\n",
    "                 threshold_scale=list(sc),\n",
    "                 key_on='feature.id',\n",
    "                 fill_color='BuPu', fill_opacity=0.7, line_opacity=0.2,\n",
    "                 legend_name='Total grants per Canton in a log scale')\n",
    "map_4.save('grantMap.html')"
   ]
  },
  {
   "cell_type": "markdown",
   "metadata": {},
   "source": [
    "***The final choropleth map is hosted at https://ada-choropleth.herokuapp.com/. (takes 20 sec to open if server is in sleep mode)***"
   ]
  },
  {
   "cell_type": "markdown",
   "metadata": {},
   "source": [
    "# Bonus"
   ]
  },
  {
   "cell_type": "markdown",
   "metadata": {},
   "source": [
    "To divide the total grant by Röstigraben, we create a dataFrame for each of three areas: Swiss-French, Swiss-German, and Swiss-Italian. Since Swiss-German is dominant in size, we try to find out universities in Swiss-French and Swiss-Italian."
   ]
  },
  {
   "cell_type": "markdown",
   "metadata": {},
   "source": [
    "The best way is to do the division by university names. French named universities are classified as Swiss-French, Italian named universities are Swiss-Italian, etc."
   ]
  },
  {
   "cell_type": "markdown",
   "metadata": {},
   "source": [
    "All the external data and linguistic/cartographic knowledges in this section come from:\n",
    "\n",
    "https://en.wikipedia.org/wiki/Languages_of_Switzerland"
   ]
  },
  {
   "cell_type": "code",
   "execution_count": 569,
   "metadata": {
    "collapsed": false
   },
   "outputs": [],
   "source": [
    "# get ready\n",
    "grantReport['Language'] = ''"
   ]
  },
  {
   "cell_type": "markdown",
   "metadata": {},
   "source": [
    "## Swiss-French"
   ]
  },
  {
   "cell_type": "code",
   "execution_count": 570,
   "metadata": {
    "collapsed": false
   },
   "outputs": [],
   "source": [
    "# cantons that goes full French\n",
    "grantReport.loc[grantReport.Canton.isin(['GE', 'VD', 'NE', 'JU']), 'Language'] = 'French'"
   ]
  },
  {
   "cell_type": "code",
   "execution_count": 571,
   "metadata": {
    "collapsed": false
   },
   "outputs": [
    {
     "data": {
      "text/plain": [
       "array(['Université de Fribourg - FR', 'Universität Bern - BE',\n",
       "       'Robert Walser-Stiftung Bern - RWS', 'Berner Fachhochschule - BFH',\n",
       "       'Forschungsanstalten Agroscope - AGS',\n",
       "       'Eidg. Hochschulinstitut für Berufsbildung - EHB',\n",
       "       \"Centre de rech. sur l'environnement alpin - CREALP\",\n",
       "       'Idiap Research Institute - IDIAP',\n",
       "       'Pädagogische Hochschule Bern - PHBern',\n",
       "       'Institut Universitaire Kurt Bösch - IUKB',\n",
       "       'Forschungsinstitut für Opthalmologie - IRO',\n",
       "       'Forschungskommission SAGW',\n",
       "       'Haute école pédagogique fribourgeoise - HEPFR',\n",
       "       'Pädagogische Hochschule Wallis - PHVS',\n",
       "       'Fernfachhochschule Schweiz (Mitglied SUPSI) - FFHS'], dtype=object)"
      ]
     },
     "execution_count": 571,
     "metadata": {},
     "output_type": "execute_result"
    }
   ],
   "source": [
    "# cantons that are mixed with French and German\n",
    "# record french names\n",
    "grantReport[grantReport.Canton.isin(['FR', 'VS', 'BE'])].University.unique()"
   ]
  },
  {
   "cell_type": "code",
   "execution_count": 572,
   "metadata": {
    "collapsed": true
   },
   "outputs": [],
   "source": [
    "# list of all French universities in FR, VS and BE, which are German/French-mixed cantons\n",
    "frenchUniversities = ['Université de Fribourg - FR',\n",
    "                      \"Centre de rech. sur l'environnement alpin - CREALP\",\n",
    "                      'Idiap Research Institute - IDIAP',\n",
    "                      'Institut Universitaire Kurt Bösch - IUKB',\n",
    "                      'Haute école pédagogique fribourgeoise - HEPFR']"
   ]
  },
  {
   "cell_type": "code",
   "execution_count": 573,
   "metadata": {
    "collapsed": false
   },
   "outputs": [
    {
     "data": {
      "text/html": [
       "<div>\n",
       "<table border=\"1\" class=\"dataframe\">\n",
       "  <thead>\n",
       "    <tr style=\"text-align: right;\">\n",
       "      <th></th>\n",
       "      <th>Approved Amount</th>\n",
       "      <th>University</th>\n",
       "      <th>Canton</th>\n",
       "      <th>Language</th>\n",
       "    </tr>\n",
       "  </thead>\n",
       "  <tbody>\n",
       "    <tr>\n",
       "      <th>1</th>\n",
       "      <td>41022.0</td>\n",
       "      <td>Université de Genève - GE</td>\n",
       "      <td>GE</td>\n",
       "      <td>French</td>\n",
       "    </tr>\n",
       "    <tr>\n",
       "      <th>3</th>\n",
       "      <td>52627.0</td>\n",
       "      <td>Universität Basel - BS</td>\n",
       "      <td>BS</td>\n",
       "      <td></td>\n",
       "    </tr>\n",
       "    <tr>\n",
       "      <th>5</th>\n",
       "      <td>53009.0</td>\n",
       "      <td>Université de Fribourg - FR</td>\n",
       "      <td>FR</td>\n",
       "      <td>French</td>\n",
       "    </tr>\n",
       "    <tr>\n",
       "      <th>6</th>\n",
       "      <td>25403.0</td>\n",
       "      <td>Université de Fribourg - FR</td>\n",
       "      <td>FR</td>\n",
       "      <td>French</td>\n",
       "    </tr>\n",
       "    <tr>\n",
       "      <th>7</th>\n",
       "      <td>47100.0</td>\n",
       "      <td>Universität Zürich - ZH</td>\n",
       "      <td>ZH</td>\n",
       "      <td></td>\n",
       "    </tr>\n",
       "  </tbody>\n",
       "</table>\n",
       "</div>"
      ],
      "text/plain": [
       "   Approved Amount                   University Canton Language\n",
       "1          41022.0    Université de Genève - GE     GE   French\n",
       "3          52627.0       Universität Basel - BS     BS         \n",
       "5          53009.0  Université de Fribourg - FR     FR   French\n",
       "6          25403.0  Université de Fribourg - FR     FR   French\n",
       "7          47100.0      Universität Zürich - ZH     ZH         "
      ]
     },
     "execution_count": 573,
     "metadata": {},
     "output_type": "execute_result"
    }
   ],
   "source": [
    "# keep the universities with French names\n",
    "grantReport.loc[grantReport.University.isin(frenchUniversities), 'Language'] = 'French'\n",
    "grantReport.head()"
   ]
  },
  {
   "cell_type": "markdown",
   "metadata": {},
   "source": [
    "## Swiss-Italian"
   ]
  },
  {
   "cell_type": "code",
   "execution_count": 574,
   "metadata": {
    "collapsed": false
   },
   "outputs": [
    {
     "data": {
      "text/html": [
       "<div>\n",
       "<table border=\"1\" class=\"dataframe\">\n",
       "  <thead>\n",
       "    <tr style=\"text-align: right;\">\n",
       "      <th></th>\n",
       "      <th>Approved Amount</th>\n",
       "      <th>University</th>\n",
       "      <th>Canton</th>\n",
       "      <th>Language</th>\n",
       "    </tr>\n",
       "  </thead>\n",
       "  <tbody>\n",
       "    <tr>\n",
       "      <th>704</th>\n",
       "      <td>60000.0</td>\n",
       "      <td>SUP della Svizzera italiana - SUPSI</td>\n",
       "      <td>TI</td>\n",
       "      <td>Italian</td>\n",
       "    </tr>\n",
       "    <tr>\n",
       "      <th>3644</th>\n",
       "      <td>133500.0</td>\n",
       "      <td>SUP della Svizzera italiana - SUPSI</td>\n",
       "      <td>TI</td>\n",
       "      <td>Italian</td>\n",
       "    </tr>\n",
       "    <tr>\n",
       "      <th>4140</th>\n",
       "      <td>44000.0</td>\n",
       "      <td>SUP della Svizzera italiana - SUPSI</td>\n",
       "      <td>TI</td>\n",
       "      <td>Italian</td>\n",
       "    </tr>\n",
       "    <tr>\n",
       "      <th>4592</th>\n",
       "      <td>203383.0</td>\n",
       "      <td>SUP della Svizzera italiana - SUPSI</td>\n",
       "      <td>TI</td>\n",
       "      <td>Italian</td>\n",
       "    </tr>\n",
       "    <tr>\n",
       "      <th>5847</th>\n",
       "      <td>96200.0</td>\n",
       "      <td>Ente Ospedaliero Cantonale - EOC</td>\n",
       "      <td>TI</td>\n",
       "      <td>Italian</td>\n",
       "    </tr>\n",
       "  </tbody>\n",
       "</table>\n",
       "</div>"
      ],
      "text/plain": [
       "      Approved Amount                           University Canton Language\n",
       "704           60000.0  SUP della Svizzera italiana - SUPSI     TI  Italian\n",
       "3644         133500.0  SUP della Svizzera italiana - SUPSI     TI  Italian\n",
       "4140          44000.0  SUP della Svizzera italiana - SUPSI     TI  Italian\n",
       "4592         203383.0  SUP della Svizzera italiana - SUPSI     TI  Italian\n",
       "5847          96200.0     Ente Ospedaliero Cantonale - EOC     TI  Italian"
      ]
     },
     "execution_count": 574,
     "metadata": {},
     "output_type": "execute_result"
    }
   ],
   "source": [
    "# just Ticino\n",
    "grantReport.loc[grantReport.Canton.isin(['TI']), 'Language'] = 'Italian'\n",
    "grantReport[grantReport.Canton == 'TI'].head()"
   ]
  },
  {
   "cell_type": "markdown",
   "metadata": {},
   "source": [
    "## Swiss-German"
   ]
  },
  {
   "cell_type": "code",
   "execution_count": 576,
   "metadata": {
    "collapsed": false
   },
   "outputs": [
    {
     "data": {
      "text/html": [
       "<div>\n",
       "<table border=\"1\" class=\"dataframe\">\n",
       "  <thead>\n",
       "    <tr style=\"text-align: right;\">\n",
       "      <th></th>\n",
       "      <th>Approved Amount</th>\n",
       "      <th>University</th>\n",
       "      <th>Canton</th>\n",
       "      <th>Language</th>\n",
       "    </tr>\n",
       "  </thead>\n",
       "  <tbody>\n",
       "    <tr>\n",
       "      <th>1</th>\n",
       "      <td>41022.0</td>\n",
       "      <td>Université de Genève - GE</td>\n",
       "      <td>GE</td>\n",
       "      <td>French</td>\n",
       "    </tr>\n",
       "    <tr>\n",
       "      <th>3</th>\n",
       "      <td>52627.0</td>\n",
       "      <td>Universität Basel - BS</td>\n",
       "      <td>BS</td>\n",
       "      <td>German</td>\n",
       "    </tr>\n",
       "    <tr>\n",
       "      <th>5</th>\n",
       "      <td>53009.0</td>\n",
       "      <td>Université de Fribourg - FR</td>\n",
       "      <td>FR</td>\n",
       "      <td>French</td>\n",
       "    </tr>\n",
       "    <tr>\n",
       "      <th>6</th>\n",
       "      <td>25403.0</td>\n",
       "      <td>Université de Fribourg - FR</td>\n",
       "      <td>FR</td>\n",
       "      <td>French</td>\n",
       "    </tr>\n",
       "    <tr>\n",
       "      <th>7</th>\n",
       "      <td>47100.0</td>\n",
       "      <td>Universität Zürich - ZH</td>\n",
       "      <td>ZH</td>\n",
       "      <td>German</td>\n",
       "    </tr>\n",
       "  </tbody>\n",
       "</table>\n",
       "</div>"
      ],
      "text/plain": [
       "   Approved Amount                   University Canton Language\n",
       "1          41022.0    Université de Genève - GE     GE   French\n",
       "3          52627.0       Universität Basel - BS     BS   German\n",
       "5          53009.0  Université de Fribourg - FR     FR   French\n",
       "6          25403.0  Université de Fribourg - FR     FR   French\n",
       "7          47100.0      Universität Zürich - ZH     ZH   German"
      ]
     },
     "execution_count": 576,
     "metadata": {},
     "output_type": "execute_result"
    }
   ],
   "source": [
    "# just replace the other NaN value to German\n",
    "grantReport.Language = grantReport.Language.replace('', 'German')\n",
    "grantReport.head()"
   ]
  },
  {
   "cell_type": "code",
   "execution_count": 577,
   "metadata": {
    "collapsed": false
   },
   "outputs": [
    {
     "data": {
      "text/plain": [
       "0"
      ]
     },
     "execution_count": 577,
     "metadata": {},
     "output_type": "execute_result"
    }
   ],
   "source": [
    "# check\n",
    "sum(grantReport.Language == '')"
   ]
  },
  {
   "cell_type": "markdown",
   "metadata": {},
   "source": [
    "## Sum it up"
   ]
  },
  {
   "cell_type": "code",
   "execution_count": 579,
   "metadata": {
    "collapsed": false
   },
   "outputs": [],
   "source": [
    "langs = ['French', 'German', 'Italian']\n",
    "amounts = [0.0] * 3\n",
    "\n",
    "for lang in langs:\n",
    "    amounts[langs.index(lang)] = grantReport[grantReport.Language == lang]['Approved Amount'].sum()"
   ]
  },
  {
   "cell_type": "code",
   "execution_count": 582,
   "metadata": {
    "collapsed": false
   },
   "outputs": [
    {
     "data": {
      "text/plain": [
       "<matplotlib.axes._subplots.AxesSubplot at 0x1393b88d0>"
      ]
     },
     "execution_count": 582,
     "metadata": {},
     "output_type": "execute_result"
    },
    {
     "data": {
      "image/png": "[encoded data removed]",
      "text/plain": [
       "<matplotlib.figure.Figure at 0x136906940>"
      ]
     },
     "metadata": {},
     "output_type": "display_data"
    }
   ],
   "source": [
    "rostiDF = pd.DataFrame({'Grant': amounts}, index = langs)\n",
    "rostiDF.plot(kind='bar')"
   ]
  },
  {
   "cell_type": "markdown",
   "metadata": {},
   "source": [
    "This bar chart doesn’t imply anything, because the population and area of three territories are so much different. Another chart sounds more interesting to us: __grant per capita__. The population data is [from here](https://en.wikipedia.org/wiki/Languages_of_Switzerland#Other_languages)."
   ]
  },
  {
   "cell_type": "code",
   "execution_count": 586,
   "metadata": {
    "collapsed": false
   },
   "outputs": [
    {
     "data": {
      "text/plain": [
       "<matplotlib.axes._subplots.AxesSubplot at 0x1441a0048>"
      ]
     },
     "execution_count": 586,
     "metadata": {},
     "output_type": "execute_result"
    },
    {
     "data": {
      "image/png": "[encoded data removed]",
      "text/plain": [
       "<matplotlib.figure.Figure at 0x11757d6a0>"
      ]
     },
     "metadata": {},
     "output_type": "display_data"
    }
   ],
   "source": [
    "mainLanguagePopulation = [1525003, 4348289, 561857] # population in 2013 in terms of main language\n",
    "perCapita = [amount/pop for amount, pop in zip(amounts, mainLanguagePopulation)]\n",
    "rostiPerCapitaDF = pd.DataFrame({'Grant per capita': perCapita}, index = langs)\n",
    "rostiPerCapitaDF.plot(kind='bar')"
   ]
  },
  {
   "cell_type": "markdown",
   "metadata": {},
   "source": [
    "It seems that Swiss-French people have the larges scholar grant per capita, while Swiss-Italians have the least."
   ]
  }
 ],
 "metadata": {
  "anaconda-cloud": {},
  "kernelspec": {
   "display_name": "Python [Root]",
   "language": "python",
   "name": "Python [Root]"
  },
  "language_info": {
   "codemirror_mode": {
    "name": "ipython",
    "version": 3
   },
   "file_extension": ".py",
   "mimetype": "text/x-python",
   "name": "python",
   "nbconvert_exporter": "python",
   "pygments_lexer": "ipython3",
   "version": "3.5.2"
  },
  "toc": {
   "nav_menu": {
    "height": "12px",
    "width": "252px"
   },
   "navigate_menu": true,
   "number_sections": true,
   "sideBar": true,
   "threshold": 4,
   "toc_cell": false,
   "toc_section_display": "block",
   "toc_window_display": false
  }
 },
 "nbformat": 4,
 "nbformat_minor": 0
}
