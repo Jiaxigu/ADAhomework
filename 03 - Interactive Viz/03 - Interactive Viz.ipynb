{
 "cells": [
  {
   "cell_type": "markdown",
   "metadata": {},
   "source": [
    "# Background"
   ]
  },
  {
   "cell_type": "markdown",
   "metadata": {},
   "source": [
    "In this homework we will practice with interactive visualization, which is the key ingredient of many successful viz (especially when it comes to infographics). You will be working with the P3 database of the SNSF (Swiss National Science Foundation). As you can see from their entry page, P3 already offers some ready-made viz, but we want to build a more advanced one for the sake of quick data exploration. Therefore, start by downloading the raw data (just for the Grant Export), and read carefully the documentation to understand the schema. Install then Folium to deal with geographical data (HINT: it is not available in your standard Anaconda environment, therefore search on the Web how to install it easily!) The README file of Folium comes with very clear examples, and links to their own iPython Notebooks -- make good use of this information. For your own convenience, in this same directory you can already find a TopoJSON file with the geo-coordinates of each Swiss canton (which can be used as an overlay on the Folium maps)."
   ]
  },
  {
   "cell_type": "markdown",
   "metadata": {},
   "source": [
    "# Assignment"
   ]
  },
  {
   "cell_type": "markdown",
   "metadata": {},
   "source": [
    "Build a Choropleth map which shows intuitively (i.e., use colors wisely) how much grant money goes to each Swiss canton. To do so, you will need to use the provided TopoJSON file, combined with the Choropleth map example you can find in the Folium README file.\n",
    "HINT: the P3 database is formed by entries which assign a grant (and its approved amount) to a University name. Therefore you will need a smart strategy to go from University to Canton name. The Geonames Full Text Search API in JSON can help you with this -- try to use it as much as possible to build the canton mappings that you need. For those universities for which you cannot find a mapping via the API, you are then allowed to build it manually -- feel free to stop by the time you mapped the top-95% of the universities. I also recommend you to use an intermediate viz step for debugging purposes, showing all the universties as markers in your map (e.g., if you don't select the right results from the Geonames API, some of your markers might be placed on nearby countries...)\n",
    "\n",
    "BONUS: using the map you have just built, and the geographical information contained in it, could you give a rough estimate of the difference in research funding between the areas divided by the Röstigraben?"
   ]
  },
  {
   "cell_type": "markdown",
   "metadata": {},
   "source": [
    "# Getting started"
   ]
  },
  {
   "cell_type": "markdown",
   "metadata": {},
   "source": [
    "## Imports"
   ]
  },
  {
   "cell_type": "code",
   "execution_count": 133,
   "metadata": {
    "collapsed": false
   },
   "outputs": [],
   "source": [
    "%matplotlib inline\n",
    "import pandas as pd\n",
    "import numpy as np\n",
    "import scipy.stats as stats\n",
    "import folium\n",
    "import json\n",
    "import urllib\n",
    "\n",
    "from googleplaces import GooglePlaces, types, lang"
   ]
  },
  {
   "cell_type": "markdown",
   "metadata": {
    "collapsed": true
   },
   "source": [
    "## Read data from grant report"
   ]
  },
  {
   "cell_type": "code",
   "execution_count": 134,
   "metadata": {
    "collapsed": false
   },
   "outputs": [
    {
     "data": {
      "text/html": [
       "<div>\n",
       "<table border=\"1\" class=\"dataframe\">\n",
       "  <thead>\n",
       "    <tr style=\"text-align: right;\">\n",
       "      <th></th>\n",
       "      <th>﻿\"Project Number\"</th>\n",
       "      <th>Project Title</th>\n",
       "      <th>Project Title English</th>\n",
       "      <th>Responsible Applicant</th>\n",
       "      <th>Funding Instrument</th>\n",
       "      <th>Funding Instrument Hierarchy</th>\n",
       "      <th>Institution</th>\n",
       "      <th>University</th>\n",
       "      <th>Discipline Number</th>\n",
       "      <th>Discipline Name</th>\n",
       "      <th>Discipline Name Hierarchy</th>\n",
       "      <th>Start Date</th>\n",
       "      <th>End Date</th>\n",
       "      <th>Approved Amount</th>\n",
       "      <th>Keywords</th>\n",
       "    </tr>\n",
       "  </thead>\n",
       "  <tbody>\n",
       "    <tr>\n",
       "      <th>0</th>\n",
       "      <td>1</td>\n",
       "      <td>Schlussband (Bd. VI) der Jacob Burckhardt-Biog...</td>\n",
       "      <td></td>\n",
       "      <td>Kaegi Werner</td>\n",
       "      <td>Project funding (Div. I-III)</td>\n",
       "      <td>Project funding</td>\n",
       "      <td></td>\n",
       "      <td>Nicht zuteilbar - NA</td>\n",
       "      <td>10302</td>\n",
       "      <td>Swiss history</td>\n",
       "      <td>Human and Social Sciences;Theology &amp; religious...</td>\n",
       "      <td>01.10.1975</td>\n",
       "      <td>30.09.1976</td>\n",
       "      <td>11619.00</td>\n",
       "      <td></td>\n",
       "    </tr>\n",
       "    <tr>\n",
       "      <th>1</th>\n",
       "      <td>4</td>\n",
       "      <td>Batterie de tests à l'usage des enseignants po...</td>\n",
       "      <td></td>\n",
       "      <td>Massarenti Léonard</td>\n",
       "      <td>Project funding (Div. I-III)</td>\n",
       "      <td>Project funding</td>\n",
       "      <td>Faculté de Psychologie et des Sciences de l'Ed...</td>\n",
       "      <td>Université de Genève - GE</td>\n",
       "      <td>10104</td>\n",
       "      <td>Educational science and Pedagogy</td>\n",
       "      <td>Human and Social Sciences;Psychology, educatio...</td>\n",
       "      <td>01.10.1975</td>\n",
       "      <td>30.09.1976</td>\n",
       "      <td>41022.00</td>\n",
       "      <td></td>\n",
       "    </tr>\n",
       "    <tr>\n",
       "      <th>2</th>\n",
       "      <td>5</td>\n",
       "      <td>Kritische Erstausgabe der \"Evidentiae contra D...</td>\n",
       "      <td></td>\n",
       "      <td>Kommission für das Corpus philosophorum medii ...</td>\n",
       "      <td>Project funding (Div. I-III)</td>\n",
       "      <td>Project funding</td>\n",
       "      <td>Kommission für das Corpus philosophorum medii ...</td>\n",
       "      <td>NPO (Biblioth., Museen, Verwalt.) - NPO</td>\n",
       "      <td>10101</td>\n",
       "      <td>Philosophy</td>\n",
       "      <td>Human and Social Sciences;Linguistics and lite...</td>\n",
       "      <td>01.03.1976</td>\n",
       "      <td>28.02.1985</td>\n",
       "      <td>79732.00</td>\n",
       "      <td></td>\n",
       "    </tr>\n",
       "    <tr>\n",
       "      <th>3</th>\n",
       "      <td>6</td>\n",
       "      <td>Katalog der datierten Handschriften in der Sch...</td>\n",
       "      <td></td>\n",
       "      <td>Burckhardt Max</td>\n",
       "      <td>Project funding (Div. I-III)</td>\n",
       "      <td>Project funding</td>\n",
       "      <td>Abt. Handschriften und Alte Drucke Bibliothek ...</td>\n",
       "      <td>Universität Basel - BS</td>\n",
       "      <td>10302</td>\n",
       "      <td>Swiss history</td>\n",
       "      <td>Human and Social Sciences;Theology &amp; religious...</td>\n",
       "      <td>01.10.1975</td>\n",
       "      <td>30.09.1976</td>\n",
       "      <td>52627.00</td>\n",
       "      <td></td>\n",
       "    </tr>\n",
       "    <tr>\n",
       "      <th>4</th>\n",
       "      <td>7</td>\n",
       "      <td>Wissenschaftliche Mitarbeit am Thesaurus Lingu...</td>\n",
       "      <td></td>\n",
       "      <td>Schweiz. Thesauruskommission</td>\n",
       "      <td>Project funding (Div. I-III)</td>\n",
       "      <td>Project funding</td>\n",
       "      <td>Schweiz. Thesauruskommission</td>\n",
       "      <td>NPO (Biblioth., Museen, Verwalt.) - NPO</td>\n",
       "      <td>10303</td>\n",
       "      <td>Ancient history and Classical studies</td>\n",
       "      <td>Human and Social Sciences;Theology &amp; religious...</td>\n",
       "      <td>01.01.1976</td>\n",
       "      <td>30.04.1978</td>\n",
       "      <td>120042.00</td>\n",
       "      <td></td>\n",
       "    </tr>\n",
       "  </tbody>\n",
       "</table>\n",
       "</div>"
      ],
      "text/plain": [
       "   ﻿\"Project Number\"                                      Project Title  \\\n",
       "0                  1  Schlussband (Bd. VI) der Jacob Burckhardt-Biog...   \n",
       "1                  4  Batterie de tests à l'usage des enseignants po...   \n",
       "2                  5  Kritische Erstausgabe der \"Evidentiae contra D...   \n",
       "3                  6  Katalog der datierten Handschriften in der Sch...   \n",
       "4                  7  Wissenschaftliche Mitarbeit am Thesaurus Lingu...   \n",
       "\n",
       "  Project Title English                              Responsible Applicant  \\\n",
       "0                                                             Kaegi Werner   \n",
       "1                                                       Massarenti Léonard   \n",
       "2                        Kommission für das Corpus philosophorum medii ...   \n",
       "3                                                           Burckhardt Max   \n",
       "4                                             Schweiz. Thesauruskommission   \n",
       "\n",
       "             Funding Instrument Funding Instrument Hierarchy  \\\n",
       "0  Project funding (Div. I-III)              Project funding   \n",
       "1  Project funding (Div. I-III)              Project funding   \n",
       "2  Project funding (Div. I-III)              Project funding   \n",
       "3  Project funding (Div. I-III)              Project funding   \n",
       "4  Project funding (Div. I-III)              Project funding   \n",
       "\n",
       "                                         Institution  \\\n",
       "0                                                      \n",
       "1  Faculté de Psychologie et des Sciences de l'Ed...   \n",
       "2  Kommission für das Corpus philosophorum medii ...   \n",
       "3  Abt. Handschriften und Alte Drucke Bibliothek ...   \n",
       "4                       Schweiz. Thesauruskommission   \n",
       "\n",
       "                                University  Discipline Number  \\\n",
       "0                     Nicht zuteilbar - NA              10302   \n",
       "1                Université de Genève - GE              10104   \n",
       "2  NPO (Biblioth., Museen, Verwalt.) - NPO              10101   \n",
       "3                   Universität Basel - BS              10302   \n",
       "4  NPO (Biblioth., Museen, Verwalt.) - NPO              10303   \n",
       "\n",
       "                         Discipline Name  \\\n",
       "0                          Swiss history   \n",
       "1       Educational science and Pedagogy   \n",
       "2                             Philosophy   \n",
       "3                          Swiss history   \n",
       "4  Ancient history and Classical studies   \n",
       "\n",
       "                           Discipline Name Hierarchy  Start Date    End Date  \\\n",
       "0  Human and Social Sciences;Theology & religious...  01.10.1975  30.09.1976   \n",
       "1  Human and Social Sciences;Psychology, educatio...  01.10.1975  30.09.1976   \n",
       "2  Human and Social Sciences;Linguistics and lite...  01.03.1976  28.02.1985   \n",
       "3  Human and Social Sciences;Theology & religious...  01.10.1975  30.09.1976   \n",
       "4  Human and Social Sciences;Theology & religious...  01.01.1976  30.04.1978   \n",
       "\n",
       "  Approved Amount Keywords  \n",
       "0        11619.00           \n",
       "1        41022.00           \n",
       "2        79732.00           \n",
       "3        52627.00           \n",
       "4       120042.00           "
      ]
     },
     "execution_count": 134,
     "metadata": {},
     "output_type": "execute_result"
    }
   ],
   "source": [
    "# read csv file. we notice that a lot of NaN value is present, so we replace them with empty field for better visual\n",
    "grantReport = pd.read_csv('data/P3_GrantExport.csv', delimiter=';')\n",
    "grantReport = grantReport.fillna('')\n",
    "grantReport.head()"
   ]
  },
  {
   "cell_type": "markdown",
   "metadata": {},
   "source": [
    "## Clean up"
   ]
  },
  {
   "cell_type": "markdown",
   "metadata": {},
   "source": [
    "From the chart above, we are interested in nothing but two columns: _University_ and _Approved Amount_."
   ]
  },
  {
   "cell_type": "code",
   "execution_count": 135,
   "metadata": {
    "collapsed": false
   },
   "outputs": [
    {
     "data": {
      "text/html": [
       "<div>\n",
       "<table border=\"1\" class=\"dataframe\">\n",
       "  <thead>\n",
       "    <tr style=\"text-align: right;\">\n",
       "      <th></th>\n",
       "      <th>Approved Amount</th>\n",
       "      <th>University</th>\n",
       "    </tr>\n",
       "  </thead>\n",
       "  <tbody>\n",
       "    <tr>\n",
       "      <th>0</th>\n",
       "      <td>11619.00</td>\n",
       "      <td>Nicht zuteilbar - NA</td>\n",
       "    </tr>\n",
       "    <tr>\n",
       "      <th>1</th>\n",
       "      <td>41022.00</td>\n",
       "      <td>Université de Genève - GE</td>\n",
       "    </tr>\n",
       "    <tr>\n",
       "      <th>2</th>\n",
       "      <td>79732.00</td>\n",
       "      <td>NPO (Biblioth., Museen, Verwalt.) - NPO</td>\n",
       "    </tr>\n",
       "    <tr>\n",
       "      <th>3</th>\n",
       "      <td>52627.00</td>\n",
       "      <td>Universität Basel - BS</td>\n",
       "    </tr>\n",
       "    <tr>\n",
       "      <th>4</th>\n",
       "      <td>120042.00</td>\n",
       "      <td>NPO (Biblioth., Museen, Verwalt.) - NPO</td>\n",
       "    </tr>\n",
       "  </tbody>\n",
       "</table>\n",
       "</div>"
      ],
      "text/plain": [
       "  Approved Amount                               University\n",
       "0        11619.00                     Nicht zuteilbar - NA\n",
       "1        41022.00                Université de Genève - GE\n",
       "2        79732.00  NPO (Biblioth., Museen, Verwalt.) - NPO\n",
       "3        52627.00                   Universität Basel - BS\n",
       "4       120042.00  NPO (Biblioth., Museen, Verwalt.) - NPO"
      ]
     },
     "execution_count": 135,
     "metadata": {},
     "output_type": "execute_result"
    }
   ],
   "source": [
    "grantReport = grantReport[['Approved Amount', 'University']]\n",
    "grantReport.head()"
   ]
  },
  {
   "cell_type": "markdown",
   "metadata": {},
   "source": [
    "First we check the universities."
   ]
  },
  {
   "cell_type": "code",
   "execution_count": 136,
   "metadata": {
    "collapsed": false
   },
   "outputs": [
    {
     "data": {
      "text/plain": [
       "(78,)"
      ]
     },
     "execution_count": 136,
     "metadata": {},
     "output_type": "execute_result"
    }
   ],
   "source": [
    "grantReport.University.unique().shape"
   ]
  },
  {
   "cell_type": "markdown",
   "metadata": {},
   "source": [
    "There are not so many different universities out there. So we list all of them to check outliers."
   ]
  },
  {
   "cell_type": "code",
   "execution_count": 137,
   "metadata": {
    "collapsed": false
   },
   "outputs": [
    {
     "data": {
      "text/plain": [
       "array(['Nicht zuteilbar - NA', 'Université de Genève - GE',\n",
       "       'NPO (Biblioth., Museen, Verwalt.) - NPO', 'Universität Basel - BS',\n",
       "       'Université de Fribourg - FR', 'Universität Zürich - ZH',\n",
       "       'Université de Lausanne - LA', 'Universität Bern - BE',\n",
       "       'Eidg. Forschungsanstalt für Wald,Schnee,Land - WSL',\n",
       "       'Université de Neuchâtel - NE', 'ETH Zürich - ETHZ',\n",
       "       'Inst. de Hautes Etudes Internat. et du Dév - IHEID',\n",
       "       'Universität St. Gallen - SG', 'Weitere Institute - FINST',\n",
       "       'Firmen/Privatwirtschaft - FP',\n",
       "       'Pädagogische Hochschule Graubünden - PHGR', 'EPF Lausanne - EPFL',\n",
       "       'Pädagogische Hochschule Zürich - PHZFH', 'Universität Luzern - LU',\n",
       "       'Schweiz. Institut für Kunstwissenschaft - SIK-ISEA',\n",
       "       'SUP della Svizzera italiana - SUPSI',\n",
       "       'HES de Suisse occidentale - HES-SO',\n",
       "       'Robert Walser-Stiftung Bern - RWS', 'Paul Scherrer Institut - PSI',\n",
       "       'Pädagogische Hochschule St. Gallen - PHSG',\n",
       "       'Eidg. Anstalt für Wasserversorgung - EAWAG',\n",
       "       'Eidg. Material und Prüfungsanstalt - EMPA',\n",
       "       'Physikal.-Meteorolog. Observatorium Davos - PMOD',\n",
       "       'Berner Fachhochschule - BFH',\n",
       "       'Swiss Center for Electronics and Microtech. - CSEM',\n",
       "       'Weitere Spitäler - ASPIT', 'AO Research Institute - AORI',\n",
       "       'Allergie- und Asthmaforschung - SIAF',\n",
       "       'Forschungsinstitut für biologischen Landbau - FIBL',\n",
       "       'Friedrich Miescher Institute - FMI',\n",
       "       'Kantonsspital St. Gallen - KSPSG',\n",
       "       'Forschungsanstalten Agroscope - AGS',\n",
       "       'Ente Ospedaliero Cantonale - EOC',\n",
       "       'Inst. universit. romand de Santé au Travail - IST',\n",
       "       'Eidg. Hochschulinstitut für Berufsbildung - EHB',\n",
       "       'Zürcher Fachhochschule (ohne PH) - ZFH',\n",
       "       'Università della Svizzera italiana - USI',\n",
       "       'Institut für Kulturforschung Graubünden - IKG',\n",
       "       'Fachhochschule Nordwestschweiz (ohne PH) - FHNW',\n",
       "       'Interkant. Hochschule für Heilpädagogik ZH - HfH', '',\n",
       "       \"Centre de rech. sur l'environnement alpin - CREALP\",\n",
       "       'Idiap Research Institute - IDIAP',\n",
       "       'Pädagogische Hochschule Bern - PHBern',\n",
       "       'Institut Universitaire Kurt Bösch - IUKB',\n",
       "       'Schweizer Paraplegiker Forschung - SPF',\n",
       "       'Hochschule Luzern - HSLU',\n",
       "       'Forschungsinstitut für Opthalmologie - IRO',\n",
       "       'Haute école pédagogique du canton de Vaud - HEPL',\n",
       "       'Fachhochschule Ostschweiz - FHO',\n",
       "       'Inst. Suisse de Spéléologie et Karstologie - ISSKA',\n",
       "       'Swiss Institute of Bioinformatics - SIB',\n",
       "       'Haute école pédagogique BE, JU, NE - HEPBEJUNE',\n",
       "       'Pädagogische Hochschule Luzern - PHLU',\n",
       "       'Forschungskommission SAGW', 'Istituto Svizzero di Roma - ISR',\n",
       "       'Pädag. Hochschule Tessin (Teilschule SUPSI) - ASP',\n",
       "       'Haute école pédagogique fribourgeoise - HEPFR',\n",
       "       'Pädagogische Hochschule Schwyz - PHSZ',\n",
       "       'Pädagogische Hochschule Thurgau - PHTG',\n",
       "       'Biotechnologie Institut Thurgau - BITG',\n",
       "       'Fachhochschule Kalaidos - FHKD',\n",
       "       'Schweizer Kompetenzzentrum Sozialwissensch. - FORS',\n",
       "       'Pädagogische Hochschule Wallis - PHVS',\n",
       "       'Schweiz. Hochschule für Logopädie Rorschach - SHLR',\n",
       "       'Pädagogische Hochschule Zug - PHZG',\n",
       "       'Instituto Ricerche Solari Locarno - IRSOL',\n",
       "       'Franklin University Switzerland - FUS',\n",
       "       'Pädagogische Hochschule Schaffhausen - PHSH',\n",
       "       'Pädagogische Hochschule Nordwestschweiz - PHFHNW',\n",
       "       'Staatsunabh. Theologische Hochschule Basel - STHB',\n",
       "       'Facoltà di Teologia di Lugano - FTL',\n",
       "       'Fernfachhochschule Schweiz (Mitglied SUPSI) - FFHS'], dtype=object)"
      ]
     },
     "execution_count": 137,
     "metadata": {},
     "output_type": "execute_result"
    }
   ],
   "source": [
    "uni = grantReport.University.unique()\n",
    "uni"
   ]
  },
  {
   "cell_type": "markdown",
   "metadata": {},
   "source": [
    "We see some obvious outliers there, such as an empty '', 'Nicht zuteilbar - NA', 'Weitere Institute - FINST'(_other institute_), and 'Weitere Spitäler - ASPIT'(_other hospital_)"
   ]
  },
  {
   "cell_type": "code",
   "execution_count": 138,
   "metadata": {
    "collapsed": false
   },
   "outputs": [],
   "source": [
    "invalidUniversities = ['Nicht zuteilbar - NA', 'Weitere Institute - FINST', 'Weitere Spitäler - ASPIT']\n",
    "grantReport.University = grantReport.University.replace(invalidUniversities, '')\n",
    "grantReport = grantReport[grantReport.University != '']"
   ]
  },
  {
   "cell_type": "code",
   "execution_count": 139,
   "metadata": {
    "collapsed": false
   },
   "outputs": [
    {
     "data": {
      "text/plain": [
       "(74,)"
      ]
     },
     "execution_count": 139,
     "metadata": {},
     "output_type": "execute_result"
    }
   ],
   "source": [
    "uni = grantReport.University.unique()\n",
    "uni.shape"
   ]
  },
  {
   "cell_type": "markdown",
   "metadata": {},
   "source": [
    "Great, we have kicked out outliers in University column. Now we do the same for the _Approved Amount_."
   ]
  },
  {
   "cell_type": "code",
   "execution_count": 140,
   "metadata": {
    "collapsed": false
   },
   "outputs": [
    {
     "data": {
      "text/plain": [
       "12815436933.020002"
      ]
     },
     "execution_count": 140,
     "metadata": {},
     "output_type": "execute_result"
    }
   ],
   "source": [
    "# we take an iterative way. valid amounts should be able to be transfered into floats with 'astype' method. do this:\n",
    "# sum(grantReport['Approved Amount'].astype(float))\n",
    "# when we try the above code, python returns an error:  could not convert string to float: 'data not included in P3'. we kick this out.\n",
    "invalidAmounts = ['data not included in P3']\n",
    "grantReport['Approved Amount'] = grantReport['Approved Amount'].replace(invalidAmounts, '')\n",
    "grantReport = grantReport[grantReport['Approved Amount'] != '']\n",
    "sum(grantReport['Approved Amount'].astype(float))\n",
    "# do the 'sum' code again. this time it works! seems we have only one type of invalid entry in 'Approved Amount'."
   ]
  },
  {
   "cell_type": "code",
   "execution_count": 141,
   "metadata": {
    "collapsed": false
   },
   "outputs": [
    {
     "data": {
      "text/plain": [
       "Approved Amount    48159\n",
       "University         48159\n",
       "dtype: int64"
      ]
     },
     "execution_count": 141,
     "metadata": {},
     "output_type": "execute_result"
    }
   ],
   "source": [
    "grantReport.count()"
   ]
  },
  {
   "cell_type": "markdown",
   "metadata": {},
   "source": [
    "## Assign universities to cantons"
   ]
  },
  {
   "cell_type": "code",
   "execution_count": 142,
   "metadata": {
    "collapsed": false
   },
   "outputs": [
    {
     "data": {
      "text/plain": [
       "(74,)"
      ]
     },
     "execution_count": 142,
     "metadata": {},
     "output_type": "execute_result"
    }
   ],
   "source": [
    "uni.shape"
   ]
  },
  {
   "cell_type": "markdown",
   "metadata": {},
   "source": [
    "### Import Google Map Services"
   ]
  },
  {
   "cell_type": "code",
   "execution_count": 176,
   "metadata": {
    "collapsed": false
   },
   "outputs": [],
   "source": [
    "# change key everytime\n",
    "API_KEY = 'USE_YOUR_KEY'\n",
    "\n",
    "if API_KEY != 'USE_YOUR_KEY':\n",
    "    google_places = GooglePlaces(API_KEY)        "
   ]
  },
  {
   "cell_type": "code",
   "execution_count": 177,
   "metadata": {
    "collapsed": false
   },
   "outputs": [
    {
     "data": {
      "text/plain": [
       "<Place name=\"University of Lausanne\", lat=46.5210895, lng=6.5801606>"
      ]
     },
     "execution_count": 177,
     "metadata": {},
     "output_type": "execute_result"
    }
   ],
   "source": [
    "response = google_places.text_search(query = uni[5])\n",
    "if response.places:\n",
    "    place = response.places[0]\n",
    "place"
   ]
  },
  {
   "cell_type": "code",
   "execution_count": 166,
   "metadata": {
    "collapsed": false
   },
   "outputs": [
    {
     "data": {
      "text/plain": [
       "{'lat': Decimal('46.5210895'), 'lng': Decimal('6.5801606')}"
      ]
     },
     "execution_count": 166,
     "metadata": {},
     "output_type": "execute_result"
    }
   ],
   "source": [
    "place.geo_location"
   ]
  },
  {
   "cell_type": "code",
   "execution_count": 168,
   "metadata": {
    "collapsed": false
   },
   "outputs": [
    {
     "data": {
      "text/plain": [
       "'VD'"
      ]
     },
     "execution_count": 168,
     "metadata": {},
     "output_type": "execute_result"
    }
   ],
   "source": [
    "place.get_details()\n",
    "details = place.details\n",
    "for component in details['address_components']:\n",
    "    if 'administrative_area_level_1' in component['types']:\n",
    "        canton = component['short_name']\n",
    "canton"
   ]
  },
  {
   "cell_type": "code",
   "execution_count": 172,
   "metadata": {
    "collapsed": true
   },
   "outputs": [],
   "source": [
    "# sum it up as functions\n",
    "def text_search(name):\n",
    "    response = google_places.text_search(query = name)\n",
    "    return response\n",
    "\n",
    "def uni_to_canton(name):\n",
    "    response = text_search(name)\n",
    "    canton = 'not found'\n",
    "    if response.places:\n",
    "        place = response.places[0]\n",
    "        place.get_details()\n",
    "        details = place.details\n",
    "        for component in details['address_components']:\n",
    "            if 'administrative_area_level_1' in component['types']:\n",
    "                canton = component['short_name']\n",
    "    return canton\n",
    "\n",
    "def uni_to_location(name):\n",
    "    response = text_search(name)\n",
    "    location = 'not found'\n",
    "    if response.places:\n",
    "        location = response.places[0].geo_location\n",
    "    return location\n",
    "\n",
    "def uni_to_dict(name):\n",
    "    uniDict = {'canton': uni_to_canton(name), 'location': uni_to_location(name)}\n",
    "    return uniDict"
   ]
  },
  {
   "cell_type": "code",
   "execution_count": 174,
   "metadata": {
    "collapsed": false
   },
   "outputs": [
    {
     "data": {
      "text/plain": [
       "{'canton': 'not found', 'location': 'not found'}"
      ]
     },
     "execution_count": 174,
     "metadata": {},
     "output_type": "execute_result"
    }
   ],
   "source": [
    "d = uni_to_dict(uni[7])\n",
    "d"
   ]
  },
  {
   "cell_type": "code",
   "execution_count": 178,
   "metadata": {
    "collapsed": false
   },
   "outputs": [
    {
     "name": "stdout",
     "output_type": "stream",
     "text": [
      "uni:Université de Genève - GE in canton:GE\n",
      "uni:NPO (Biblioth., Museen, Verwalt.) - NPO in canton:not found\n",
      "uni:Universität Basel - BS in canton:BS\n",
      "uni:Université de Fribourg - FR in canton:FR\n",
      "uni:Universität Zürich - ZH in canton:ZH\n",
      "uni:Université de Lausanne - LA in canton:VD\n",
      "uni:Universität Bern - BE in canton:BE\n",
      "uni:Eidg. Forschungsanstalt für Wald,Schnee,Land - WSL in canton:not found\n",
      "uni:Université de Neuchâtel - NE in canton:NE\n",
      "uni:ETH Zürich - ETHZ in canton:ZH\n",
      "uni:Inst. de Hautes Etudes Internat. et du Dév - IHEID in canton:GE\n",
      "uni:Universität St. Gallen - SG in canton:SG\n",
      "uni:Firmen/Privatwirtschaft - FP in canton:not found\n",
      "uni:Pädagogische Hochschule Graubünden - PHGR in canton:GR\n",
      "uni:EPF Lausanne - EPFL in canton:VD\n",
      "uni:Pädagogische Hochschule Zürich - PHZFH in canton:ZH\n",
      "uni:Universität Luzern - LU in canton:LU\n",
      "uni:Schweiz. Institut für Kunstwissenschaft - SIK-ISEA in canton:ZH\n",
      "uni:SUP della Svizzera italiana - SUPSI in canton:TI\n",
      "uni:HES de Suisse occidentale - HES-SO in canton:JU\n",
      "uni:Robert Walser-Stiftung Bern - RWS in canton:BE\n",
      "uni:Paul Scherrer Institut - PSI in canton:AG\n",
      "uni:Pädagogische Hochschule St. Gallen - PHSG in canton:SG\n",
      "uni:Eidg. Anstalt für Wasserversorgung - EAWAG in canton:ZH\n",
      "uni:Eidg. Material und Prüfungsanstalt - EMPA in canton:ZH\n",
      "uni:Physikal.-Meteorolog. Observatorium Davos - PMOD in canton:not found\n",
      "uni:Berner Fachhochschule - BFH in canton:BE\n",
      "uni:Swiss Center for Electronics and Microtech. - CSEM in canton:not found\n",
      "uni:AO Research Institute - AORI in canton:not found\n",
      "uni:Allergie- und Asthmaforschung - SIAF in canton:GR\n",
      "uni:Forschungsinstitut für biologischen Landbau - FIBL in canton:HE\n",
      "uni:Friedrich Miescher Institute - FMI in canton:BS\n",
      "uni:Kantonsspital St. Gallen - KSPSG in canton:SG\n",
      "uni:Forschungsanstalten Agroscope - AGS in canton:not found\n",
      "uni:Ente Ospedaliero Cantonale - EOC in canton:TI\n",
      "uni:Inst. universit. romand de Santé au Travail - IST in canton:VD\n",
      "uni:Eidg. Hochschulinstitut für Berufsbildung - EHB in canton:BE\n",
      "uni:Zürcher Fachhochschule (ohne PH) - ZFH in canton:not found\n",
      "uni:Università della Svizzera italiana - USI in canton:TI\n",
      "uni:Institut für Kulturforschung Graubünden - IKG in canton:GR\n",
      "uni:Fachhochschule Nordwestschweiz (ohne PH) - FHNW in canton:SO\n",
      "uni:Interkant. Hochschule für Heilpädagogik ZH - HfH in canton:ZH\n",
      "uni:Centre de rech. sur l'environnement alpin - CREALP in canton:VS\n",
      "uni:Idiap Research Institute - IDIAP in canton:VS\n",
      "uni:Pädagogische Hochschule Bern - PHBern in canton:BE\n",
      "uni:Institut Universitaire Kurt Bösch - IUKB in canton:VS\n",
      "uni:Schweizer Paraplegiker Forschung - SPF in canton:LU\n",
      "uni:Hochschule Luzern - HSLU in canton:LU\n",
      "uni:Forschungsinstitut für Opthalmologie - IRO in canton:not found\n",
      "uni:Haute école pédagogique du canton de Vaud - HEPL in canton:VD\n",
      "uni:Fachhochschule Ostschweiz - FHO in canton:SG\n",
      "uni:Inst. Suisse de Spéléologie et Karstologie - ISSKA in canton:NE\n",
      "uni:Swiss Institute of Bioinformatics - SIB in canton:GE\n",
      "uni:Haute école pédagogique BE, JU, NE - HEPBEJUNE in canton:JU\n",
      "uni:Pädagogische Hochschule Luzern - PHLU in canton:LU\n",
      "uni:Forschungskommission SAGW in canton:not found\n",
      "uni:Istituto Svizzero di Roma - ISR in canton:Lazio\n",
      "uni:Pädag. Hochschule Tessin (Teilschule SUPSI) - ASP in canton:not found\n",
      "uni:Haute école pédagogique fribourgeoise - HEPFR in canton:FR\n",
      "uni:Pädagogische Hochschule Schwyz - PHSZ in canton:SZ\n",
      "uni:Pädagogische Hochschule Thurgau - PHTG in canton:TG\n",
      "uni:Biotechnologie Institut Thurgau - BITG in canton:TG\n",
      "uni:Fachhochschule Kalaidos - FHKD in canton:ZH\n",
      "uni:Schweizer Kompetenzzentrum Sozialwissensch. - FORS in canton:not found\n",
      "uni:Pädagogische Hochschule Wallis - PHVS in canton:not found\n",
      "uni:Schweiz. Hochschule für Logopädie Rorschach - SHLR in canton:SG\n",
      "uni:Pädagogische Hochschule Zug - PHZG in canton:ZG\n",
      "uni:Instituto Ricerche Solari Locarno - IRSOL in canton:TI\n",
      "uni:Franklin University Switzerland - FUS in canton:TI\n",
      "uni:Pädagogische Hochschule Schaffhausen - PHSH in canton:SH\n",
      "uni:Pädagogische Hochschule Nordwestschweiz - PHFHNW in canton:BL\n",
      "uni:Staatsunabh. Theologische Hochschule Basel - STHB in canton:not found\n",
      "uni:Facoltà di Teologia di Lugano - FTL in canton:TI\n",
      "uni:Fernfachhochschule Schweiz (Mitglied SUPSI) - FFHS in canton:VS\n"
     ]
    }
   ],
   "source": [
    "# process\n",
    "uniDict = []\n",
    "for u in uni:\n",
    "    d = uni_to_dict(u)\n",
    "    uniDict = np.append(uniDict, d)\n",
    "    print(\"uni:\" + u + \" in canton:\" + d['canton'])"
   ]
  },
  {
   "cell_type": "code",
   "execution_count": 179,
   "metadata": {
    "collapsed": false
   },
   "outputs": [
    {
     "data": {
      "text/plain": [
       "array([ {'canton': 'GE', 'location': {'lng': Decimal('6.1451157'), 'lat': Decimal('46.199444')}},\n",
       "       {'canton': 'not found', 'location': 'not found'},\n",
       "       {'canton': 'BS', 'location': {'lng': Decimal('7.5826'), 'lat': Decimal('47.56025349999999')}},\n",
       "       {'canton': 'FR', 'location': {'lng': Decimal('7.152006'), 'lat': Decimal('46.806357')}},\n",
       "       {'canton': 'ZH', 'location': {'lng': Decimal('8.550981199999999'), 'lat': Decimal('47.3743221')}},\n",
       "       {'canton': 'VD', 'location': {'lng': Decimal('6.5801606'), 'lat': Decimal('46.5210895')}},\n",
       "       {'canton': 'BE', 'location': {'lng': Decimal('7.438119000000002'), 'lat': Decimal('46.9504896')}},\n",
       "       {'canton': 'not found', 'location': 'not found'},\n",
       "       {'canton': 'NE', 'location': {'lng': Decimal('6.938703099999999'), 'lat': Decimal('46.9938549')}},\n",
       "       {'canton': 'ZH', 'location': {'lng': Decimal('8.547669899999999'), 'lat': Decimal('47.376313')}},\n",
       "       {'canton': 'GE', 'location': {'lng': Decimal('6.143691599999999'), 'lat': Decimal('46.22091630000001')}},\n",
       "       {'canton': 'SG', 'location': {'lng': Decimal('9.3755673'), 'lat': Decimal('47.43215749999999')}},\n",
       "       {'canton': 'not found', 'location': 'not found'},\n",
       "       {'canton': 'GR', 'location': {'lng': Decimal('9.536720899999999'), 'lat': Decimal('46.8669842')}},\n",
       "       {'canton': 'VD', 'location': {'lng': Decimal('6.566757600000001'), 'lat': Decimal('46.5190557')}},\n",
       "       {'canton': 'ZH', 'location': {'lng': Decimal('8.534657200000002'), 'lat': Decimal('47.3776241')}},\n",
       "       {'canton': 'LU', 'location': {'lng': Decimal('8.312521499999999'), 'lat': Decimal('47.0494042')}},\n",
       "       {'canton': 'ZH', 'location': {'lng': Decimal('8.555274899999997'), 'lat': Decimal('47.362492')}},\n",
       "       {'canton': 'TI', 'location': {'lng': Decimal('8.9243305'), 'lat': Decimal('46.0316097')}},\n",
       "       {'canton': 'JU', 'location': {'lng': Decimal('7.3522363'), 'lat': Decimal('47.3625918')}},\n",
       "       {'canton': 'BE', 'location': {'lng': Decimal('7.445112199999998'), 'lat': Decimal('46.94793850000001')}},\n",
       "       {'canton': 'AG', 'location': {'lng': Decimal('8.229908'), 'lat': Decimal('47.53857199999999')}},\n",
       "       {'canton': 'SG', 'location': {'lng': Decimal('9.382468899999999'), 'lat': Decimal('47.43028289999999')}},\n",
       "       {'canton': 'ZH', 'location': {'lng': Decimal('8.609547599999999'), 'lat': Decimal('47.4037666')}},\n",
       "       {'canton': 'ZH', 'location': {'lng': Decimal('8.612229899999999'), 'lat': Decimal('47.4022054')}},\n",
       "       {'canton': 'not found', 'location': 'not found'},\n",
       "       {'canton': 'BE', 'location': {'lng': Decimal('7.621387700000001'), 'lat': Decimal('47.0574225')}},\n",
       "       {'canton': 'not found', 'location': 'not found'},\n",
       "       {'canton': 'not found', 'location': 'not found'},\n",
       "       {'canton': 'GR', 'location': {'lng': Decimal('9.8200409'), 'lat': Decimal('46.7954192')}},\n",
       "       {'canton': 'HE', 'location': {'lng': Decimal('8.638150000000001'), 'lat': Decimal('50.12062')}},\n",
       "       {'canton': 'BS', 'location': {'lng': Decimal('7.603559899999998'), 'lat': Decimal('47.56774159999999')}},\n",
       "       {'canton': 'SG', 'location': {'lng': Decimal('9.386889099999999'), 'lat': Decimal('47.4303373')}},\n",
       "       {'canton': 'not found', 'location': 'not found'},\n",
       "       {'canton': 'TI', 'location': {'lng': Decimal('9.026636499999999'), 'lat': Decimal('46.1968913')}},\n",
       "       {'canton': 'VD', 'location': {'lng': Decimal('6.661678900000001'), 'lat': Decimal('46.5432643')}},\n",
       "       {'canton': 'BE', 'location': {'lng': Decimal('7.450692999999999'), 'lat': Decimal('47.001506')}},\n",
       "       {'canton': 'not found', 'location': 'not found'},\n",
       "       {'canton': 'TI', 'location': {'lng': Decimal('8.958257200000002'), 'lat': Decimal('46.0109603')}},\n",
       "       {'canton': 'GR', 'location': {'lng': Decimal('9.533924299999999'), 'lat': Decimal('46.85109979999999')}},\n",
       "       {'canton': 'SO', 'location': {'lng': Decimal('7.9078154'), 'lat': Decimal('47.3480153')}},\n",
       "       {'canton': 'ZH', 'location': {'lng': Decimal('8.547118599999999'), 'lat': Decimal('47.4032152')}},\n",
       "       {'canton': 'VS', 'location': {'lng': Decimal('7.367433499999999'), 'lat': Decimal('46.2285589')}},\n",
       "       {'canton': 'VS', 'location': {'lng': Decimal('7.084442999999999'), 'lat': Decimal('46.109376')}},\n",
       "       {'canton': 'BE', 'location': {'lng': Decimal('7.422682999999999'), 'lat': Decimal('46.9522372')}},\n",
       "       {'canton': 'VS', 'location': {'lng': Decimal('7.3987243'), 'lat': Decimal('46.2301033')}},\n",
       "       {'canton': 'LU', 'location': {'lng': Decimal('8.131035900000001'), 'lat': Decimal('47.13998429999999')}},\n",
       "       {'canton': 'LU', 'location': {'lng': Decimal('8.314912'), 'lat': Decimal('47.046681')}},\n",
       "       {'canton': 'not found', 'location': 'not found'},\n",
       "       {'canton': 'VD', 'location': {'lng': Decimal('6.6215937'), 'lat': Decimal('46.5128571')}},\n",
       "       {'canton': 'SG', 'location': {'lng': Decimal('9.363574999999999'), 'lat': Decimal('47.4208058')}},\n",
       "       {'canton': 'NE', 'location': {'lng': Decimal('6.823160199999999'), 'lat': Decimal('47.09975319999999')}},\n",
       "       {'canton': 'GE', 'location': {'lng': Decimal('6.151158199999999'), 'lat': Decimal('46.1935442')}},\n",
       "       {'canton': 'JU', 'location': {'lng': Decimal('7.352077899999999'), 'lat': Decimal('47.3625572')}},\n",
       "       {'canton': 'LU', 'location': {'lng': Decimal('8.3023319'), 'lat': Decimal('47.0510453')}},\n",
       "       {'canton': 'not found', 'location': 'not found'},\n",
       "       {'canton': 'Lazio', 'location': {'lng': Decimal('12.4876114'), 'lat': Decimal('41.90634319999999')}},\n",
       "       {'canton': 'not found', 'location': 'not found'},\n",
       "       {'canton': 'FR', 'location': {'lng': Decimal('7.159208400000001'), 'lat': Decimal('46.8111769')}},\n",
       "       {'canton': 'SZ', 'location': {'lng': Decimal('8.5532354'), 'lat': Decimal('47.0450543')}},\n",
       "       {'canton': 'TG', 'location': {'lng': Decimal('9.1806833'), 'lat': Decimal('47.6475771')}},\n",
       "       {'canton': 'TG', 'location': {'lng': Decimal('9.161303'), 'lat': Decimal('47.64832730000001')}},\n",
       "       {'canton': 'ZH', 'location': {'lng': Decimal('8.543825'), 'lat': Decimal('47.415454')}},\n",
       "       {'canton': 'not found', 'location': 'not found'},\n",
       "       {'canton': 'not found', 'location': 'not found'},\n",
       "       {'canton': 'SG', 'location': {'lng': Decimal('9.494863499999999'), 'lat': Decimal('47.4726127')}},\n",
       "       {'canton': 'ZG', 'location': {'lng': Decimal('8.5188031'), 'lat': Decimal('47.16221090000001')}},\n",
       "       {'canton': 'TI', 'location': {'lng': Decimal('8.789081999999999'), 'lat': Decimal('46.1768822')}},\n",
       "       {'canton': 'TI', 'location': {'lng': Decimal('8.938819000000001'), 'lat': Decimal('45.997588')}},\n",
       "       {'canton': 'SH', 'location': {'lng': Decimal('8.645286199999997'), 'lat': Decimal('47.7073984')}},\n",
       "       {'canton': 'BL', 'location': {'lng': Decimal('7.740442199999998'), 'lat': Decimal('47.4753062')}},\n",
       "       {'canton': 'not found', 'location': 'not found'},\n",
       "       {'canton': 'TI', 'location': {'lng': Decimal('8.9579396'), 'lat': Decimal('46.0106931')}},\n",
       "       {'canton': 'VS', 'location': {'lng': Decimal('7.983177'), 'lat': Decimal('46.317923')}}], dtype=object)"
      ]
     },
     "execution_count": 179,
     "metadata": {},
     "output_type": "execute_result"
    }
   ],
   "source": [
    "uniDict"
   ]
  },
  {
   "cell_type": "markdown",
   "metadata": {},
   "source": [
    "# Plot"
   ]
  }
 ],
 "metadata": {
  "anaconda-cloud": {},
  "kernelspec": {
   "display_name": "Python [Root]",
   "language": "python",
   "name": "Python [Root]"
  },
  "language_info": {
   "codemirror_mode": {
    "name": "ipython",
    "version": 3
   },
   "file_extension": ".py",
   "mimetype": "text/x-python",
   "name": "python",
   "nbconvert_exporter": "python",
   "pygments_lexer": "ipython3",
   "version": "3.5.2"
  },
  "toc": {
   "nav_menu": {
    "height": "12px",
    "width": "252px"
   },
   "navigate_menu": true,
   "number_sections": true,
   "sideBar": true,
   "threshold": 4,
   "toc_cell": false,
   "toc_section_display": "block",
   "toc_window_display": false
  }
 },
 "nbformat": 4,
 "nbformat_minor": 0
}
