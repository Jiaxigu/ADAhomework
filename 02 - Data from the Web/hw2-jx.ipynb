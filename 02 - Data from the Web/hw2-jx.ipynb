{
 "cells": [
  {
   "cell_type": "markdown",
   "metadata": {},
   "source": [
    "# Table of Contents"
   ]
  },
  {
   "cell_type": "markdown",
   "metadata": {},
   "source": [
    "### Imports"
   ]
  },
  {
   "cell_type": "code",
   "execution_count": 1,
   "metadata": {
    "collapsed": false
   },
   "outputs": [],
   "source": [
    "%matplotlib inline\n",
    "import pandas as pd\n",
    "import numpy as np\n",
    "import scipy.stats as stats\n",
    "import matplotlib.pyplot as plt\n",
    "import math"
   ]
  },
  {
   "cell_type": "code",
   "execution_count": 2,
   "metadata": {
    "collapsed": true
   },
   "outputs": [],
   "source": [
    "import requests\n",
    "from bs4 import BeautifulSoup"
   ]
  },
  {
   "cell_type": "markdown",
   "metadata": {},
   "source": [
    "### Preparing Data"
   ]
  },
  {
   "cell_type": "markdown",
   "metadata": {},
   "source": [
    "First we try to request data manually on [IS-Academia](http://isa.epfl.ch/imoniteur_ISAP/%21gedpublicreports.htm?ww_i_reportmodel=133685247) and see via Postman how the query URL looks like. When I selected `Informatique`, `2007-2008` and `Bachelor semestre 1`, the complete query URL gives:\n",
    "\n",
    "`http://isa.epfl.ch/imoniteur_ISAP/!GEDPUBLICREPORTS.filter?ww_b_list=1&ww_i_reportmodel=133685247&ww_c_langue=&ww_i_reportModelXsl=133685270&zz_x_UNITE_ACAD=&ww_x_UNITE_ACAD=249847&zz_x_PERIODE_ACAD=&ww_x_PERIODE_ACAD=978181&zz_x_PERIODE_PEDAGO=&ww_x_PERIODE_PEDAGO=249108&zz_x_HIVERETE=&ww_x_HIVERETE=null&dummy=ok`\n",
    "\n",
    "We can see that after the base URL, all the filters are composed like:\n",
    "\n",
    "`filter_type=filter_value`\n",
    "\n",
    "and different filters are concatenated with `&`.\n",
    "\n",
    "However, the `html` file received does not contain any information about students. We need to click on webpage `Tous` to show all students that match the filters. the new action also generates a query URL, which gives:\n",
    "\n",
    "`http://isa.epfl.ch/imoniteur_ISAP/!GEDPUBLICREPORTS.html?ww_x_GPS=-1&ww_i_reportModel=133685247&ww_i_reportModelXsl=133685270&ww_x_UNITE_ACAD=249847&ww_x_PERIODE_ACAD=978181&ww_x_PERIODE_PEDAGO=249108&ww_x_HIVERETE=null`\n",
    "\n",
    "So now we start with a base URL and collect information of all the options and filters. Then we can use the filters to generate query URLs to retrieve student data."
   ]
  },
  {
   "cell_type": "code",
   "execution_count": 3,
   "metadata": {
    "collapsed": false
   },
   "outputs": [],
   "source": [
    "# Static strings we are going to use\n",
    "sampleFilterUrl = 'http://isa.epfl.ch/imoniteur_ISAP/!GEDPUBLICREPORTS.filter?ww_b_list=1&ww_i_reportmodel=133685247&ww_c_langue=&ww_i_reportModelXsl=133685270&zz_x_UNITE_ACAD=&ww_x_UNITE_ACAD=249847&zz_x_PERIODE_ACAD=&ww_x_PERIODE_ACAD=978181&zz_x_PERIODE_PEDAGO=&ww_x_PERIODE_PEDAGO=249108&zz_x_HIVERETE=&ww_x_HIVERETE=null&dummy=ok'\n",
    "sampleQueryUrl = 'http://isa.epfl.ch/imoniteur_ISAP/!GEDPUBLICREPORTS.html?ww_x_GPS=-1&ww_i_reportModel=133685247&ww_i_reportModelXsl=133685270&ww_x_UNITE_ACAD=249847&ww_x_PERIODE_ACAD=978181&ww_x_PERIODE_PEDAGO=249108&ww_x_HIVERETE=null'"
   ]
  },
  {
   "cell_type": "code",
   "execution_count": 4,
   "metadata": {
    "collapsed": false
   },
   "outputs": [],
   "source": [
    "# Get a response object from the filter url\n",
    "r = requests.get(sampleFilterUrl, timeout=30)\n",
    "\n",
    "# Transfer the response object into a BeautifulSoup object\n",
    "soup = BeautifulSoup(r.text, 'lxml')"
   ]
  },
  {
   "cell_type": "code",
   "execution_count": 5,
   "metadata": {
    "collapsed": false
   },
   "outputs": [
    {
     "data": {
      "text/plain": [
       "[<option value=\"null\"></option>,\n",
       " <option value=\"942293\">Architecture</option>,\n",
       " <option value=\"246696\">Chimie et génie chimique</option>,\n",
       " <option value=\"943282\">Cours de mathématiques spéciales</option>,\n",
       " <option value=\"637841336\">EME (EPFL Middle East)</option>,\n",
       " <option value=\"942623\">Génie civil</option>,\n",
       " <option value=\"944263\">Génie mécanique</option>,\n",
       " <option value=\"943936\">Génie électrique et électronique </option>,\n",
       " <option value=\"2054839157\">Humanités digitales</option>,\n",
       " <option selected=\"\" value=\"249847\">Informatique</option>,\n",
       " <option value=\"120623110\">Ingénierie financière</option>,\n",
       " <option value=\"946882\">Management de la technologie</option>,\n",
       " <option value=\"944590\">Mathématiques</option>,\n",
       " <option value=\"945244\">Microtechnique</option>,\n",
       " <option value=\"945571\">Physique</option>,\n",
       " <option value=\"944917\">Science et génie des matériaux</option>,\n",
       " <option value=\"942953\">Sciences et ingénierie de l'environnement</option>,\n",
       " <option value=\"945901\">Sciences et technologies du vivant</option>,\n",
       " <option value=\"1574548993\">Section FCUE</option>,\n",
       " <option value=\"946228\">Systèmes de communication</option>,\n",
       " <option value=\"null\"></option>,\n",
       " <option value=\"355925344\">2016-2017</option>,\n",
       " <option value=\"213638028\">2015-2016</option>,\n",
       " <option value=\"213637922\">2014-2015</option>,\n",
       " <option value=\"213637754\">2013-2014</option>,\n",
       " <option value=\"123456101\">2012-2013</option>,\n",
       " <option value=\"123455150\">2011-2012</option>,\n",
       " <option value=\"39486325\">2010-2011</option>,\n",
       " <option value=\"978195\">2009-2010</option>,\n",
       " <option value=\"978187\">2008-2009</option>,\n",
       " <option selected=\"\" value=\"978181\">2007-2008</option>,\n",
       " <option value=\"null\"></option>,\n",
       " <option selected=\"\" value=\"249108\">Bachelor semestre 1</option>,\n",
       " <option value=\"249114\">Bachelor semestre 2</option>,\n",
       " <option value=\"942155\">Bachelor semestre 3</option>,\n",
       " <option value=\"942163\">Bachelor semestre 4</option>,\n",
       " <option value=\"942120\">Bachelor semestre 5</option>,\n",
       " <option value=\"2226768\">Bachelor semestre 5b</option>,\n",
       " <option value=\"942175\">Bachelor semestre 6</option>,\n",
       " <option value=\"2226785\">Bachelor semestre 6b</option>,\n",
       " <option value=\"2230106\">Master semestre 1</option>,\n",
       " <option value=\"942192\">Master semestre 2</option>,\n",
       " <option value=\"2230128\">Master semestre 3</option>,\n",
       " <option value=\"2230140\">Master semestre 4</option>,\n",
       " <option value=\"2335667\">Mineur semestre 1</option>,\n",
       " <option value=\"2335676\">Mineur semestre 2</option>,\n",
       " <option value=\"2063602308\">Mise à niveau</option>,\n",
       " <option value=\"249127\">Projet Master automne</option>,\n",
       " <option value=\"3781783\">Projet Master printemps</option>,\n",
       " <option value=\"953159\">Semestre automne</option>,\n",
       " <option value=\"2754553\">Semestre printemps</option>,\n",
       " <option value=\"953137\">Stage automne 3ème année</option>,\n",
       " <option value=\"2226616\">Stage automne 4ème année</option>,\n",
       " <option value=\"983606\">Stage printemps 3ème année</option>,\n",
       " <option value=\"2226626\">Stage printemps 4ème année</option>,\n",
       " <option value=\"2227132\">Stage printemps master</option>,\n",
       " <option value=\"null\"></option>,\n",
       " <option value=\"2936286\">Semestre d'automne</option>,\n",
       " <option value=\"2936295\">Semestre de printemps</option>]"
      ]
     },
     "execution_count": 5,
     "metadata": {},
     "output_type": "execute_result"
    }
   ],
   "source": [
    "# All the information about options and filters are in the 'form' label\n",
    "# Each 'option' label represents an option in a certain filter. List all to find the options we may use\n",
    "soup.form.find_all('option')"
   ]
  },
  {
   "cell_type": "code",
   "execution_count": 6,
   "metadata": {
    "collapsed": false,
    "scrolled": true
   },
   "outputs": [
    {
     "data": {
      "text/plain": [
       "[<input name=\"ww_b_list\" type=\"hidden\" value=\"1\"/>,\n",
       " <input name=\"ww_i_reportmodel\" type=\"hidden\" value=\"133685247\"/>,\n",
       " <input name=\"ww_c_langue\" type=\"hidden\" value=\"\"/>,\n",
       " <input checked=\"\" name=\"ww_i_reportModelXsl\" type=\"radio\" value=\"133685270\"/>,\n",
       " <input name=\"ww_i_reportModelXsl\" type=\"radio\" value=\"133685271\"/>,\n",
       " <input name=\"zz_x_UNITE_ACAD\" type=\"hidden\" value=\"\"/>,\n",
       " <input name=\"zz_x_PERIODE_ACAD\" type=\"hidden\" value=\"\"/>,\n",
       " <input name=\"zz_x_PERIODE_PEDAGO\" type=\"hidden\" value=\"\"/>,\n",
       " <input name=\"zz_x_HIVERETE\" type=\"hidden\" value=\"\"/>,\n",
       " <input name=\"dummy\" type=\"submit\" value=\"ok\"/>]"
      ]
     },
     "execution_count": 6,
     "metadata": {},
     "output_type": "execute_result"
    }
   ],
   "source": [
    "# Each 'input' label represents a certain filter. List all of them to find out their names\n",
    "soup.form.find_all('input')"
   ]
  },
  {
   "cell_type": "code",
   "execution_count": 7,
   "metadata": {
    "collapsed": false
   },
   "outputs": [
    {
     "data": {
      "text/html": [
       "<div>\n",
       "<table border=\"1\" class=\"dataframe\">\n",
       "  <thead>\n",
       "    <tr style=\"text-align: right;\">\n",
       "      <th></th>\n",
       "      <th>string</th>\n",
       "      <th>value</th>\n",
       "    </tr>\n",
       "  </thead>\n",
       "  <tbody>\n",
       "    <tr>\n",
       "      <th>0</th>\n",
       "      <td>None</td>\n",
       "      <td>null</td>\n",
       "    </tr>\n",
       "    <tr>\n",
       "      <th>1</th>\n",
       "      <td>Architecture</td>\n",
       "      <td>942293</td>\n",
       "    </tr>\n",
       "    <tr>\n",
       "      <th>2</th>\n",
       "      <td>Chimie et génie chimique</td>\n",
       "      <td>246696</td>\n",
       "    </tr>\n",
       "    <tr>\n",
       "      <th>3</th>\n",
       "      <td>Cours de mathématiques spéciales</td>\n",
       "      <td>943282</td>\n",
       "    </tr>\n",
       "    <tr>\n",
       "      <th>4</th>\n",
       "      <td>EME (EPFL Middle East)</td>\n",
       "      <td>637841336</td>\n",
       "    </tr>\n",
       "  </tbody>\n",
       "</table>\n",
       "</div>"
      ],
      "text/plain": [
       "                             string      value\n",
       "0                              None       null\n",
       "1                      Architecture     942293\n",
       "2          Chimie et génie chimique     246696\n",
       "3  Cours de mathématiques spéciales     943282\n",
       "4            EME (EPFL Middle East)  637841336"
      ]
     },
     "execution_count": 7,
     "metadata": {},
     "output_type": "execute_result"
    }
   ],
   "source": [
    "# The last cells return data in BeautifulSoup type. To make the data easier to manipulate,\n",
    "# we need to transfer the data into DataFrame type\n",
    "option_string = []\n",
    "option_value = []\n",
    "\n",
    "for tag in soup.form.find_all('option'):\n",
    "    option_value.append(tag['value'])\n",
    "    option_string.append(tag.string)\n",
    "    \n",
    "option_df = pd.DataFrame({'string': option_string, 'value': option_value})\n",
    "option_df.head()"
   ]
  },
  {
   "cell_type": "markdown",
   "metadata": {},
   "source": [
    "Now we can try to retrieve the first bulk of data with the sample query URL defined before. "
   ]
  },
  {
   "cell_type": "code",
   "execution_count": 8,
   "metadata": {
    "collapsed": false
   },
   "outputs": [],
   "source": [
    "# Get a bulk of student data from sample URL\n",
    "rs = requests.get(sampleQueryUrl, timeout=30)\n",
    "\n",
    "# Transfer the response object into a BeautifulSoup object\n",
    "soups = BeautifulSoup(rs.text, 'lxml')"
   ]
  },
  {
   "cell_type": "code",
   "execution_count": 9,
   "metadata": {
    "collapsed": false
   },
   "outputs": [
    {
     "data": {
      "text/html": [
       "<div>\n",
       "<table border=\"1\" class=\"dataframe\">\n",
       "  <thead>\n",
       "    <tr style=\"text-align: right;\">\n",
       "      <th></th>\n",
       "      <th>None</th>\n",
       "      <th>Civilité</th>\n",
       "      <th>Nom Prénom</th>\n",
       "      <th>Orientation Bachelor</th>\n",
       "      <th>Orientation Master</th>\n",
       "      <th>Spécialisation</th>\n",
       "      <th>Filière opt.</th>\n",
       "      <th>Mineur</th>\n",
       "      <th>Statut</th>\n",
       "      <th>Type Echange</th>\n",
       "      <th>Ecole Echange</th>\n",
       "      <th>No Sciper</th>\n",
       "    </tr>\n",
       "  </thead>\n",
       "  <tbody>\n",
       "    <tr>\n",
       "      <th>0</th>\n",
       "      <td>None</td>\n",
       "      <td>None</td>\n",
       "      <td>None</td>\n",
       "      <td>None</td>\n",
       "      <td>None</td>\n",
       "      <td>None</td>\n",
       "      <td>None</td>\n",
       "      <td>None</td>\n",
       "      <td>None</td>\n",
       "      <td>None</td>\n",
       "      <td>None</td>\n",
       "      <td>None</td>\n",
       "    </tr>\n",
       "    <tr>\n",
       "      <th>1</th>\n",
       "      <td>None</td>\n",
       "      <td>None</td>\n",
       "      <td>None</td>\n",
       "      <td>None</td>\n",
       "      <td>None</td>\n",
       "      <td>None</td>\n",
       "      <td>None</td>\n",
       "      <td>None</td>\n",
       "      <td>None</td>\n",
       "      <td>None</td>\n",
       "      <td>None</td>\n",
       "      <td>None</td>\n",
       "    </tr>\n",
       "    <tr>\n",
       "      <th>2</th>\n",
       "      <td>Monsieur</td>\n",
       "      <td>Arévalo Christian</td>\n",
       "      <td>None</td>\n",
       "      <td>None</td>\n",
       "      <td>None</td>\n",
       "      <td>None</td>\n",
       "      <td>None</td>\n",
       "      <td>Présent</td>\n",
       "      <td>None</td>\n",
       "      <td>None</td>\n",
       "      <td>169569</td>\n",
       "      <td>None</td>\n",
       "    </tr>\n",
       "    <tr>\n",
       "      <th>3</th>\n",
       "      <td>Monsieur</td>\n",
       "      <td>Aubelle Flavien</td>\n",
       "      <td>None</td>\n",
       "      <td>None</td>\n",
       "      <td>None</td>\n",
       "      <td>None</td>\n",
       "      <td>None</td>\n",
       "      <td>Présent</td>\n",
       "      <td>None</td>\n",
       "      <td>None</td>\n",
       "      <td>174905</td>\n",
       "      <td>None</td>\n",
       "    </tr>\n",
       "    <tr>\n",
       "      <th>4</th>\n",
       "      <td>Monsieur</td>\n",
       "      <td>Badoud Morgan</td>\n",
       "      <td>None</td>\n",
       "      <td>None</td>\n",
       "      <td>None</td>\n",
       "      <td>None</td>\n",
       "      <td>None</td>\n",
       "      <td>Présent</td>\n",
       "      <td>None</td>\n",
       "      <td>None</td>\n",
       "      <td>173922</td>\n",
       "      <td>None</td>\n",
       "    </tr>\n",
       "  </tbody>\n",
       "</table>\n",
       "</div>"
      ],
      "text/plain": [
       "        NaN           Civilité Nom Prénom Orientation Bachelor  \\\n",
       "0      None               None       None                 None   \n",
       "1      None               None       None                 None   \n",
       "2  Monsieur  Arévalo Christian       None                 None   \n",
       "3  Monsieur    Aubelle Flavien       None                 None   \n",
       "4  Monsieur      Badoud Morgan       None                 None   \n",
       "\n",
       "  Orientation Master Spécialisation Filière opt.   Mineur Statut Type Echange  \\\n",
       "0               None           None         None     None   None         None   \n",
       "1               None           None         None     None   None         None   \n",
       "2               None           None         None  Présent   None         None   \n",
       "3               None           None         None  Présent   None         None   \n",
       "4               None           None         None  Présent   None         None   \n",
       "\n",
       "  Ecole Echange No Sciper  \n",
       "0          None      None  \n",
       "1          None      None  \n",
       "2        169569      None  \n",
       "3        174905      None  \n",
       "4        173922      None  "
      ]
     },
     "execution_count": 9,
     "metadata": {},
     "output_type": "execute_result"
    }
   ],
   "source": [
    "# All the student data are in 'table' label,\n",
    "# now we can transfer the student data into DataFrame like we did for the options\n",
    "\n",
    "# Retrieve column names\n",
    "data_header = []\n",
    "\n",
    "for tag in soups.table.find_all('th'):\n",
    "    data_header.append(tag.string)\n",
    "\n",
    "# Retrieve student data \n",
    "data_all = []\n",
    "\n",
    "for tag in soups.table.find_all('tr'):\n",
    "    data_single_entry = []\n",
    "    for subtag in tag.find_all('td'):\n",
    "        data_single_entry.append(subtag.string)\n",
    "    data_all.append(data_single_entry)\n",
    "\n",
    "# Create DataFrame\n",
    "data_df = pd.DataFrame(data_all, columns=data_header)\n",
    "data_df.head()"
   ]
  },
  {
   "cell_type": "code",
   "execution_count": 10,
   "metadata": {
    "collapsed": false
   },
   "outputs": [
    {
     "data": {
      "text/html": [
       "<div>\n",
       "<table border=\"1\" class=\"dataframe\">\n",
       "  <thead>\n",
       "    <tr style=\"text-align: right;\">\n",
       "      <th></th>\n",
       "      <th>Civilité</th>\n",
       "      <th>Nom Prénom</th>\n",
       "      <th>Orientation Bachelor</th>\n",
       "      <th>Orientation Master</th>\n",
       "      <th>Spécialisation</th>\n",
       "      <th>Filière opt.</th>\n",
       "      <th>Mineur</th>\n",
       "      <th>Statut</th>\n",
       "      <th>Type Echange</th>\n",
       "      <th>Ecole Echange</th>\n",
       "      <th>No Sciper</th>\n",
       "      <th>None</th>\n",
       "    </tr>\n",
       "  </thead>\n",
       "  <tbody>\n",
       "    <tr>\n",
       "      <th>0</th>\n",
       "      <td>None</td>\n",
       "      <td>None</td>\n",
       "      <td>None</td>\n",
       "      <td>None</td>\n",
       "      <td>None</td>\n",
       "      <td>None</td>\n",
       "      <td>None</td>\n",
       "      <td>None</td>\n",
       "      <td>None</td>\n",
       "      <td>None</td>\n",
       "      <td>None</td>\n",
       "      <td>None</td>\n",
       "    </tr>\n",
       "    <tr>\n",
       "      <th>1</th>\n",
       "      <td>None</td>\n",
       "      <td>None</td>\n",
       "      <td>None</td>\n",
       "      <td>None</td>\n",
       "      <td>None</td>\n",
       "      <td>None</td>\n",
       "      <td>None</td>\n",
       "      <td>None</td>\n",
       "      <td>None</td>\n",
       "      <td>None</td>\n",
       "      <td>None</td>\n",
       "      <td>None</td>\n",
       "    </tr>\n",
       "    <tr>\n",
       "      <th>2</th>\n",
       "      <td>Monsieur</td>\n",
       "      <td>Arévalo Christian</td>\n",
       "      <td>None</td>\n",
       "      <td>None</td>\n",
       "      <td>None</td>\n",
       "      <td>None</td>\n",
       "      <td>None</td>\n",
       "      <td>Présent</td>\n",
       "      <td>None</td>\n",
       "      <td>None</td>\n",
       "      <td>169569</td>\n",
       "      <td>None</td>\n",
       "    </tr>\n",
       "    <tr>\n",
       "      <th>3</th>\n",
       "      <td>Monsieur</td>\n",
       "      <td>Aubelle Flavien</td>\n",
       "      <td>None</td>\n",
       "      <td>None</td>\n",
       "      <td>None</td>\n",
       "      <td>None</td>\n",
       "      <td>None</td>\n",
       "      <td>Présent</td>\n",
       "      <td>None</td>\n",
       "      <td>None</td>\n",
       "      <td>174905</td>\n",
       "      <td>None</td>\n",
       "    </tr>\n",
       "    <tr>\n",
       "      <th>4</th>\n",
       "      <td>Monsieur</td>\n",
       "      <td>Badoud Morgan</td>\n",
       "      <td>None</td>\n",
       "      <td>None</td>\n",
       "      <td>None</td>\n",
       "      <td>None</td>\n",
       "      <td>None</td>\n",
       "      <td>Présent</td>\n",
       "      <td>None</td>\n",
       "      <td>None</td>\n",
       "      <td>173922</td>\n",
       "      <td>None</td>\n",
       "    </tr>\n",
       "  </tbody>\n",
       "</table>\n",
       "</div>"
      ],
      "text/plain": [
       "   Civilité         Nom Prénom Orientation Bachelor Orientation Master  \\\n",
       "0      None               None                 None               None   \n",
       "1      None               None                 None               None   \n",
       "2  Monsieur  Arévalo Christian                 None               None   \n",
       "3  Monsieur    Aubelle Flavien                 None               None   \n",
       "4  Monsieur      Badoud Morgan                 None               None   \n",
       "\n",
       "  Spécialisation Filière opt. Mineur   Statut Type Echange Ecole Echange  \\\n",
       "0           None         None   None     None         None          None   \n",
       "1           None         None   None     None         None          None   \n",
       "2           None         None   None  Présent         None          None   \n",
       "3           None         None   None  Présent         None          None   \n",
       "4           None         None   None  Présent         None          None   \n",
       "\n",
       "  No Sciper   NaN  \n",
       "0      None  None  \n",
       "1      None  None  \n",
       "2    169569  None  \n",
       "3    174905  None  \n",
       "4    173922  None  "
      ]
     },
     "execution_count": 10,
     "metadata": {},
     "output_type": "execute_result"
    }
   ],
   "source": [
    "# Rearrange columns so they correspond to respective values\n",
    "data_header += [data_header.pop(0)]\n",
    "data_df.columns = data_header\n",
    "data_df.head()"
   ]
  },
  {
   "cell_type": "code",
   "execution_count": 11,
   "metadata": {
    "collapsed": false
   },
   "outputs": [
    {
     "data": {
      "text/html": [
       "<div>\n",
       "<table border=\"1\" class=\"dataframe\">\n",
       "  <thead>\n",
       "    <tr style=\"text-align: right;\">\n",
       "      <th></th>\n",
       "      <th>Civilité</th>\n",
       "      <th>Nom Prénom</th>\n",
       "      <th>Spécialisation</th>\n",
       "      <th>Mineur</th>\n",
       "      <th>No Sciper</th>\n",
       "    </tr>\n",
       "  </thead>\n",
       "  <tbody>\n",
       "    <tr>\n",
       "      <th>0</th>\n",
       "      <td>Monsieur</td>\n",
       "      <td>Arévalo Christian</td>\n",
       "      <td>None</td>\n",
       "      <td>None</td>\n",
       "      <td>169569</td>\n",
       "    </tr>\n",
       "    <tr>\n",
       "      <th>1</th>\n",
       "      <td>Monsieur</td>\n",
       "      <td>Aubelle Flavien</td>\n",
       "      <td>None</td>\n",
       "      <td>None</td>\n",
       "      <td>174905</td>\n",
       "    </tr>\n",
       "    <tr>\n",
       "      <th>2</th>\n",
       "      <td>Monsieur</td>\n",
       "      <td>Badoud Morgan</td>\n",
       "      <td>None</td>\n",
       "      <td>None</td>\n",
       "      <td>173922</td>\n",
       "    </tr>\n",
       "    <tr>\n",
       "      <th>3</th>\n",
       "      <td>Monsieur</td>\n",
       "      <td>Baeriswyl Jonathan</td>\n",
       "      <td>None</td>\n",
       "      <td>None</td>\n",
       "      <td>179406</td>\n",
       "    </tr>\n",
       "    <tr>\n",
       "      <th>4</th>\n",
       "      <td>Monsieur</td>\n",
       "      <td>Barroco Michael</td>\n",
       "      <td>None</td>\n",
       "      <td>None</td>\n",
       "      <td>179428</td>\n",
       "    </tr>\n",
       "  </tbody>\n",
       "</table>\n",
       "</div>"
      ],
      "text/plain": [
       "   Civilité          Nom Prénom Spécialisation Mineur No Sciper\n",
       "0  Monsieur   Arévalo Christian           None   None    169569\n",
       "1  Monsieur     Aubelle Flavien           None   None    174905\n",
       "2  Monsieur       Badoud Morgan           None   None    173922\n",
       "3  Monsieur  Baeriswyl Jonathan           None   None    179406\n",
       "4  Monsieur     Barroco Michael           None   None    179428"
      ]
     },
     "execution_count": 11,
     "metadata": {},
     "output_type": "execute_result"
    }
   ],
   "source": [
    "# Remove useless columns and rows\n",
    "useful_columns = [0, 1, 4, 6, 10]\n",
    "cleaned_data_header = list(np.array(data_header)[useful_columns])\n",
    "cleaned_data_df = data_df[cleaned_data_header]\n",
    "cleaned_data_df = cleaned_data_df[cleaned_data_df.Civilité.notnull()]\n",
    "cleaned_data_df.reset_index(drop=True).head()"
   ]
  },
  {
   "cell_type": "markdown",
   "metadata": {},
   "source": [
    "By this moment we have understood how to get clean data from a query URL. We have also a processing pattern to follow. Now we can start retrieving massive data and analyze them according to the assignments."
   ]
  },
  {
   "cell_type": "code",
   "execution_count": null,
   "metadata": {
    "collapsed": true
   },
   "outputs": [],
   "source": []
  }
 ],
 "metadata": {
  "anaconda-cloud": {},
  "kernelspec": {
   "display_name": "Python [Root]",
   "language": "python",
   "name": "Python [Root]"
  },
  "language_info": {
   "codemirror_mode": {
    "name": "ipython",
    "version": 3
   },
   "file_extension": ".py",
   "mimetype": "text/x-python",
   "name": "python",
   "nbconvert_exporter": "python",
   "pygments_lexer": "ipython3",
   "version": "3.5.2"
  }
 },
 "nbformat": 4,
 "nbformat_minor": 0
}
