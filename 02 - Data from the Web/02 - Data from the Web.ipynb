{
 "cells": [
  {
   "cell_type": "markdown",
   "metadata": {},
   "source": [
    "# Getting Started"
   ]
  },
  {
   "cell_type": "markdown",
   "metadata": {},
   "source": [
    "## Imports"
   ]
  },
  {
   "cell_type": "markdown",
   "metadata": {},
   "source": [
    "For this homework we need to load some standard libraries such as `requests` and `BeautifulSoup`."
   ]
  },
  {
   "cell_type": "code",
   "execution_count": 3,
   "metadata": {
    "collapsed": true
   },
   "outputs": [],
   "source": [
    "%matplotlib inline\n",
    "import numpy as np\n",
    "import pandas as pd\n",
    "from bs4 import BeautifulSoup\n",
    "import urllib.request\n",
    "import matplotlib.pyplot as plt"
   ]
  },
  {
   "cell_type": "markdown",
   "metadata": {},
   "source": [
    "## Filter options"
   ]
  },
  {
   "cell_type": "markdown",
   "metadata": {},
   "source": [
    "With the help of Postman, we can load the sample URL that returns an HTML after executing the javascript encoded in the webpage, which hosts the possible search fields and options."
   ]
  },
  {
   "cell_type": "code",
   "execution_count": 2,
   "metadata": {
    "collapsed": false
   },
   "outputs": [],
   "source": [
    "sampleURL = \"http://isa.epfl.ch/imoniteur_ISAP/!GEDPUBLICREPORTS.filter?ww_i_reportmodel=133685247\"\n",
    "\n",
    "with urllib.request.urlopen(sampleURL, timeout=30) as url:\n",
    "    s = url.read()\n",
    "soup = BeautifulSoup(s, \"html.parser\")"
   ]
  },
  {
   "cell_type": "markdown",
   "metadata": {},
   "source": [
    "Inside the HTML file, it is clear that the select boxes contain the possible options. The equivalent HTML parameters are encoded in the `option` field. We load them into a DataFrame with the text displayed to the user, and the corresponding field names."
   ]
  },
  {
   "cell_type": "code",
   "execution_count": 5,
   "metadata": {
    "collapsed": false
   },
   "outputs": [
    {
     "data": {
      "text/html": [
       "<div>\n",
       "<table border=\"1\" class=\"dataframe\">\n",
       "  <thead>\n",
       "    <tr style=\"text-align: right;\">\n",
       "      <th></th>\n",
       "      <th>Field</th>\n",
       "      <th>Tag</th>\n",
       "      <th>Value</th>\n",
       "    </tr>\n",
       "  </thead>\n",
       "  <tbody>\n",
       "    <tr>\n",
       "      <th>1</th>\n",
       "      <td>Unité académique</td>\n",
       "      <td>Architecture</td>\n",
       "      <td>942293</td>\n",
       "    </tr>\n",
       "    <tr>\n",
       "      <th>2</th>\n",
       "      <td>Unité académique</td>\n",
       "      <td>Chimie et génie chimique</td>\n",
       "      <td>246696</td>\n",
       "    </tr>\n",
       "    <tr>\n",
       "      <th>3</th>\n",
       "      <td>Unité académique</td>\n",
       "      <td>Cours de mathématiques spéciales</td>\n",
       "      <td>943282</td>\n",
       "    </tr>\n",
       "    <tr>\n",
       "      <th>4</th>\n",
       "      <td>Unité académique</td>\n",
       "      <td>EME (EPFL Middle East)</td>\n",
       "      <td>637841336</td>\n",
       "    </tr>\n",
       "    <tr>\n",
       "      <th>5</th>\n",
       "      <td>Unité académique</td>\n",
       "      <td>Génie civil</td>\n",
       "      <td>942623</td>\n",
       "    </tr>\n",
       "  </tbody>\n",
       "</table>\n",
       "</div>"
      ],
      "text/plain": [
       "              Field                               Tag      Value\n",
       "1  Unité académique                      Architecture     942293\n",
       "2  Unité académique          Chimie et génie chimique     246696\n",
       "3  Unité académique  Cours de mathématiques spéciales     943282\n",
       "4  Unité académique            EME (EPFL Middle East)  637841336\n",
       "5  Unité académique                       Génie civil     942623"
      ]
     },
     "execution_count": 5,
     "metadata": {},
     "output_type": "execute_result"
    }
   ],
   "source": [
    "# make a DataFrame to store informations of search options\n",
    "options = soup.find_all(\"option\")\n",
    "fields = [f.text for f in soup.find_all(\"th\")]\n",
    "optionsDF = pd.DataFrame({'Value': [val[\"value\"] for val in options],\n",
    "                          'Tag': [val.text for val in options],\n",
    "                          'Field': \"NaN\"})\n",
    "\n",
    "# add fields to the DataFrame\n",
    "i = 0\n",
    "for index, row in optionsDF.iterrows():\n",
    "    if (row[\"Value\"] == \"null\"):\n",
    "        i = i + 1\n",
    "    row[\"Field\"] = fields[i]\n",
    "    \n",
    "optionsDF = optionsDF[optionsDF.Value!=\"null\"]\n",
    "optionsDF.head()"
   ]
  },
  {
   "cell_type": "markdown",
   "metadata": {},
   "source": [
    "Getting `optionsDF` is a big step forward. Now it is very easy to filter the search options of the webpage, for example:"
   ]
  },
  {
   "cell_type": "code",
   "execution_count": 6,
   "metadata": {
    "collapsed": false
   },
   "outputs": [
    {
     "data": {
      "text/html": [
       "<div>\n",
       "<table border=\"1\" class=\"dataframe\">\n",
       "  <thead>\n",
       "    <tr style=\"text-align: right;\">\n",
       "      <th></th>\n",
       "      <th>Field</th>\n",
       "      <th>Tag</th>\n",
       "      <th>Value</th>\n",
       "    </tr>\n",
       "  </thead>\n",
       "  <tbody>\n",
       "    <tr>\n",
       "      <th>21</th>\n",
       "      <td>Période académique</td>\n",
       "      <td>2016-2017</td>\n",
       "      <td>355925344</td>\n",
       "    </tr>\n",
       "    <tr>\n",
       "      <th>22</th>\n",
       "      <td>Période académique</td>\n",
       "      <td>2015-2016</td>\n",
       "      <td>213638028</td>\n",
       "    </tr>\n",
       "    <tr>\n",
       "      <th>23</th>\n",
       "      <td>Période académique</td>\n",
       "      <td>2014-2015</td>\n",
       "      <td>213637922</td>\n",
       "    </tr>\n",
       "    <tr>\n",
       "      <th>24</th>\n",
       "      <td>Période académique</td>\n",
       "      <td>2013-2014</td>\n",
       "      <td>213637754</td>\n",
       "    </tr>\n",
       "    <tr>\n",
       "      <th>25</th>\n",
       "      <td>Période académique</td>\n",
       "      <td>2012-2013</td>\n",
       "      <td>123456101</td>\n",
       "    </tr>\n",
       "  </tbody>\n",
       "</table>\n",
       "</div>"
      ],
      "text/plain": [
       "                 Field        Tag      Value\n",
       "21  Période académique  2016-2017  355925344\n",
       "22  Période académique  2015-2016  213638028\n",
       "23  Période académique  2014-2015  213637922\n",
       "24  Période académique  2013-2014  213637754\n",
       "25  Période académique  2012-2013  123456101"
      ]
     },
     "execution_count": 6,
     "metadata": {},
     "output_type": "execute_result"
    }
   ],
   "source": [
    "optionsDF[optionsDF.Field == \"Période académique\"].head()"
   ]
  },
  {
   "cell_type": "markdown",
   "metadata": {},
   "source": [
    "## Query URL"
   ]
  },
  {
   "cell_type": "markdown",
   "metadata": {},
   "source": [
    "We can also check from Postman the ID's of the parameters in the URL (it could've been also made only with BeautifulSoup, but we are dealing with nested repeated tags, so it can't really be generalized), which are:"
   ]
  },
  {
   "cell_type": "code",
   "execution_count": 7,
   "metadata": {
    "collapsed": false
   },
   "outputs": [
    {
     "data": {
      "text/html": [
       "<div>\n",
       "<table border=\"1\" class=\"dataframe\">\n",
       "  <thead>\n",
       "    <tr style=\"text-align: right;\">\n",
       "      <th></th>\n",
       "      <th>Value</th>\n",
       "    </tr>\n",
       "  </thead>\n",
       "  <tbody>\n",
       "    <tr>\n",
       "      <th>ww_x_GPS</th>\n",
       "      <td>-1</td>\n",
       "    </tr>\n",
       "    <tr>\n",
       "      <th>ww_i_reportModel</th>\n",
       "      <td>133685247</td>\n",
       "    </tr>\n",
       "    <tr>\n",
       "      <th>ww_i_reportModelXsl</th>\n",
       "      <td>133685270</td>\n",
       "    </tr>\n",
       "    <tr>\n",
       "      <th>ww_x_UNITE_ACAD</th>\n",
       "      <td>null</td>\n",
       "    </tr>\n",
       "    <tr>\n",
       "      <th>ww_x_PERIODE_ACAD</th>\n",
       "      <td>null</td>\n",
       "    </tr>\n",
       "    <tr>\n",
       "      <th>ww_x_PERIODE_PEDAGO</th>\n",
       "      <td>null</td>\n",
       "    </tr>\n",
       "    <tr>\n",
       "      <th>ww_x_HIVERETE</th>\n",
       "      <td>null</td>\n",
       "    </tr>\n",
       "  </tbody>\n",
       "</table>\n",
       "</div>"
      ],
      "text/plain": [
       "                         Value\n",
       "ww_x_GPS                    -1\n",
       "ww_i_reportModel     133685247\n",
       "ww_i_reportModelXsl  133685270\n",
       "ww_x_UNITE_ACAD           null\n",
       "ww_x_PERIODE_ACAD         null\n",
       "ww_x_PERIODE_PEDAGO       null\n",
       "ww_x_HIVERETE             null"
      ]
     },
     "execution_count": 7,
     "metadata": {},
     "output_type": "execute_result"
    }
   ],
   "source": [
    "# make a DataFrame to store parameters we need to create a valid URL to retrieve data\n",
    "mParams = pd.DataFrame({'Value':[\"null\"]},\n",
    "                        index= [\"ww_x_GPS\", \"ww_i_reportModel\",\"ww_i_reportModelXsl\",\n",
    "                               \"ww_x_UNITE_ACAD\",\"ww_x_PERIODE_ACAD\",\"ww_x_PERIODE_PEDAGO\",\n",
    "                               \"ww_x_HIVERETE\"])\n",
    "# load default values\n",
    "mParams.Value[0]=-1\n",
    "mParams.Value[1]=133685247\n",
    "mParams.Value[2]=133685270\n",
    "mParams"
   ]
  },
  {
   "cell_type": "markdown",
   "metadata": {
    "collapsed": true
   },
   "source": [
    "__We need the following functions to set up specific URLs:__"
   ]
  },
  {
   "cell_type": "code",
   "execution_count": 8,
   "metadata": {
    "collapsed": false
   },
   "outputs": [],
   "source": [
    "def getURL(optVect):\n",
    "    \n",
    "    baseURL = \"http://isa.epfl.ch/imoniteur_ISAP/!GEDPUBLICREPORTS.html?\"\n",
    "    pParams = mParams.copy()\n",
    "    pParams.Value = [-1, 133685247, 133685270] + optVect\n",
    "    \n",
    "    for index,row in pParams.iterrows():\n",
    "        baseURL = baseURL + row.name + \"=\" + str(row.Value) + \"&\"\n",
    "        \n",
    "    return baseURL[:-1]\n",
    "\n",
    "def getValVector(id_u,id_pa,id_pp,id_h):\n",
    "    \n",
    "    return [optionsDF[optionsDF.Field == \"Unité académique\"].iloc[id_u].Value if id_u!=-1 else \"null\",\n",
    "           optionsDF[optionsDF.Field == \"Période académique\"].iloc[id_pa].Value if id_pa!=-1 else \"null\",\n",
    "           optionsDF[optionsDF.Field == \"Période pédagogique\"].iloc[id_pp].Value if id_pp!=-1 else \"null\",\n",
    "           optionsDF[optionsDF.Field == \"Type de semestre\"].iloc[id_h].Value if id_h!=-1 else \"null\"]\n",
    "\n",
    "def getFieldNames(id_u,id_pa,id_pp,id_h):\n",
    "    \n",
    "    return [optionsDF[optionsDF.Field == \"Unité académique\"].iloc[id_u].Tag if id_u!=-1 else \"null\",\n",
    "           optionsDF[optionsDF.Field == \"Période académique\"].iloc[id_pa].Tag if id_pa!=-1 else \"null\",\n",
    "           optionsDF[optionsDF.Field == \"Période pédagogique\"].iloc[id_pp].Tag if id_pp!=-1 else \"null\",\n",
    "           optionsDF[optionsDF.Field == \"Type de semestre\"].iloc[id_h].Tag if id_h!=-1 else \"null\"]"
   ]
  },
  {
   "cell_type": "markdown",
   "metadata": {},
   "source": [
    "The third function is just so we can check which fields are we requesting"
   ]
  },
  {
   "cell_type": "code",
   "execution_count": 9,
   "metadata": {
    "collapsed": false
   },
   "outputs": [
    {
     "data": {
      "text/plain": [
       "['Mathématiques', '2016-2017', 'Master semestre 3', 'null']"
      ]
     },
     "execution_count": 9,
     "metadata": {},
     "output_type": "execute_result"
    }
   ],
   "source": [
    "getFieldNames(11,0,10,-1)"
   ]
  },
  {
   "cell_type": "markdown",
   "metadata": {},
   "source": [
    "As an example, this is the url that we get for mathematics, period 2016-2017, Master Semester 3: "
   ]
  },
  {
   "cell_type": "code",
   "execution_count": 10,
   "metadata": {
    "collapsed": false
   },
   "outputs": [
    {
     "data": {
      "text/plain": [
       "'http://isa.epfl.ch/imoniteur_ISAP/!GEDPUBLICREPORTS.html?ww_x_GPS=-1&ww_i_reportModel=133685247&ww_i_reportModelXsl=133685270&ww_x_UNITE_ACAD=944590&ww_x_PERIODE_ACAD=355925344&ww_x_PERIODE_PEDAGO=2230128&ww_x_HIVERETE=null'"
      ]
     },
     "execution_count": 10,
     "metadata": {},
     "output_type": "execute_result"
    }
   ],
   "source": [
    "getURL(getValVector(11,0,10,-1))"
   ]
  },
  {
   "cell_type": "markdown",
   "metadata": {},
   "source": [
    "## Headers"
   ]
  },
  {
   "cell_type": "markdown",
   "metadata": {},
   "source": [
    "We can read the information from the URL and pass it to BeautifulSoup and start trying to retrieve information from the HTML tables:"
   ]
  },
  {
   "cell_type": "code",
   "execution_count": 12,
   "metadata": {
    "collapsed": false
   },
   "outputs": [],
   "source": [
    "with urllib.request.urlopen(getURL(getValVector(11,0,10,-1)), timeout=30) as url:\n",
    "    s = url.read()\n",
    "aData = BeautifulSoup(s,\"html.parser\")"
   ]
  },
  {
   "cell_type": "markdown",
   "metadata": {},
   "source": [
    "Let's start by taking the headers of the table, meaning the column names *and* the fields of study"
   ]
  },
  {
   "cell_type": "code",
   "execution_count": 13,
   "metadata": {
    "collapsed": false
   },
   "outputs": [
    {
     "data": {
      "text/plain": [
       "['Ingénierie mathématique, 2016-2017, Master semestre 3\\n\\xa0(25 ét.)\\n    ',\n",
       " 'Civilité',\n",
       " 'Nom Prénom',\n",
       " 'Orientation Bachelor',\n",
       " 'Orientation Master',\n",
       " 'Spécialisation',\n",
       " 'Filière opt.',\n",
       " 'Mineur',\n",
       " 'Statut',\n",
       " 'Type Echange',\n",
       " 'Ecole Echange',\n",
       " 'No Sciper',\n",
       " 'Mathématiques - master, 2016-2017, Master semestre 3\\n\\xa0(9 ét.)\\n    ',\n",
       " 'Civilité',\n",
       " 'Nom Prénom']"
      ]
     },
     "execution_count": 13,
     "metadata": {},
     "output_type": "execute_result"
    }
   ],
   "source": [
    "header = [h.text for h in aData.find_all(\"th\")]\n",
    "header[:15]"
   ]
  },
  {
   "cell_type": "markdown",
   "metadata": {},
   "source": [
    "And now we get the content of the table:"
   ]
  },
  {
   "cell_type": "code",
   "execution_count": 14,
   "metadata": {
    "collapsed": false
   },
   "outputs": [
    {
     "data": {
      "text/plain": [
       "['Monsieur',\n",
       " 'Arnould-Borel\\xa0Charles Antoine André',\n",
       " '',\n",
       " '',\n",
       " '',\n",
       " '',\n",
       " 'Mineur en Management, technologie et entrepreneuriat',\n",
       " 'Présent',\n",
       " '',\n",
       " '',\n",
       " '215913',\n",
       " '',\n",
       " 'Monsieur',\n",
       " 'Bandelier\\xa0Valentin Michel',\n",
       " '']"
      ]
     },
     "execution_count": 14,
     "metadata": {},
     "output_type": "execute_result"
    }
   ],
   "source": [
    "content = [h.text for h in aData.find_all(\"td\")]\n",
    "content[:15]"
   ]
  },
  {
   "cell_type": "markdown",
   "metadata": {},
   "source": [
    "The goal is to pass this information to an equivalent data frame in pandas. For this, we will cheat a little bit: We can notice that the field that describes the area of study contains also the number of students inside and that they are located between parenthesis (we decode the byte string from the url in `latin_1` encoding format, as specified in the html header):"
   ]
  },
  {
   "cell_type": "code",
   "execution_count": 16,
   "metadata": {
    "collapsed": false
   },
   "outputs": [
    {
     "data": {
      "text/html": [
       "<html><head><META http-equiv=\"Content-Type\" content=\"text/html; charset=iso-8859-1\"><link rel=\"stylesheet\" type=\"text/css\" href=\"gedpublicreports.css?ww_x_path=Gestac.Moniteur.Style\"></head><body bgcolor=\"#ffffff\" marginheight=\"0\" marginwidth=\"5\" link=\"#666666\" vlink=\"#666666\" alink=\"#666666\"><fieldset style=\"text-align:right; width:40%; position:relative; margin-right: 10px;float:right; border: 0; padding: 0 0 8px 0;\"><a style=\"color:#990033;\" href=\"!GEDREPORTS.html?ww_x_GPS=-1&amp;ww_i_reportModel=133685247&amp;ww_i_reportModelXsl=133685270&amp;ww_x_UNITE_ACAD=944590&amp;ww_x_PERIODE_ACAD=355925344&amp;ww_x_PERIODE_PEDAGO=2230128&amp;ww_x_HIVERETE=null\">Identification pour accéder aux e-mails<br>Login to access email adresses</a></fieldset><script>\n",
       "  function mailList(x) {\n",
       "   var vtop = (screen.height-200)/2;\n",
       "   var vleft=(screen.width-600)/2;\n",
       "   var w=open(\"\", \"emaillist\", \"Scrollbars=1,resizable=1,width=600,height=200,top=\"+vtop+\",left=\"+vleft);\n",
       "   w.document.write(x);\n",
       "   w.document.close();\n",
       "   w.focus();\n",
       "  }\n",
       " </script><h1>Extraction : Liste des étudiants inscrits par semestre</h1><h1>Ces listes d'étudiants ne seront définitives qu'à la mi-août une fois la commission d'admission bachelor et la conférence d'examen passées afin de s'assurer que tous les étudiants nouvellement admis à l'EPFL y figurent et que les étudiants en situation d'échec définitif soient rayés de ces listes</h1><hr style=\"height:0px;visibility: hidden;display:block;width:0px; float:none; clear:both; color: #ffffff;\"><table><tr><th colspan=\"12\"><font color=\"black\">Ingénierie mathématique, 2016-2017, Master semestre 3</font>\n",
       "&nbsp;(25 ét.)\n",
       "    </th></tr><tr><th>Civilité</th><th>Nom Prénom</th><th>Orientation Bachelor</th><th>Orientation Master</th><th>Spécialisation</th><th>Filière opt.</th><th>Mineur</th><th>Statut</th><th>Type Echange</th><th>Ecole Echange</th><th>No Sciper</th></tr><tr><td style=\"white-space:nowrap\">Monsieur</td><td style=\"white-space:nowrap\">Arnould-Borel&nbsp;Charles Antoine André</td><td style=\"white-space:nowrap\"></td><td style=\"white-space:nowrap\"></td><td style=\"white-space:nowrap\"></td><td style=\"white-space:nowrap\"></td><td style=\"white-space:nowrap\">Mineur en Management, technologie et entrepreneuriat</td><td style=\"white-space:nowrap\">Présent</td><td style=\"white-space:nowrap\"></td><td style=\"white-space:nowrap\"></td><td>215913</td><td style=\"white-space:nowrap\"></td></tr><tr><td style=\"white-space:nowrap\">Monsieur</td><td style=\"white-space:nowrap\">Bandelier&nbsp;Valentin Michel</td><td style=\"white-space:nowrap\"></td><td style=\"white-space:nowrap\"></td><td style=\"white-space:nowrap\"></td><td style=\"white-space:nowrap\"></td><td style=\"white-space:nowrap\"></td><td style=\"white-space:nowrap\">Stage</td><td style=\"white-space:nowrap\"></td><td style=\"white-space:nowrap\"></td><td>189515</td><td style=\"white-space:nowrap\"></td></tr><tr><td style=\"white-space:nowrap\">Monsieur</td><td style=\"white-space:nowrap\">Bays&nbsp;Xavier</td><td style=\"white-space:nowrap\"></td><td style=\"white-space:nowrap\"></td><td style=\"white-space:nowrap\"></td><td style=\"white-space:nowrap\"></td><td style=\"white-space:nowrap\"></td><td style=\"white-space:nowrap\">Présent</td><td style=\"white-space:nowrap\"></td><td style=\"white-space:nowrap\"></td><td>224854</td><td style=\"white-space:nowrap\"></td></tr><tr><td style=\"white-space:nowrap\">Madame</td><td style=\"white-space:nowrap\">Biletta&nbsp;Anna-Maria</td><td style=\"white-space:nowrap\"></td><td style=\"white-space:nowrap\"></td><td style=\"white-space:nowrap\"></td><td style=\"white-space:nowrap\"></td><td style=\"white-space:nowrap\"></td><td style=\"white-space:nowrap\">Présent</td><td style=\"white-space:nowrap\"></td><td style=\"white-space:nowrap\"></td><td>260145</td><td style=\"white-space:nowrap\"></td></tr><tr><td style=\"white-space:nowrap\">Monsieur</td><td style=\"white-space:nowrap\">Brunat&nbsp;Grégoire Pierre-Olivier</td><td style=\"white-space:nowrap\"></td><td style=\"white-space:nowrap\"></td><td style=\"white-space:nowrap\"></td><td style=\"white-space:nowrap\"></td><td style=\"white-space:nowrap\"></td><td style=\"white-space:nowrap\">Présent</td><td style=\"white-space:nowrap\"></td><td style=\"white-space:nowrap\"></td><td>201023</td><td style=\"white-space:nowrap\"></td></tr><tr><td style=\"white-space:nowrap\">Monsieur</td><td style=\"white-space:nowrap\">De Castro Fernandes&nbsp;Adrien Jorge Roger</td><td style=\"white-space:nowrap\"></td><td style=\"white-space:nowrap\"></td><td style=\"white-space:nowrap\"></td><td style=\"white-space:nowrap\"></td><td style=\"white-space:nowrap\"></td><td style=\"white-space:nowrap\">Stage</td><td style=\"white-space:nowrap\"></td><td style=\"white-space:nowrap\"></td><td>203940</td><td style=\"white-space:nowrap\"></td></tr><tr><td style=\"white-space:nowrap\">Madame</td><td style=\"white-space:nowrap\">Favre&nbsp;Julie Marthe</td><td style=\"white-space:nowrap\"></td><td style=\"white-space:nowrap\"></td><td style=\"white-space:nowrap\"></td><td style=\"white-space:nowrap\"></td><td style=\"white-space:nowrap\"></td><td style=\"white-space:nowrap\">Stage</td><td style=\"white-space:nowrap\"></td><td style=\"white-space:nowrap\"></td><td>226481</td><td style=\"white-space:nowrap\"></td></tr><tr><td style=\"white-space:nowrap\">Madame</td><td style=\"white-space:nowrap\">Ghita&nbsp;Lavinia</td><td style=\"white-space:nowrap\"></td><td style=\"white-space:nowrap\">Statistique et probabilités appliquées</td><td style=\"white-space:nowrap\"></td><td style=\"white-space:nowrap\"></td><td style=\"white-space:nowrap\"></td><td style=\"white-space:nowrap\">Stage</td><td style=\"white-space:nowrap\"></td><td style=\"white-space:nowrap\"></td><td>224570</td><td style=\"white-space:nowrap\"></td></tr><tr><td style=\"white-space:nowrap\">Monsieur</td><td style=\"white-space:nowrap\">Jauslin&nbsp;Raphaël</td><td style=\"white-space:nowrap\"></td><td style=\"white-space:nowrap\"></td><td style=\"white-space:nowrap\"></td><td style=\"white-space:nowrap\"></td><td style=\"white-space:nowrap\"></td><td style=\"white-space:nowrap\">Présent</td><td style=\"white-space:nowrap\"></td><td style=\"white-space:nowrap\"></td><td>217432</td><td style=\"white-space:nowrap\"></td></tr><tr><td style=\"white-space:nowrap\">Monsieur</td><td style=\"white-space:nowrap\">Kianmanesh Rad&nbsp;Melvin</td><td style=\"white-space:nowrap\"></td><td style=\"white-space:nowrap\">Statistique et probabilités appliquées</td><td style=\"white-space:nowrap\"></td><td style=\"white-space:nowrap\"></td><td style=\"white-space:nowrap\"></td><td style=\"white-space:nowrap\">Stage</td><td style=\"white-space:nowrap\"></td><td style=\"white-space:nowrap\"></td><td>227951</td><td style=\"white-space:nowrap\"></td></tr><tr><td style=\"white-space:nowrap\">Monsieur</td><td style=\"white-space:nowrap\">Maître&nbsp;Alan Jean Joseph</td><td style=\"white-space:nowrap\"></td><td style=\"white-space:nowrap\"></td><td style=\"white-space:nowrap\"></td><td style=\"white-space:nowrap\"></td><td style=\"white-space:nowrap\"></td><td style=\"white-space:nowrap\">Stage</td><td style=\"white-space:nowrap\"></td><td style=\"white-space:nowrap\"></td><td>227539</td><td style=\"white-space:nowrap\"></td></tr><tr><td style=\"white-space:nowrap\">Madame</td><td style=\"white-space:nowrap\">Mannari&nbsp;Marina</td><td style=\"white-space:nowrap\"></td><td style=\"white-space:nowrap\"></td><td style=\"white-space:nowrap\"></td><td style=\"white-space:nowrap\"></td><td style=\"white-space:nowrap\"></td><td style=\"white-space:nowrap\">Stage</td><td style=\"white-space:nowrap\"></td><td style=\"white-space:nowrap\"></td><td>254452</td><td style=\"white-space:nowrap\"></td></tr><tr><td style=\"white-space:nowrap\">Madame</td><td style=\"white-space:nowrap\">Manzoni&nbsp;Cecilia</td><td style=\"white-space:nowrap\"></td><td style=\"white-space:nowrap\">Mathématiques appliquées</td><td style=\"white-space:nowrap\"></td><td style=\"white-space:nowrap\"></td><td style=\"white-space:nowrap\"></td><td style=\"white-space:nowrap\">Stage</td><td style=\"white-space:nowrap\"></td><td style=\"white-space:nowrap\"></td><td>223524</td><td style=\"white-space:nowrap\"></td></tr><tr><td style=\"white-space:nowrap\">Monsieur</td><td style=\"white-space:nowrap\">Michel&nbsp;Loris</td><td style=\"white-space:nowrap\"></td><td style=\"white-space:nowrap\">Statistique et probabilités appliquées</td><td style=\"white-space:nowrap\"></td><td style=\"white-space:nowrap\"></td><td style=\"white-space:nowrap\"></td><td style=\"white-space:nowrap\">Stage</td><td style=\"white-space:nowrap\"></td><td style=\"white-space:nowrap\"></td><td>228495</td><td style=\"white-space:nowrap\"></td></tr><tr><td style=\"white-space:nowrap\">Monsieur</td><td style=\"white-space:nowrap\">N'Cho&nbsp;Anassé Daniel Yann Eric</td><td style=\"white-space:nowrap\"></td><td style=\"white-space:nowrap\"></td><td style=\"white-space:nowrap\"></td><td style=\"white-space:nowrap\"></td><td style=\"white-space:nowrap\"></td><td style=\"white-space:nowrap\">Présent</td><td style=\"white-space:nowrap\"></td><td style=\"white-space:nowrap\"></td><td>223473</td><td style=\"white-space:nowrap\"></td></tr><tr><td style=\"white-space:nowrap\">Monsieur</td><td style=\"white-space:nowrap\">Nguyen&nbsp;Kenneth Minh Thang</td><td style=\"white-space:nowrap\"></td><td style=\"white-space:nowrap\"></td><td style=\"white-space:nowrap\"></td><td style=\"white-space:nowrap\"></td><td style=\"white-space:nowrap\"></td><td style=\"white-space:nowrap\">Stage</td><td style=\"white-space:nowrap\"></td><td style=\"white-space:nowrap\"></td><td>225766</td><td style=\"white-space:nowrap\"></td></tr><tr><td style=\"white-space:nowrap\">Monsieur</td><td style=\"white-space:nowrap\">Nobili&nbsp;Francesco</td><td style=\"white-space:nowrap\"></td><td style=\"white-space:nowrap\"></td><td style=\"white-space:nowrap\"></td><td style=\"white-space:nowrap\"></td><td style=\"white-space:nowrap\"></td><td style=\"white-space:nowrap\">Stage</td><td style=\"white-space:nowrap\"></td><td style=\"white-space:nowrap\"></td><td>260677</td><td style=\"white-space:nowrap\"></td></tr><tr><td style=\"white-space:nowrap\">Monsieur</td><td style=\"white-space:nowrap\">Paillard&nbsp;Christophe</td><td style=\"white-space:nowrap\"></td><td style=\"white-space:nowrap\"></td><td style=\"white-space:nowrap\"></td><td style=\"white-space:nowrap\"></td><td style=\"white-space:nowrap\"></td><td style=\"white-space:nowrap\">Stage</td><td style=\"white-space:nowrap\"></td><td style=\"white-space:nowrap\"></td><td>217286</td><td style=\"white-space:nowrap\"></td></tr><tr><td style=\"white-space:nowrap\">Monsieur</td><td style=\"white-space:nowrap\">Repond&nbsp;Brice Elian</td><td style=\"white-space:nowrap\"></td><td style=\"white-space:nowrap\"></td><td style=\"white-space:nowrap\"></td><td style=\"white-space:nowrap\"></td><td style=\"white-space:nowrap\"></td><td style=\"white-space:nowrap\">Présent</td><td style=\"white-space:nowrap\"></td><td style=\"white-space:nowrap\"></td><td>225785</td><td style=\"white-space:nowrap\"></td></tr><tr><td style=\"white-space:nowrap\">Monsieur</td><td style=\"white-space:nowrap\">Rochat&nbsp;Fabien Alexandre</td><td style=\"white-space:nowrap\"></td><td style=\"white-space:nowrap\"></td><td style=\"white-space:nowrap\"></td><td style=\"white-space:nowrap\"></td><td style=\"white-space:nowrap\"></td><td style=\"white-space:nowrap\">Stage</td><td style=\"white-space:nowrap\"></td><td style=\"white-space:nowrap\"></td><td>216741</td><td style=\"white-space:nowrap\"></td></tr><tr><td style=\"white-space:nowrap\">Monsieur</td><td style=\"white-space:nowrap\">Roquette&nbsp;Lucien Henri Jacques Marie</td><td style=\"white-space:nowrap\"></td><td style=\"white-space:nowrap\"></td><td style=\"white-space:nowrap\"></td><td style=\"white-space:nowrap\"></td><td style=\"white-space:nowrap\"></td><td style=\"white-space:nowrap\">Stage</td><td style=\"white-space:nowrap\"></td><td style=\"white-space:nowrap\"></td><td>204381</td><td style=\"white-space:nowrap\"></td></tr><tr><td style=\"white-space:nowrap\">Madame</td><td style=\"white-space:nowrap\">Saugy&nbsp;Lola Valentine</td><td style=\"white-space:nowrap\"></td><td style=\"white-space:nowrap\"></td><td style=\"white-space:nowrap\"></td><td style=\"white-space:nowrap\"></td><td style=\"white-space:nowrap\">Mineur en Management, technologie et entrepreneuriat</td><td style=\"white-space:nowrap\">Présent</td><td style=\"white-space:nowrap\"></td><td style=\"white-space:nowrap\"></td><td>217493</td><td style=\"white-space:nowrap\"></td></tr><tr><td style=\"white-space:nowrap\">Monsieur</td><td style=\"white-space:nowrap\">Singy&nbsp;Florent Patrick Jacques</td><td style=\"white-space:nowrap\"></td><td style=\"white-space:nowrap\">Mathématiques appliquées</td><td style=\"white-space:nowrap\"></td><td style=\"white-space:nowrap\"></td><td style=\"white-space:nowrap\"></td><td style=\"white-space:nowrap\">Présent</td><td style=\"white-space:nowrap\"></td><td style=\"white-space:nowrap\"></td><td>217472</td><td style=\"white-space:nowrap\"></td></tr><tr><td style=\"white-space:nowrap\">Madame</td><td style=\"white-space:nowrap\">Tosi&nbsp;Margherita</td><td style=\"white-space:nowrap\"></td><td style=\"white-space:nowrap\"></td><td style=\"white-space:nowrap\"></td><td style=\"white-space:nowrap\"></td><td style=\"white-space:nowrap\"></td><td style=\"white-space:nowrap\">Stage</td><td style=\"white-space:nowrap\"></td><td style=\"white-space:nowrap\"></td><td>255378</td><td style=\"white-space:nowrap\"></td></tr><tr><td style=\"white-space:nowrap\">Madame</td><td style=\"white-space:nowrap\">Vukmirovic&nbsp;Mila</td><td style=\"white-space:nowrap\"></td><td style=\"white-space:nowrap\"></td><td style=\"white-space:nowrap\"></td><td style=\"white-space:nowrap\"></td><td style=\"white-space:nowrap\"></td><td style=\"white-space:nowrap\">Présent</td><td style=\"white-space:nowrap\"></td><td style=\"white-space:nowrap\"></td><td>255460</td><td style=\"white-space:nowrap\"></td></tr><tr><th colspan=\"12\"><font color=\"black\">Mathématiques - master, 2016-2017, Master semestre 3</font>\n",
       "&nbsp;(9 ét.)\n",
       "    </th></tr><tr><th>Civilité</th><th>Nom Prénom</th><th>Orientation Bachelor</th><th>Orientation Master</th><th>Spécialisation</th><th>Filière opt.</th><th>Mineur</th><th>Statut</th><th>Type Echange</th><th>Ecole Echange</th><th>No Sciper</th></tr><tr><td style=\"white-space:nowrap\">Monsieur</td><td style=\"white-space:nowrap\">Antille&nbsp;Raphaël</td><td style=\"white-space:nowrap\"></td><td style=\"white-space:nowrap\"></td><td style=\"white-space:nowrap\"></td><td style=\"white-space:nowrap\"></td><td style=\"white-space:nowrap\">Information security minor</td><td style=\"white-space:nowrap\">Présent</td><td style=\"white-space:nowrap\"></td><td style=\"white-space:nowrap\"></td><td>226697</td><td style=\"white-space:nowrap\"></td></tr><tr><td style=\"white-space:nowrap\">Monsieur</td><td style=\"white-space:nowrap\">Buro&nbsp;Guillaume</td><td style=\"white-space:nowrap\"></td><td style=\"white-space:nowrap\"></td><td style=\"white-space:nowrap\"></td><td style=\"white-space:nowrap\"></td><td style=\"white-space:nowrap\"></td><td style=\"white-space:nowrap\">Présent</td><td style=\"white-space:nowrap\"></td><td style=\"white-space:nowrap\"></td><td>214322</td><td style=\"white-space:nowrap\"></td></tr><tr><td style=\"white-space:nowrap\">Madame</td><td style=\"white-space:nowrap\">Hong&nbsp;Sungyeon</td><td style=\"white-space:nowrap\"></td><td style=\"white-space:nowrap\"></td><td style=\"white-space:nowrap\"></td><td style=\"white-space:nowrap\"></td><td style=\"white-space:nowrap\"></td><td style=\"white-space:nowrap\">Présent</td><td style=\"white-space:nowrap\"></td><td style=\"white-space:nowrap\"></td><td>236949</td><td style=\"white-space:nowrap\"></td></tr><tr><td style=\"white-space:nowrap\">Monsieur</td><td style=\"white-space:nowrap\">Jacot-Guillarmod&nbsp;Arthur Ulysse</td><td style=\"white-space:nowrap\"></td><td style=\"white-space:nowrap\">Mathématiques appliquées</td><td style=\"white-space:nowrap\"></td><td style=\"white-space:nowrap\"></td><td style=\"white-space:nowrap\">Mineur en Neurosciences computationnelles</td><td style=\"white-space:nowrap\">Présent</td><td style=\"white-space:nowrap\"></td><td style=\"white-space:nowrap\"></td><td>260771</td><td style=\"white-space:nowrap\"></td></tr><tr><td style=\"white-space:nowrap\">Madame</td><td style=\"white-space:nowrap\">Métrailler&nbsp;Coline Eloïse</td><td style=\"white-space:nowrap\"></td><td style=\"white-space:nowrap\"></td><td style=\"white-space:nowrap\"></td><td style=\"white-space:nowrap\"></td><td style=\"white-space:nowrap\"></td><td style=\"white-space:nowrap\">Présent</td><td style=\"white-space:nowrap\"></td><td style=\"white-space:nowrap\"></td><td>255048</td><td style=\"white-space:nowrap\"></td></tr><tr><td style=\"white-space:nowrap\">Madame</td><td style=\"white-space:nowrap\">Morell&nbsp;Sarah Maria</td><td style=\"white-space:nowrap\"></td><td style=\"white-space:nowrap\"></td><td style=\"white-space:nowrap\"></td><td style=\"white-space:nowrap\"></td><td style=\"white-space:nowrap\">Mineur en Informatique</td><td style=\"white-space:nowrap\">Présent</td><td style=\"white-space:nowrap\"></td><td style=\"white-space:nowrap\"></td><td>193107</td><td style=\"white-space:nowrap\"></td></tr><tr><td style=\"white-space:nowrap\">Monsieur</td><td style=\"white-space:nowrap\">Rossi&nbsp;Nicolas</td><td style=\"white-space:nowrap\"></td><td style=\"white-space:nowrap\"></td><td style=\"white-space:nowrap\"></td><td style=\"white-space:nowrap\"></td><td style=\"white-space:nowrap\"></td><td style=\"white-space:nowrap\">Présent</td><td style=\"white-space:nowrap\"></td><td style=\"white-space:nowrap\"></td><td>201944</td><td style=\"white-space:nowrap\"></td></tr><tr><td style=\"white-space:nowrap\">Monsieur</td><td style=\"white-space:nowrap\">Simko&nbsp;Peter</td><td style=\"white-space:nowrap\"></td><td style=\"white-space:nowrap\"></td><td style=\"white-space:nowrap\"></td><td style=\"white-space:nowrap\"></td><td style=\"white-space:nowrap\"></td><td style=\"white-space:nowrap\">Présent</td><td style=\"white-space:nowrap\"></td><td style=\"white-space:nowrap\"></td><td>224448</td><td style=\"white-space:nowrap\"></td></tr><tr><td style=\"white-space:nowrap\">Monsieur</td><td style=\"white-space:nowrap\">Widmer&nbsp;Bastian</td><td style=\"white-space:nowrap\"></td><td style=\"white-space:nowrap\"></td><td style=\"white-space:nowrap\"></td><td style=\"white-space:nowrap\"></td><td style=\"white-space:nowrap\"></td><td style=\"white-space:nowrap\">Présent</td><td style=\"white-space:nowrap\"></td><td style=\"white-space:nowrap\"></td><td>226653</td><td style=\"white-space:nowrap\"></td></tr><tr><th colspan=\"12\">Mathématiques pour l'enseignement, 2016-2017, Master semestre 3\n",
       "&nbsp;(0 ét.)\n",
       "    </th></tr><tr><th colspan=\"12\"><font color=\"black\">Science et ingénierie computationnelles, 2016-2017, Master semestre 3</font>\n",
       "&nbsp;(24 ét.)\n",
       "    </th></tr><tr><th>Civilité</th><th>Nom Prénom</th><th>Orientation Bachelor</th><th>Orientation Master</th><th>Spécialisation</th><th>Filière opt.</th><th>Mineur</th><th>Statut</th><th>Type Echange</th><th>Ecole Echange</th><th>No Sciper</th></tr><tr><td style=\"white-space:nowrap\">Monsieur</td><td style=\"white-space:nowrap\">Barry&nbsp;Martin Louis Lucien Rémy</td><td style=\"white-space:nowrap\"></td><td style=\"white-space:nowrap\"></td><td style=\"white-space:nowrap\"></td><td style=\"white-space:nowrap\"></td><td style=\"white-space:nowrap\"></td><td style=\"white-space:nowrap\">Présent</td><td style=\"white-space:nowrap\"></td><td style=\"white-space:nowrap\"></td><td>226745</td><td style=\"white-space:nowrap\"></td></tr><tr><td style=\"white-space:nowrap\">Monsieur</td><td style=\"white-space:nowrap\">Beck&nbsp;Benjamin</td><td style=\"white-space:nowrap\"></td><td style=\"white-space:nowrap\"></td><td style=\"white-space:nowrap\"></td><td style=\"white-space:nowrap\"></td><td style=\"white-space:nowrap\"></td><td style=\"white-space:nowrap\">Présent</td><td style=\"white-space:nowrap\"></td><td style=\"white-space:nowrap\"></td><td>179323</td><td style=\"white-space:nowrap\"></td></tr><tr><td style=\"white-space:nowrap\">Monsieur</td><td style=\"white-space:nowrap\">Berclaz&nbsp;Paul</td><td style=\"white-space:nowrap\"></td><td style=\"white-space:nowrap\"></td><td style=\"white-space:nowrap\"></td><td style=\"white-space:nowrap\"></td><td style=\"white-space:nowrap\"></td><td style=\"white-space:nowrap\">Présent</td><td style=\"white-space:nowrap\"></td><td style=\"white-space:nowrap\"></td><td>214271</td><td style=\"white-space:nowrap\"></td></tr><tr><td style=\"white-space:nowrap\">Madame</td><td style=\"white-space:nowrap\">Chanon&nbsp;Ondine Gabrielle</td><td style=\"white-space:nowrap\"></td><td style=\"white-space:nowrap\"></td><td style=\"white-space:nowrap\"></td><td style=\"white-space:nowrap\"></td><td style=\"white-space:nowrap\"></td><td style=\"white-space:nowrap\">Présent</td><td style=\"white-space:nowrap\"></td><td style=\"white-space:nowrap\"></td><td>214211</td><td style=\"white-space:nowrap\"></td></tr><tr><td style=\"white-space:nowrap\">Monsieur</td><td style=\"white-space:nowrap\">Gu&nbsp;Jiaxi</td><td style=\"white-space:nowrap\"></td><td style=\"white-space:nowrap\"></td><td style=\"white-space:nowrap\"></td><td style=\"white-space:nowrap\"></td><td style=\"white-space:nowrap\"></td><td style=\"white-space:nowrap\">Présent</td><td style=\"white-space:nowrap\"></td><td style=\"white-space:nowrap\"></td><td>255626</td><td style=\"white-space:nowrap\"></td></tr><tr><td style=\"white-space:nowrap\">Monsieur</td><td style=\"white-space:nowrap\">He&nbsp;Lie</td><td style=\"white-space:nowrap\"></td><td style=\"white-space:nowrap\"></td><td style=\"white-space:nowrap\"></td><td style=\"white-space:nowrap\"></td><td style=\"white-space:nowrap\"></td><td style=\"white-space:nowrap\">Présent</td><td style=\"white-space:nowrap\"></td><td style=\"white-space:nowrap\"></td><td>254962</td><td style=\"white-space:nowrap\"></td></tr><tr><td style=\"white-space:nowrap\">Monsieur</td><td style=\"white-space:nowrap\">Juda&nbsp;Przemyslaw</td><td style=\"white-space:nowrap\"></td><td style=\"white-space:nowrap\"></td><td style=\"white-space:nowrap\"></td><td style=\"white-space:nowrap\"></td><td style=\"white-space:nowrap\"></td><td style=\"white-space:nowrap\">Présent</td><td style=\"white-space:nowrap\"></td><td style=\"white-space:nowrap\"></td><td>256246</td><td style=\"white-space:nowrap\"></td></tr><tr><td style=\"white-space:nowrap\">Monsieur</td><td style=\"white-space:nowrap\">Kibleur&nbsp;Pierre Charles Marie</td><td style=\"white-space:nowrap\"></td><td style=\"white-space:nowrap\"></td><td style=\"white-space:nowrap\"></td><td style=\"white-space:nowrap\"></td><td style=\"white-space:nowrap\"></td><td style=\"white-space:nowrap\">Présent</td><td style=\"white-space:nowrap\"></td><td style=\"white-space:nowrap\"></td><td>216811</td><td style=\"white-space:nowrap\"></td></tr><tr><td style=\"white-space:nowrap\">Monsieur</td><td style=\"white-space:nowrap\">Lederrey&nbsp;Gael</td><td style=\"white-space:nowrap\"></td><td style=\"white-space:nowrap\"></td><td style=\"white-space:nowrap\"></td><td style=\"white-space:nowrap\"></td><td style=\"white-space:nowrap\"></td><td style=\"white-space:nowrap\">Présent</td><td style=\"white-space:nowrap\"></td><td style=\"white-space:nowrap\"></td><td>204874</td><td style=\"white-space:nowrap\"></td></tr><tr><td style=\"white-space:nowrap\">Monsieur</td><td style=\"white-space:nowrap\">Lorkowski&nbsp;Alexander Kengo</td><td style=\"white-space:nowrap\"></td><td style=\"white-space:nowrap\"></td><td style=\"white-space:nowrap\"></td><td style=\"white-space:nowrap\"></td><td style=\"white-space:nowrap\"></td><td style=\"white-space:nowrap\">Présent</td><td style=\"white-space:nowrap\"></td><td style=\"white-space:nowrap\"></td><td>260847</td><td style=\"white-space:nowrap\"></td></tr><tr><td style=\"white-space:nowrap\">Monsieur</td><td style=\"white-space:nowrap\">Malanche Flores&nbsp;Carlos Gerardo</td><td style=\"white-space:nowrap\"></td><td style=\"white-space:nowrap\"></td><td style=\"white-space:nowrap\"></td><td style=\"white-space:nowrap\"></td><td style=\"white-space:nowrap\"></td><td style=\"white-space:nowrap\">Présent</td><td style=\"white-space:nowrap\"></td><td style=\"white-space:nowrap\"></td><td>260159</td><td style=\"white-space:nowrap\"></td></tr><tr><td style=\"white-space:nowrap\">Monsieur</td><td style=\"white-space:nowrap\">Martinolli&nbsp;Marco</td><td style=\"white-space:nowrap\"></td><td style=\"white-space:nowrap\"></td><td style=\"white-space:nowrap\"></td><td style=\"white-space:nowrap\"></td><td style=\"white-space:nowrap\"></td><td style=\"white-space:nowrap\">Stage</td><td style=\"white-space:nowrap\"></td><td style=\"white-space:nowrap\"></td><td>260846</td><td style=\"white-space:nowrap\"></td></tr><tr><td style=\"white-space:nowrap\">Monsieur</td><td style=\"white-space:nowrap\">Migliorini&nbsp;Francesco</td><td style=\"white-space:nowrap\"></td><td style=\"white-space:nowrap\"></td><td style=\"white-space:nowrap\"></td><td style=\"white-space:nowrap\"></td><td style=\"white-space:nowrap\"></td><td style=\"white-space:nowrap\">Stage</td><td style=\"white-space:nowrap\"></td><td style=\"white-space:nowrap\"></td><td>260855</td><td style=\"white-space:nowrap\"></td></tr><tr><td style=\"white-space:nowrap\">Monsieur</td><td style=\"white-space:nowrap\">Mordig&nbsp;Maximilian Oliver Mogli</td><td style=\"white-space:nowrap\"></td><td style=\"white-space:nowrap\"></td><td style=\"white-space:nowrap\"></td><td style=\"white-space:nowrap\"></td><td style=\"white-space:nowrap\"></td><td style=\"white-space:nowrap\">Présent</td><td style=\"white-space:nowrap\"></td><td style=\"white-space:nowrap\"></td><td>229447</td><td style=\"white-space:nowrap\"></td></tr><tr><td style=\"white-space:nowrap\">Monsieur</td><td style=\"white-space:nowrap\">Pradovera&nbsp;Davide</td><td style=\"white-space:nowrap\"></td><td style=\"white-space:nowrap\"></td><td style=\"white-space:nowrap\"></td><td style=\"white-space:nowrap\"></td><td style=\"white-space:nowrap\"></td><td style=\"white-space:nowrap\">Présent</td><td style=\"white-space:nowrap\"></td><td style=\"white-space:nowrap\"></td><td>256019</td><td style=\"white-space:nowrap\"></td></tr><tr><td style=\"white-space:nowrap\">Monsieur</td><td style=\"white-space:nowrap\">Ripamonti&nbsp;Nicolò</td><td style=\"white-space:nowrap\"></td><td style=\"white-space:nowrap\"></td><td style=\"white-space:nowrap\"></td><td style=\"white-space:nowrap\"></td><td style=\"white-space:nowrap\"></td><td style=\"white-space:nowrap\">Stage</td><td style=\"white-space:nowrap\"></td><td style=\"white-space:nowrap\"></td><td>260853</td><td style=\"white-space:nowrap\"></td></tr><tr><td style=\"white-space:nowrap\">Monsieur</td><td style=\"white-space:nowrap\">Rivollet&nbsp;David Martin</td><td style=\"white-space:nowrap\"></td><td style=\"white-space:nowrap\"></td><td style=\"white-space:nowrap\"></td><td style=\"white-space:nowrap\"></td><td style=\"white-space:nowrap\"></td><td style=\"white-space:nowrap\">Présent</td><td style=\"white-space:nowrap\"></td><td style=\"white-space:nowrap\"></td><td>216723</td><td style=\"white-space:nowrap\"></td></tr><tr><td style=\"white-space:nowrap\">Monsieur</td><td style=\"white-space:nowrap\">Rolland&nbsp;Paul Thierry Yves</td><td style=\"white-space:nowrap\"></td><td style=\"white-space:nowrap\"></td><td style=\"white-space:nowrap\"></td><td style=\"white-space:nowrap\"></td><td style=\"white-space:nowrap\"></td><td style=\"white-space:nowrap\">Présent</td><td style=\"white-space:nowrap\"></td><td style=\"white-space:nowrap\"></td><td>223583</td><td style=\"white-space:nowrap\"></td></tr><tr><td style=\"white-space:nowrap\">Monsieur</td><td style=\"white-space:nowrap\">Sanchez&nbsp;Thomas</td><td style=\"white-space:nowrap\"></td><td style=\"white-space:nowrap\"></td><td style=\"white-space:nowrap\"></td><td style=\"white-space:nowrap\"></td><td style=\"white-space:nowrap\"></td><td style=\"white-space:nowrap\">Présent</td><td style=\"white-space:nowrap\"></td><td style=\"white-space:nowrap\"></td><td>225447</td><td style=\"white-space:nowrap\"></td></tr><tr><td style=\"white-space:nowrap\">Monsieur</td><td style=\"white-space:nowrap\">Sanchez Falcon&nbsp;Alexandre Nikolaj Miguel Hubert</td><td style=\"white-space:nowrap\"></td><td style=\"white-space:nowrap\"></td><td style=\"white-space:nowrap\"></td><td style=\"white-space:nowrap\"></td><td style=\"white-space:nowrap\"></td><td style=\"white-space:nowrap\">Présent</td><td style=\"white-space:nowrap\"></td><td style=\"white-space:nowrap\"></td><td>245572</td><td style=\"white-space:nowrap\"></td></tr><tr><td style=\"white-space:nowrap\">Monsieur</td><td style=\"white-space:nowrap\">Savarè&nbsp;Stefano</td><td style=\"white-space:nowrap\"></td><td style=\"white-space:nowrap\"></td><td style=\"white-space:nowrap\"></td><td style=\"white-space:nowrap\"></td><td style=\"white-space:nowrap\"></td><td style=\"white-space:nowrap\">Présent</td><td style=\"white-space:nowrap\"></td><td style=\"white-space:nowrap\"></td><td>260960</td><td style=\"white-space:nowrap\"></td></tr><tr><td style=\"white-space:nowrap\">Monsieur</td><td style=\"white-space:nowrap\">Stankovic&nbsp;Aleksa</td><td style=\"white-space:nowrap\"></td><td style=\"white-space:nowrap\"></td><td style=\"white-space:nowrap\"></td><td style=\"white-space:nowrap\"></td><td style=\"white-space:nowrap\"></td><td style=\"white-space:nowrap\">Présent</td><td style=\"white-space:nowrap\"></td><td style=\"white-space:nowrap\"></td><td>256393</td><td style=\"white-space:nowrap\"></td></tr><tr><td style=\"white-space:nowrap\">Monsieur</td><td style=\"white-space:nowrap\">Ubbiali&nbsp;Stefano</td><td style=\"white-space:nowrap\"></td><td style=\"white-space:nowrap\"></td><td style=\"white-space:nowrap\"></td><td style=\"white-space:nowrap\"></td><td style=\"white-space:nowrap\"></td><td style=\"white-space:nowrap\">Stage</td><td style=\"white-space:nowrap\"></td><td style=\"white-space:nowrap\"></td><td>260769</td><td style=\"white-space:nowrap\"></td></tr><tr><td style=\"white-space:nowrap\">Monsieur</td><td style=\"white-space:nowrap\">Veyssiere&nbsp;Loïc Pierre Antoine</td><td style=\"white-space:nowrap\"></td><td style=\"white-space:nowrap\"></td><td style=\"white-space:nowrap\"></td><td style=\"white-space:nowrap\"></td><td style=\"white-space:nowrap\"></td><td style=\"white-space:nowrap\">Présent</td><td style=\"white-space:nowrap\"></td><td style=\"white-space:nowrap\"></td><td>256292</td><td style=\"white-space:nowrap\"></td></tr></table></body></html>\n",
       "<!-- OpenXml:0.01s  agent ctrl:0.00s  xml:0.48s  xsl extr&stylesheet:0.00s  xsl after parsing:0.00s  xsl ctrl data:0.00s  transform 2:0.04s  xsl process:0.00s  -->"
      ],
      "text/plain": [
       "<IPython.core.display.HTML object>"
      ]
     },
     "execution_count": 16,
     "metadata": {},
     "output_type": "execute_result"
    }
   ],
   "source": [
    "from IPython.core.display import HTML\n",
    "HTML(s.decode(\"latin_1\"))"
   ]
  },
  {
   "cell_type": "markdown",
   "metadata": {},
   "source": [
    "We can extract this numbers from the line:"
   ]
  },
  {
   "cell_type": "code",
   "execution_count": 17,
   "metadata": {
    "collapsed": false
   },
   "outputs": [
    {
     "name": "stdout",
     "output_type": "stream",
     "text": [
      "25\n",
      "['Ingénierie mathématique', ' 2016-2017', ' Master semestre 3']\n",
      "9\n",
      "['Mathématiques - master', ' 2016-2017', ' Master semestre 3']\n",
      "0\n",
      "[\"Mathématiques pour l'enseignement\", ' 2016-2017', ' Master semestre 3']\n",
      "24\n",
      "['Science et ingénierie computationnelles', ' 2016-2017', ' Master semestre 3']\n"
     ]
    }
   ],
   "source": [
    "for row in header:\n",
    "    if(row.find(\"(\")!=-1):\n",
    "\n",
    "        par = row[row.find(\"(\")+1:row.find(\")\")]\n",
    "        print([int(s) for s in par.split() if s.isdigit()][0])\n",
    "        tok = row.split(',')\n",
    "        tok[-1]=tok[-1].split('\\n')[0]\n",
    "        print(tok)"
   ]
  },
  {
   "cell_type": "markdown",
   "metadata": {},
   "source": [
    "Now we use this information to turn the table into a usefull dataframe:"
   ]
  },
  {
   "cell_type": "code",
   "execution_count": 18,
   "metadata": {
    "collapsed": false
   },
   "outputs": [
    {
     "data": {
      "text/html": [
       "<div>\n",
       "<table border=\"1\" class=\"dataframe\">\n",
       "  <thead>\n",
       "    <tr style=\"text-align: right;\">\n",
       "      <th></th>\n",
       "      <th>Civilité</th>\n",
       "      <th>Nom Prénom</th>\n",
       "      <th>Orientation Bachelor</th>\n",
       "      <th>Orientation Master</th>\n",
       "      <th>Spécialisation</th>\n",
       "      <th>Filière opt.</th>\n",
       "      <th>Mineur</th>\n",
       "      <th>Statut</th>\n",
       "      <th>Type Echange</th>\n",
       "      <th>Ecole Echange</th>\n",
       "      <th>No Sciper</th>\n",
       "    </tr>\n",
       "  </thead>\n",
       "  <tbody>\n",
       "    <tr>\n",
       "      <th>0</th>\n",
       "      <td>Monsieur</td>\n",
       "      <td>Arnould-Borel Charles Antoine André</td>\n",
       "      <td></td>\n",
       "      <td></td>\n",
       "      <td></td>\n",
       "      <td></td>\n",
       "      <td>Mineur en Management, technologie et entrepren...</td>\n",
       "      <td>Présent</td>\n",
       "      <td></td>\n",
       "      <td></td>\n",
       "      <td>215913</td>\n",
       "    </tr>\n",
       "    <tr>\n",
       "      <th>1</th>\n",
       "      <td>Monsieur</td>\n",
       "      <td>Bandelier Valentin Michel</td>\n",
       "      <td></td>\n",
       "      <td></td>\n",
       "      <td></td>\n",
       "      <td></td>\n",
       "      <td></td>\n",
       "      <td>Stage</td>\n",
       "      <td></td>\n",
       "      <td></td>\n",
       "      <td>189515</td>\n",
       "    </tr>\n",
       "    <tr>\n",
       "      <th>2</th>\n",
       "      <td>Monsieur</td>\n",
       "      <td>Bays Xavier</td>\n",
       "      <td></td>\n",
       "      <td></td>\n",
       "      <td></td>\n",
       "      <td></td>\n",
       "      <td></td>\n",
       "      <td>Présent</td>\n",
       "      <td></td>\n",
       "      <td></td>\n",
       "      <td>224854</td>\n",
       "    </tr>\n",
       "    <tr>\n",
       "      <th>3</th>\n",
       "      <td>Madame</td>\n",
       "      <td>Biletta Anna-Maria</td>\n",
       "      <td></td>\n",
       "      <td></td>\n",
       "      <td></td>\n",
       "      <td></td>\n",
       "      <td></td>\n",
       "      <td>Présent</td>\n",
       "      <td></td>\n",
       "      <td></td>\n",
       "      <td>260145</td>\n",
       "    </tr>\n",
       "    <tr>\n",
       "      <th>4</th>\n",
       "      <td>Monsieur</td>\n",
       "      <td>Brunat Grégoire Pierre-Olivier</td>\n",
       "      <td></td>\n",
       "      <td></td>\n",
       "      <td></td>\n",
       "      <td></td>\n",
       "      <td></td>\n",
       "      <td>Présent</td>\n",
       "      <td></td>\n",
       "      <td></td>\n",
       "      <td>201023</td>\n",
       "    </tr>\n",
       "  </tbody>\n",
       "</table>\n",
       "</div>"
      ],
      "text/plain": [
       "   Civilité                           Nom Prénom Orientation Bachelor  \\\n",
       "0  Monsieur  Arnould-Borel Charles Antoine André                        \n",
       "1  Monsieur            Bandelier Valentin Michel                        \n",
       "2  Monsieur                          Bays Xavier                        \n",
       "3    Madame                   Biletta Anna-Maria                        \n",
       "4  Monsieur       Brunat Grégoire Pierre-Olivier                        \n",
       "\n",
       "  Orientation Master Spécialisation Filière opt.  \\\n",
       "0                                                  \n",
       "1                                                  \n",
       "2                                                  \n",
       "3                                                  \n",
       "4                                                  \n",
       "\n",
       "                                              Mineur   Statut Type Echange  \\\n",
       "0  Mineur en Management, technologie et entrepren...  Présent                \n",
       "1                                                       Stage                \n",
       "2                                                     Présent                \n",
       "3                                                     Présent                \n",
       "4                                                     Présent                \n",
       "\n",
       "  Ecole Echange No Sciper  \n",
       "0                  215913  \n",
       "1                  189515  \n",
       "2                  224854  \n",
       "3                  260145  \n",
       "4                  201023  "
      ]
     },
     "execution_count": 18,
     "metadata": {},
     "output_type": "execute_result"
    }
   ],
   "source": [
    "# Retrieve column names in the table, that we've seen they are between the names of their studies.\n",
    "# ATTENTION: THE URL MUST NOT LEAD TO AN EMPTY TABLE OR A TABLE STARTING WITH 0 STUDENTS\n",
    "gotNames = False\n",
    "nFields=0\n",
    "for idx,row in enumerate(header):\n",
    "    if(row.find(\"(\")!=-1):\n",
    "        if not gotNames:\n",
    "            gotNames=True\n",
    "        else:\n",
    "            nFields=idx-1\n",
    "            break\n",
    "            \n",
    "        par = row[row.find(\"(\")+1:row.find(\")\")]\n",
    "        [int(s) for s in par.split() if s.isdigit()][0]\n",
    "        \n",
    "colNames = header[1:idx]\n",
    "\n",
    "data=pd.DataFrame(columns=colNames)\n",
    "\n",
    "counter = 0;\n",
    "nmbEt=0;\n",
    "for row in header:\n",
    "    if(row.find(\"(\")!=-1):\n",
    "        par = row[row.find(\"(\")+1:row.find(\")\")]\n",
    "        nmbEt=[int(s) for s in par.split() if s.isdigit()][0]\n",
    "        for i in range(0,nmbEt):\n",
    "            data.loc[counter] = content[counter*(nFields)+counter:(counter+1)*(nFields)+counter]\n",
    "            counter = counter+1;\n",
    "    \n",
    "data.head()"
   ]
  },
  {
   "cell_type": "markdown",
   "metadata": {},
   "source": [
    "## Wrap up"
   ]
  },
  {
   "cell_type": "markdown",
   "metadata": {},
   "source": [
    "Now that we get the results, let's wrap all this in a single function for the assignments. The names are not a reliable index as we know, because they might repeat. However, the last column (sciper number) is a unique identifier, thing we can check with the \"isunique\" function. So let's make the sciper the ID. Let's also add three columns: \"Études, Période, Semestre\":"
   ]
  },
  {
   "cell_type": "code",
   "execution_count": 19,
   "metadata": {
    "collapsed": true
   },
   "outputs": [],
   "source": [
    "def loadColumns():\n",
    "    gotNames = False\n",
    "    nFields = 0\n",
    "    st = 0\n",
    "    \n",
    "    for idx,row in enumerate(header):\n",
    "        if(row.find(\"(\") != -1):\n",
    "            if not gotNames:\n",
    "                gotNames = True\n",
    "            else:\n",
    "                nFields = idx-1\n",
    "                break\n",
    "\n",
    "            par = row[row.find(\"(\")+1:row.find(\")\")]\n",
    "            [int(s) for s in par.split() if s.isdigit()][0]\n",
    "    \n",
    "\n",
    "def urlToDataFrame(urlString):\n",
    "    \n",
    "    with urllib.request.urlopen(urlString, timeout=30) as url:\n",
    "        s = url.read()\n",
    "        \n",
    "    aData = BeautifulSoup(s,\"html.parser\")\n",
    "    header = [h.text for h in aData.find_all(\"th\")]\n",
    "    header[:15]\n",
    "    content = [h.text for h in aData.find_all(\"td\")]\n",
    "    content[:15]\n",
    "\n",
    "    colNames = header[1:12]\n",
    "\n",
    "    data=pd.DataFrame(columns=colNames+[\"Études\",\"Période\",\"Semestre\"])\n",
    "\n",
    "    counter = 0;\n",
    "    nmbEt=0;\n",
    "    for row in header:\n",
    "        if(row.find(\"(\")!=-1):\n",
    "            par = row[row.find(\"(\")+1:row.find(\")\")]\n",
    "            nmbEt = [int(s) for s in par.split() if s.isdigit()][0]\n",
    "            tok = row.split(',')\n",
    "            tok[-1] = tok[-1].split('\\n')[0]\n",
    "            for i in range(0,nmbEt):\n",
    "                data.loc[counter] = content[counter*(nFields)+counter:(counter+1)*(nFields)+counter] + tok\n",
    "                counter = counter + 1;\n",
    "    return data"
   ]
  },
  {
   "cell_type": "markdown",
   "metadata": {},
   "source": [
    "## Summary"
   ]
  },
  {
   "cell_type": "markdown",
   "metadata": {},
   "source": [
    "Here is a __tl;dr__ version of what we have done to welcome the assignments:\n",
    "\n",
    "- We created a dataframe called `optionsDF` to store all the search options.\n",
    "- We defined a function called `getValVectors` to search `optionsDF` by ID and return item values.\n",
    "- We defined a function called `getFieldNames` to search `optionsDF` by ID and return field names.\n",
    "- We defined a function called `getURL` where we concatenate the values from `getValVectors` to make a valid query URL.\n",
    "- Finally, we defined a function called `urlToDataFrame` to take an URL as input and return a dataframe, which contains the informations we desire.\n",
    "- The returned dataframe takes `No Sciper` as index, which ensures the uniqueness of every student (data entry)"
   ]
  },
  {
   "cell_type": "markdown",
   "metadata": {},
   "source": [
    "# Assignment 1"
   ]
  },
  {
   "cell_type": "markdown",
   "metadata": {},
   "source": [
    "## Raw data"
   ]
  },
  {
   "cell_type": "markdown",
   "metadata": {},
   "source": [
    "Now let's put in a single data frame all the data of the students in Informatique starting from 2007."
   ]
  },
  {
   "cell_type": "code",
   "execution_count": 20,
   "metadata": {
    "collapsed": false
   },
   "outputs": [],
   "source": [
    "#['Informatique', 'null', 'null', 'null']\n",
    "fData = urlToDataFrame(getURL(getValVector(8,0,-1,-1)))\n",
    "for i in range(1,10):\n",
    "    fData = pd.concat([fData,urlToDataFrame(getURL(getValVector(8,i,-1,-1)))])"
   ]
  },
  {
   "cell_type": "code",
   "execution_count": 21,
   "metadata": {
    "collapsed": false
   },
   "outputs": [
    {
     "data": {
      "text/html": [
       "<div>\n",
       "<table border=\"1\" class=\"dataframe\">\n",
       "  <thead>\n",
       "    <tr style=\"text-align: right;\">\n",
       "      <th></th>\n",
       "      <th>Civilité</th>\n",
       "      <th>Nom Prénom</th>\n",
       "      <th>Orientation Bachelor</th>\n",
       "      <th>Orientation Master</th>\n",
       "      <th>Spécialisation</th>\n",
       "      <th>Filière opt.</th>\n",
       "      <th>Mineur</th>\n",
       "      <th>Statut</th>\n",
       "      <th>Type Echange</th>\n",
       "      <th>Ecole Echange</th>\n",
       "      <th>No Sciper</th>\n",
       "      <th>Études</th>\n",
       "      <th>Période</th>\n",
       "      <th>Semestre</th>\n",
       "    </tr>\n",
       "  </thead>\n",
       "  <tbody>\n",
       "    <tr>\n",
       "      <th>601</th>\n",
       "      <td>Monsieur</td>\n",
       "      <td>Martin Steven-Anthony</td>\n",
       "      <td></td>\n",
       "      <td></td>\n",
       "      <td></td>\n",
       "      <td></td>\n",
       "      <td></td>\n",
       "      <td>Présent</td>\n",
       "      <td></td>\n",
       "      <td></td>\n",
       "      <td>182377</td>\n",
       "      <td>Passerelle HES - IN</td>\n",
       "      <td>2007-2008</td>\n",
       "      <td>Bachelor semestre 3</td>\n",
       "    </tr>\n",
       "    <tr>\n",
       "      <th>602</th>\n",
       "      <td>Monsieur</td>\n",
       "      <td>Tabin Cédric</td>\n",
       "      <td></td>\n",
       "      <td></td>\n",
       "      <td></td>\n",
       "      <td></td>\n",
       "      <td></td>\n",
       "      <td>Présent</td>\n",
       "      <td></td>\n",
       "      <td></td>\n",
       "      <td>176829</td>\n",
       "      <td>Passerelle HES - IN</td>\n",
       "      <td>2007-2008</td>\n",
       "      <td>Bachelor semestre 3</td>\n",
       "    </tr>\n",
       "    <tr>\n",
       "      <th>603</th>\n",
       "      <td>Monsieur</td>\n",
       "      <td>Brunet Yorick</td>\n",
       "      <td></td>\n",
       "      <td></td>\n",
       "      <td></td>\n",
       "      <td></td>\n",
       "      <td></td>\n",
       "      <td>Présent</td>\n",
       "      <td></td>\n",
       "      <td></td>\n",
       "      <td>178283</td>\n",
       "      <td>Passerelle HES - IN</td>\n",
       "      <td>2007-2008</td>\n",
       "      <td>Bachelor semestre 4</td>\n",
       "    </tr>\n",
       "    <tr>\n",
       "      <th>604</th>\n",
       "      <td>Monsieur</td>\n",
       "      <td>Martin Steven-Anthony</td>\n",
       "      <td></td>\n",
       "      <td></td>\n",
       "      <td></td>\n",
       "      <td></td>\n",
       "      <td></td>\n",
       "      <td>Présent</td>\n",
       "      <td></td>\n",
       "      <td></td>\n",
       "      <td>182377</td>\n",
       "      <td>Passerelle HES - IN</td>\n",
       "      <td>2007-2008</td>\n",
       "      <td>Bachelor semestre 4</td>\n",
       "    </tr>\n",
       "    <tr>\n",
       "      <th>605</th>\n",
       "      <td>Monsieur</td>\n",
       "      <td>Tabin Cédric</td>\n",
       "      <td></td>\n",
       "      <td></td>\n",
       "      <td></td>\n",
       "      <td></td>\n",
       "      <td></td>\n",
       "      <td>Présent</td>\n",
       "      <td></td>\n",
       "      <td></td>\n",
       "      <td>176829</td>\n",
       "      <td>Passerelle HES - IN</td>\n",
       "      <td>2007-2008</td>\n",
       "      <td>Bachelor semestre 4</td>\n",
       "    </tr>\n",
       "  </tbody>\n",
       "</table>\n",
       "</div>"
      ],
      "text/plain": [
       "     Civilité             Nom Prénom Orientation Bachelor Orientation Master  \\\n",
       "601  Monsieur  Martin Steven-Anthony                                           \n",
       "602  Monsieur           Tabin Cédric                                           \n",
       "603  Monsieur          Brunet Yorick                                           \n",
       "604  Monsieur  Martin Steven-Anthony                                           \n",
       "605  Monsieur           Tabin Cédric                                           \n",
       "\n",
       "    Spécialisation Filière opt. Mineur   Statut Type Echange Ecole Echange  \\\n",
       "601                                     Présent                              \n",
       "602                                     Présent                              \n",
       "603                                     Présent                              \n",
       "604                                     Présent                              \n",
       "605                                     Présent                              \n",
       "\n",
       "    No Sciper               Études     Période              Semestre  \n",
       "601    182377  Passerelle HES - IN   2007-2008   Bachelor semestre 3  \n",
       "602    176829  Passerelle HES - IN   2007-2008   Bachelor semestre 3  \n",
       "603    178283  Passerelle HES - IN   2007-2008   Bachelor semestre 4  \n",
       "604    182377  Passerelle HES - IN   2007-2008   Bachelor semestre 4  \n",
       "605    176829  Passerelle HES - IN   2007-2008   Bachelor semestre 4  "
      ]
     },
     "execution_count": 21,
     "metadata": {},
     "output_type": "execute_result"
    }
   ],
   "source": [
    "#Debug line just to check if we can find people by name\n",
    "#fData[[\"José\" in rs for rs in fData['Nom Prénom']]].head()\n",
    "fData.tail()"
   ]
  },
  {
   "cell_type": "markdown",
   "metadata": {},
   "source": [
    "## Clean up"
   ]
  },
  {
   "cell_type": "markdown",
   "metadata": {},
   "source": [
    "Now we will only keep students in Informatique who are not in exchange or anything else, who either have a register for the 6th or for the 1st semester, we will make the sciper the index of the data frame _although it is not unique_ and we will throw away the useless columns, just to save space and improve speed in operations."
   ]
  },
  {
   "cell_type": "code",
   "execution_count": 23,
   "metadata": {
    "collapsed": false
   },
   "outputs": [
    {
     "data": {
      "text/html": [
       "<div>\n",
       "<table border=\"1\" class=\"dataframe\">\n",
       "  <thead>\n",
       "    <tr style=\"text-align: right;\">\n",
       "      <th></th>\n",
       "      <th>Civilité</th>\n",
       "      <th>Nom Prénom</th>\n",
       "      <th>Statut</th>\n",
       "      <th>Période</th>\n",
       "      <th>Semestre</th>\n",
       "    </tr>\n",
       "    <tr>\n",
       "      <th>No Sciper</th>\n",
       "      <th></th>\n",
       "      <th></th>\n",
       "      <th></th>\n",
       "      <th></th>\n",
       "      <th></th>\n",
       "    </tr>\n",
       "  </thead>\n",
       "  <tbody>\n",
       "    <tr>\n",
       "      <th>235688</th>\n",
       "      <td>Monsieur</td>\n",
       "      <td>Abbey Alexandre</td>\n",
       "      <td>Présent</td>\n",
       "      <td>2016-2017</td>\n",
       "      <td>Bachelor semestre 1</td>\n",
       "    </tr>\n",
       "    <tr>\n",
       "      <th>274015</th>\n",
       "      <td>Monsieur</td>\n",
       "      <td>Ahn Seongho</td>\n",
       "      <td>Présent</td>\n",
       "      <td>2016-2017</td>\n",
       "      <td>Bachelor semestre 1</td>\n",
       "    </tr>\n",
       "    <tr>\n",
       "      <th>268410</th>\n",
       "      <td>Madame</td>\n",
       "      <td>Alemanno Sara</td>\n",
       "      <td>Présent</td>\n",
       "      <td>2016-2017</td>\n",
       "      <td>Bachelor semestre 1</td>\n",
       "    </tr>\n",
       "    <tr>\n",
       "      <th>271464</th>\n",
       "      <td>Monsieur</td>\n",
       "      <td>Althaus Luca</td>\n",
       "      <td>Présent</td>\n",
       "      <td>2016-2017</td>\n",
       "      <td>Bachelor semestre 1</td>\n",
       "    </tr>\n",
       "    <tr>\n",
       "      <th>274518</th>\n",
       "      <td>Monsieur</td>\n",
       "      <td>Assi Karim</td>\n",
       "      <td>Présent</td>\n",
       "      <td>2016-2017</td>\n",
       "      <td>Bachelor semestre 1</td>\n",
       "    </tr>\n",
       "  </tbody>\n",
       "</table>\n",
       "</div>"
      ],
      "text/plain": [
       "           Civilité       Nom Prénom   Statut     Période  \\\n",
       "No Sciper                                                   \n",
       "235688     Monsieur  Abbey Alexandre  Présent   2016-2017   \n",
       "274015     Monsieur      Ahn Seongho  Présent   2016-2017   \n",
       "268410       Madame    Alemanno Sara  Présent   2016-2017   \n",
       "271464     Monsieur     Althaus Luca  Présent   2016-2017   \n",
       "274518     Monsieur       Assi Karim  Présent   2016-2017   \n",
       "\n",
       "                       Semestre  \n",
       "No Sciper                        \n",
       "235688      Bachelor semestre 1  \n",
       "274015      Bachelor semestre 1  \n",
       "268410      Bachelor semestre 1  \n",
       "271464      Bachelor semestre 1  \n",
       "274518      Bachelor semestre 1  "
      ]
     },
     "execution_count": 23,
     "metadata": {},
     "output_type": "execute_result"
    }
   ],
   "source": [
    "bcData = fData.copy()\n",
    "Data = bcData[bcData.Études==\"Informatique\"]\n",
    "bcData.index = bcData['No Sciper']\n",
    "bcData = bcData[[(\"Bachelor semestre 1\" in per) or (\"Bachelor semestre 6\" in per) for per in bcData['Semestre']]]\n",
    "bcData = bcData.drop([\"Orientation Bachelor\", \"Orientation Master\", \"Spécialisation\", \"Filière opt.\",\n",
    "              \"Mineur\", \"Ecole Echange\", \"Type Echange\", \"Études\", \"No Sciper\"],1)\n",
    "bcData.head()"
   ]
  },
  {
   "cell_type": "markdown",
   "metadata": {},
   "source": [
    "We can see that there are students here that have a register for the first semester, but they entered in 2016 so there is no record for their last semester. There are also records of people with a 6th semester in 2008, so we can't track down when they started. We keep only the people who have both semesters registered in the period 2007-2017."
   ]
  },
  {
   "cell_type": "code",
   "execution_count": 24,
   "metadata": {
    "collapsed": false
   },
   "outputs": [],
   "source": [
    "bcScipers = bcData.index.unique()\n",
    "for sciper in bcScipers:\n",
    "    Finished = (True in [\"6\" in student for student in bcData.loc[sciper].Semestre])\n",
    "    Started = (True in [\"1\" in student for student in bcData.loc[sciper].Semestre])\n",
    "    \n",
    "    if not Finished or not Started:\n",
    "        bcData = bcData.drop(sciper,0)"
   ]
  },
  {
   "cell_type": "markdown",
   "metadata": {},
   "source": [
    "## Calculation"
   ]
  },
  {
   "cell_type": "markdown",
   "metadata": {},
   "source": [
    "Now to the calculation: let's check what is the time span between the __earliest BA1 entry to the last BA6 entry for each sciper number__:"
   ]
  },
  {
   "cell_type": "code",
   "execution_count": 32,
   "metadata": {
    "collapsed": true
   },
   "outputs": [],
   "source": [
    "def CalcBachelorSpan(bcData):\n",
    "    \n",
    "    bcFinishedScipers = bcData.index.unique()\n",
    "    \n",
    "    time = 0\n",
    "\n",
    "    for sciper in bcFinishedScipers:\n",
    "        par = bcData.loc[sciper].tail(1).Période\n",
    "        par = par.get_values()[0].split('-')\n",
    "        inY = [int(s) for s in par[0].split() if s.isdigit()][0]\n",
    "        par = bcData.loc[sciper].head(1).Période\n",
    "        par = par.get_values()[0].split('-')\n",
    "        outY = par[1]\n",
    "        time = time + int(outY)-int(inY)\n",
    "    return time/len(bcFinishedScipers)"
   ]
  },
  {
   "cell_type": "code",
   "execution_count": 33,
   "metadata": {
    "collapsed": false
   },
   "outputs": [
    {
     "data": {
      "text/plain": [
       "3.468513853904282"
      ]
     },
     "execution_count": 33,
     "metadata": {},
     "output_type": "execute_result"
    }
   ],
   "source": [
    "CalcBachelorSpan(bcData)"
   ]
  },
  {
   "cell_type": "markdown",
   "metadata": {},
   "source": [
    "It takes, in average, 3.47 Years to finish studies in Informatics at epfl. "
   ]
  },
  {
   "cell_type": "markdown",
   "metadata": {},
   "source": [
    "## Gender studies"
   ]
  },
  {
   "cell_type": "markdown",
   "metadata": {},
   "source": [
    "Now we perform gender studies on the cleaned `bcData`:"
   ]
  },
  {
   "cell_type": "code",
   "execution_count": 34,
   "metadata": {
    "collapsed": false
   },
   "outputs": [
    {
     "data": {
      "text/html": [
       "<div>\n",
       "<table border=\"1\" class=\"dataframe\">\n",
       "  <thead>\n",
       "    <tr style=\"text-align: right;\">\n",
       "      <th></th>\n",
       "      <th>Average (years)</th>\n",
       "    </tr>\n",
       "  </thead>\n",
       "  <tbody>\n",
       "    <tr>\n",
       "      <th>Madame</th>\n",
       "      <td>3.310345</td>\n",
       "    </tr>\n",
       "    <tr>\n",
       "      <th>Monsieur</th>\n",
       "      <td>3.480978</td>\n",
       "    </tr>\n",
       "  </tbody>\n",
       "</table>\n",
       "</div>"
      ],
      "text/plain": [
       "          Average (years)\n",
       "Madame           3.310345\n",
       "Monsieur         3.480978"
      ]
     },
     "execution_count": 34,
     "metadata": {},
     "output_type": "execute_result"
    },
    {
     "data": {
      "image/png": "[encoded data removed]",
      "text/plain": [
       "<matplotlib.figure.Figure at 0x1176fb5c0>"
      ]
     },
     "metadata": {},
     "output_type": "display_data"
    }
   ],
   "source": [
    "fBcData = bcData[bcData.Civilité == \"Madame\"]\n",
    "mBcData = bcData[bcData.Civilité == \"Monsieur\"]\n",
    "\n",
    "bcResult = pd.DataFrame({'Average (years)':[0.0, 0.0]},\n",
    "                        index = [\"Madame\",\"Monsieur\"])\n",
    "\n",
    "bcResult.loc['Madame'] = CalcBachelorSpan(fBcData)\n",
    "bcResult.loc['Monsieur'] = CalcBachelorSpan(mBcData)\n",
    "\n",
    "bcResult.plot(kind='bar')\n",
    "bcResult"
   ]
  },
  {
   "cell_type": "markdown",
   "metadata": {},
   "source": [
    "## Summary"
   ]
  },
  {
   "cell_type": "markdown",
   "metadata": {},
   "source": [
    "It seems female students take a bit less time than male students to graduate from EPFL."
   ]
  },
  {
   "cell_type": "markdown",
   "metadata": {
    "collapsed": false
   },
   "source": [
    "# Assignment 2"
   ]
  },
  {
   "cell_type": "markdown",
   "metadata": {},
   "source": [
    "## Clean up"
   ]
  },
  {
   "cell_type": "markdown",
   "metadata": {
    "collapsed": true
   },
   "source": [
    "Now let's apply a similar approach on master students. This time we can start from raw data `fData` because it preserves master entries as well."
   ]
  },
  {
   "cell_type": "code",
   "execution_count": 112,
   "metadata": {
    "collapsed": false
   },
   "outputs": [
    {
     "data": {
      "text/html": [
       "<div>\n",
       "<table border=\"1\" class=\"dataframe\">\n",
       "  <thead>\n",
       "    <tr style=\"text-align: right;\">\n",
       "      <th></th>\n",
       "      <th>Civilité</th>\n",
       "      <th>Nom Prénom</th>\n",
       "      <th>Spécialisation</th>\n",
       "      <th>Mineur</th>\n",
       "      <th>Statut</th>\n",
       "      <th>Période</th>\n",
       "      <th>Semestre</th>\n",
       "    </tr>\n",
       "    <tr>\n",
       "      <th>No Sciper</th>\n",
       "      <th></th>\n",
       "      <th></th>\n",
       "      <th></th>\n",
       "      <th></th>\n",
       "      <th></th>\n",
       "      <th></th>\n",
       "      <th></th>\n",
       "    </tr>\n",
       "  </thead>\n",
       "  <tbody>\n",
       "    <tr>\n",
       "      <th>271331</th>\n",
       "      <td>Monsieur</td>\n",
       "      <td>Adams Marc Alain</td>\n",
       "      <td></td>\n",
       "      <td></td>\n",
       "      <td>Présent</td>\n",
       "      <td>2016-2017</td>\n",
       "      <td>Master semestre 1</td>\n",
       "    </tr>\n",
       "    <tr>\n",
       "      <th>273101</th>\n",
       "      <td>Monsieur</td>\n",
       "      <td>Adamsons Valdis</td>\n",
       "      <td></td>\n",
       "      <td></td>\n",
       "      <td>Présent</td>\n",
       "      <td>2016-2017</td>\n",
       "      <td>Master semestre 1</td>\n",
       "    </tr>\n",
       "    <tr>\n",
       "      <th>267543</th>\n",
       "      <td>Monsieur</td>\n",
       "      <td>Agapiou Stylianos</td>\n",
       "      <td></td>\n",
       "      <td></td>\n",
       "      <td>Présent</td>\n",
       "      <td>2016-2017</td>\n",
       "      <td>Master semestre 1</td>\n",
       "    </tr>\n",
       "    <tr>\n",
       "      <th>202293</th>\n",
       "      <td>Monsieur</td>\n",
       "      <td>Aiulfi Loris Sandro</td>\n",
       "      <td></td>\n",
       "      <td></td>\n",
       "      <td>Présent</td>\n",
       "      <td>2016-2017</td>\n",
       "      <td>Master semestre 1</td>\n",
       "    </tr>\n",
       "    <tr>\n",
       "      <th>228219</th>\n",
       "      <td>Monsieur</td>\n",
       "      <td>Alfonso Peterssen Alfonso</td>\n",
       "      <td>Foundations of Software</td>\n",
       "      <td></td>\n",
       "      <td>Présent</td>\n",
       "      <td>2016-2017</td>\n",
       "      <td>Master semestre 1</td>\n",
       "    </tr>\n",
       "  </tbody>\n",
       "</table>\n",
       "</div>"
      ],
      "text/plain": [
       "           Civilité                 Nom Prénom           Spécialisation  \\\n",
       "No Sciper                                                                 \n",
       "271331     Monsieur           Adams Marc Alain                            \n",
       "273101     Monsieur            Adamsons Valdis                            \n",
       "267543     Monsieur          Agapiou Stylianos                            \n",
       "202293     Monsieur        Aiulfi Loris Sandro                            \n",
       "228219     Monsieur  Alfonso Peterssen Alfonso  Foundations of Software   \n",
       "\n",
       "          Mineur   Statut     Période            Semestre  \n",
       "No Sciper                                                  \n",
       "271331            Présent   2016-2017   Master semestre 1  \n",
       "273101            Présent   2016-2017   Master semestre 1  \n",
       "267543            Présent   2016-2017   Master semestre 1  \n",
       "202293            Présent   2016-2017   Master semestre 1  \n",
       "228219            Présent   2016-2017   Master semestre 1  "
      ]
     },
     "execution_count": 112,
     "metadata": {},
     "output_type": "execute_result"
    }
   ],
   "source": [
    "# extract data of master students from fData\n",
    "msData = fData.copy()\n",
    "msData = msData[msData.Études == \"Informatique\"]\n",
    "msData.index = msData['No Sciper']\n",
    "msData = msData[[(\"Master\" in per) for per in msData['Semestre']]]\n",
    "msData = msData.drop([\"Orientation Bachelor\", \"Orientation Master\", \"Filière opt.\", \"Ecole Echange\", \"Type Echange\", \"Études\", \"No Sciper\"],1)\n",
    "msData.head()"
   ]
  },
  {
   "cell_type": "markdown",
   "metadata": {},
   "source": [
    "The following array shows that `msData` includes all the semester entries we desire."
   ]
  },
  {
   "cell_type": "code",
   "execution_count": 113,
   "metadata": {
    "collapsed": false
   },
   "outputs": [
    {
     "data": {
      "text/plain": [
       "array([' Master semestre 1', ' Master semestre 2', ' Master semestre 3',\n",
       "       ' Projet Master automne', ' Projet Master printemps'], dtype=object)"
      ]
     },
     "execution_count": 113,
     "metadata": {},
     "output_type": "execute_result"
    }
   ],
   "source": [
    "msData.Semestre.unique()"
   ]
  },
  {
   "cell_type": "markdown",
   "metadata": {},
   "source": [
    "First we kick out students who __don't have both MA1 and MA2 entries__."
   ]
  },
  {
   "cell_type": "code",
   "execution_count": 114,
   "metadata": {
    "collapsed": true
   },
   "outputs": [],
   "source": [
    "msScipers = msData.index.unique()\n",
    "for sciper in msScipers:\n",
    "    Finished = (True in [\"2\" in student for student in msData.loc[sciper].Semestre])\n",
    "    Started = (True in [\"1\" in student for student in msData.loc[sciper].Semestre])\n",
    "    \n",
    "    if not Finished or not Started:\n",
    "        msData = msData.drop(sciper,0)"
   ]
  },
  {
   "cell_type": "markdown",
   "metadata": {},
   "source": [
    "Then we kick out students who __have a Mineur or a Specialisation, but don't have a MA3 entry__."
   ]
  },
  {
   "cell_type": "code",
   "execution_count": 115,
   "metadata": {
    "collapsed": false
   },
   "outputs": [],
   "source": [
    "msScipers = msData.index.unique()\n",
    "for sciper in msScipers:\n",
    "    Finished = (True in [\"3\" in student for student in msData.loc[sciper].Semestre])\n",
    "    Mineur = (True in [msData.loc[sciper].Mineur.any() != ''])\n",
    "    Specialisation = (True in [msData.loc[sciper].Spécialisation.any() != ''])\n",
    "    \n",
    "    if (Mineur or Specialisation) and not Finished:\n",
    "        msData = msData.drop(sciper,0)"
   ]
  },
  {
   "cell_type": "code",
   "execution_count": 116,
   "metadata": {
    "collapsed": false
   },
   "outputs": [
    {
     "data": {
      "text/html": [
       "<div>\n",
       "<table border=\"1\" class=\"dataframe\">\n",
       "  <thead>\n",
       "    <tr style=\"text-align: right;\">\n",
       "      <th></th>\n",
       "      <th>Civilité</th>\n",
       "      <th>Nom Prénom</th>\n",
       "      <th>Spécialisation</th>\n",
       "      <th>Mineur</th>\n",
       "      <th>Statut</th>\n",
       "      <th>Période</th>\n",
       "      <th>Semestre</th>\n",
       "    </tr>\n",
       "    <tr>\n",
       "      <th>No Sciper</th>\n",
       "      <th></th>\n",
       "      <th></th>\n",
       "      <th></th>\n",
       "      <th></th>\n",
       "      <th></th>\n",
       "      <th></th>\n",
       "      <th></th>\n",
       "    </tr>\n",
       "  </thead>\n",
       "  <tbody>\n",
       "    <tr>\n",
       "      <th>167447</th>\n",
       "      <td>Monsieur</td>\n",
       "      <td>Taggiasco Matthieu</td>\n",
       "      <td></td>\n",
       "      <td></td>\n",
       "      <td>Présent</td>\n",
       "      <td>2007-2008</td>\n",
       "      <td>Master semestre 2</td>\n",
       "    </tr>\n",
       "    <tr>\n",
       "      <th>178057</th>\n",
       "      <td>Madame</td>\n",
       "      <td>Tomar Anmol</td>\n",
       "      <td></td>\n",
       "      <td></td>\n",
       "      <td>Présent</td>\n",
       "      <td>2007-2008</td>\n",
       "      <td>Master semestre 2</td>\n",
       "    </tr>\n",
       "    <tr>\n",
       "      <th>155097</th>\n",
       "      <td>Monsieur</td>\n",
       "      <td>Wei Zhe</td>\n",
       "      <td></td>\n",
       "      <td></td>\n",
       "      <td>Présent</td>\n",
       "      <td>2007-2008</td>\n",
       "      <td>Master semestre 2</td>\n",
       "    </tr>\n",
       "    <tr>\n",
       "      <th>169839</th>\n",
       "      <td>Monsieur</td>\n",
       "      <td>Zalakain Ilazki</td>\n",
       "      <td></td>\n",
       "      <td></td>\n",
       "      <td>Présent</td>\n",
       "      <td>2007-2008</td>\n",
       "      <td>Master semestre 2</td>\n",
       "    </tr>\n",
       "    <tr>\n",
       "      <th>166264</th>\n",
       "      <td>Monsieur</td>\n",
       "      <td>Zufferey Damien</td>\n",
       "      <td>Foundations of Software</td>\n",
       "      <td></td>\n",
       "      <td>Présent</td>\n",
       "      <td>2007-2008</td>\n",
       "      <td>Master semestre 2</td>\n",
       "    </tr>\n",
       "  </tbody>\n",
       "</table>\n",
       "</div>"
      ],
      "text/plain": [
       "           Civilité          Nom Prénom           Spécialisation Mineur  \\\n",
       "No Sciper                                                                 \n",
       "167447     Monsieur  Taggiasco Matthieu                                   \n",
       "178057       Madame         Tomar Anmol                                   \n",
       "155097     Monsieur             Wei Zhe                                   \n",
       "169839     Monsieur     Zalakain Ilazki                                   \n",
       "166264     Monsieur     Zufferey Damien  Foundations of Software          \n",
       "\n",
       "            Statut     Période            Semestre  \n",
       "No Sciper                                           \n",
       "167447     Présent   2007-2008   Master semestre 2  \n",
       "178057     Présent   2007-2008   Master semestre 2  \n",
       "155097     Présent   2007-2008   Master semestre 2  \n",
       "169839     Présent   2007-2008   Master semestre 2  \n",
       "166264     Présent   2007-2008   Master semestre 2  "
      ]
     },
     "execution_count": 116,
     "metadata": {},
     "output_type": "execute_result"
    }
   ],
   "source": [
    "msData.tail()"
   ]
  },
  {
   "cell_type": "markdown",
   "metadata": {},
   "source": [
    "## Calculation"
   ]
  },
  {
   "cell_type": "code",
   "execution_count": 117,
   "metadata": {
    "collapsed": false
   },
   "outputs": [],
   "source": [
    "# average time to graduate for all master students\n",
    "def CalcMasterSpan(msData):\n",
    "    \n",
    "    msScipers = msData.index.unique()\n",
    "    \n",
    "    time = 0\n",
    "    \n",
    "    for sciper in msScipers:\n",
    "        sem_count = msData.loc[sciper].shape[0]\n",
    "        time = time + sem_count * 0.5\n",
    "    return time/len(msScipers)"
   ]
  },
  {
   "cell_type": "code",
   "execution_count": 118,
   "metadata": {
    "collapsed": false
   },
   "outputs": [
    {
     "data": {
      "text/plain": [
       "1.7018716577540107"
      ]
     },
     "execution_count": 118,
     "metadata": {},
     "output_type": "execute_result"
    }
   ],
   "source": [
    "CalcMasterSpan(msData)"
   ]
  },
  {
   "cell_type": "markdown",
   "metadata": {},
   "source": [
    "It takes, in average, 1.70 Years to finish studies in Informatics at EPFL. "
   ]
  },
  {
   "cell_type": "markdown",
   "metadata": {},
   "source": [
    "## Studies on specialisation"
   ]
  },
  {
   "cell_type": "code",
   "execution_count": 119,
   "metadata": {
    "collapsed": false
   },
   "outputs": [],
   "source": [
    "# divide data\n",
    "specData = msData.copy()\n",
    "noSpecData = msData.copy()\n",
    "msScipers = msData.index.unique()\n",
    "\n",
    "for sciper in msScipers:\n",
    "    Specialisation = (True in [msData.loc[sciper].Spécialisation.any() != ''])\n",
    "    \n",
    "    if Specialisation:\n",
    "        noSpecData = noSpecData.drop(sciper,0)\n",
    "    if not Specialisation:\n",
    "        specData = specData.drop(sciper,0)"
   ]
  },
  {
   "cell_type": "code",
   "execution_count": 120,
   "metadata": {
    "collapsed": false
   },
   "outputs": [
    {
     "data": {
      "text/html": [
       "<div>\n",
       "<table border=\"1\" class=\"dataframe\">\n",
       "  <thead>\n",
       "    <tr style=\"text-align: right;\">\n",
       "      <th></th>\n",
       "      <th>Average (years)</th>\n",
       "    </tr>\n",
       "  </thead>\n",
       "  <tbody>\n",
       "    <tr>\n",
       "      <th>With spec</th>\n",
       "      <td>1.951965</td>\n",
       "    </tr>\n",
       "    <tr>\n",
       "      <th>No spec</th>\n",
       "      <td>1.591522</td>\n",
       "    </tr>\n",
       "  </tbody>\n",
       "</table>\n",
       "</div>"
      ],
      "text/plain": [
       "           Average (years)\n",
       "With spec         1.951965\n",
       "No spec           1.591522"
      ]
     },
     "execution_count": 120,
     "metadata": {},
     "output_type": "execute_result"
    },
    {
     "data": {
      "image/png": "[encoded data removed]",
      "text/plain": [
       "<matplotlib.figure.Figure at 0x114fc87b8>"
      ]
     },
     "metadata": {},
     "output_type": "display_data"
    }
   ],
   "source": [
    "msResult = pd.DataFrame({'Average (years)':[0.0, 0.0]},\n",
    "                  index = [\"With spec\", \"No spec\"])\n",
    "\n",
    "msResult.loc['With spec'] = CalcMasterSpan(specData)\n",
    "msResult.loc['No spec'] = CalcMasterSpan(noSpecData)\n",
    "\n",
    "msResult.plot(kind='bar')\n",
    "msResult"
   ]
  },
  {
   "cell_type": "markdown",
   "metadata": {},
   "source": [
    "## Summary"
   ]
  },
  {
   "cell_type": "markdown",
   "metadata": {},
   "source": [
    "It seems students who have a specialization take __significantly more time__ than those who don't to graduate from EPFL. However, the difference in between is __less than 0.5 years__ (which is the expected time to finish a specialization). It means that, generally speaking, students with a specialization would finish the original master program __quicker__ than their counterparts.\n",
    "\n",
    "The result is logical because students who feel comfortable with their original master program would be more motivated to pick up a specialization."
   ]
  },
  {
   "cell_type": "markdown",
   "metadata": {},
   "source": [
    "# Assignment 3"
   ]
  },
  {
   "cell_type": "markdown",
   "metadata": {},
   "source": [
    "## Bar chart: raw average"
   ]
  },
  {
   "cell_type": "code",
   "execution_count": 121,
   "metadata": {
    "collapsed": false
   },
   "outputs": [
    {
     "data": {
      "text/html": [
       "<div>\n",
       "<table border=\"1\" class=\"dataframe\">\n",
       "  <thead>\n",
       "    <tr style=\"text-align: right;\">\n",
       "      <th></th>\n",
       "      <th>Average (years)</th>\n",
       "    </tr>\n",
       "  </thead>\n",
       "  <tbody>\n",
       "    <tr>\n",
       "      <th>Madame</th>\n",
       "      <td>1.707071</td>\n",
       "    </tr>\n",
       "    <tr>\n",
       "      <th>Monsieur</th>\n",
       "      <td>1.701079</td>\n",
       "    </tr>\n",
       "  </tbody>\n",
       "</table>\n",
       "</div>"
      ],
      "text/plain": [
       "          Average (years)\n",
       "Madame           1.707071\n",
       "Monsieur         1.701079"
      ]
     },
     "execution_count": 121,
     "metadata": {},
     "output_type": "execute_result"
    },
    {
     "data": {
      "image/png": "[encoded data removed]",
      "text/plain": [
       "<matplotlib.figure.Figure at 0x114faf5c0>"
      ]
     },
     "metadata": {},
     "output_type": "display_data"
    }
   ],
   "source": [
    "fMsData = msData[msData.Civilité == \"Madame\"]\n",
    "mMsData = msData[msData.Civilité == \"Monsieur\"]\n",
    "\n",
    "msGenderResult = pd.DataFrame({'Average (years)':[0.0,0.0]},\n",
    "                              index = [\"Madame\", \"Monsieur\"])\n",
    "\n",
    "msGenderResult.loc['Madame'] = CalcMasterSpan(fMsData)\n",
    "msGenderResult.loc['Monsieur'] = CalcMasterSpan(mMsData)\n",
    "\n",
    "msGenderResult.plot(kind='bar')\n",
    "msGenderResult"
   ]
  },
  {
   "cell_type": "markdown",
   "metadata": {},
   "source": [
    "## Scatter plot: trend over time"
   ]
  },
  {
   "cell_type": "markdown",
   "metadata": {},
   "source": [
    "Now we need a new function to process the data, because we also need the year of entrance for each student to identify the trend over time."
   ]
  },
  {
   "cell_type": "code",
   "execution_count": 139,
   "metadata": {
    "collapsed": false
   },
   "outputs": [],
   "source": [
    "def CalcMasterSpanAndEntranceYear(msData):\n",
    "    \n",
    "    msScipers = msData.index.unique()\n",
    "\n",
    "    time = []\n",
    "    entrTime = []\n",
    "    gender = []\n",
    "    \n",
    "    for sciper in msScipers:\n",
    "        par = msData.loc[sciper].tail(1).Période\n",
    "        par = par.get_values()[0].split('-')\n",
    "        moment = [int(s) for s in par[0].split() if s.isdigit()][0]\n",
    "        entrTime.append(moment)\n",
    "        \n",
    "        sem_count = msData.loc[sciper].shape[0]\n",
    "        time.append(sem_count * 0.5)\n",
    "        \n",
    "        if msData.loc[sciper].Civilité.any() == 'Madame':\n",
    "            gender.append(1)\n",
    "        else:\n",
    "            gender.append(-1)\n",
    "    \n",
    "    msTimeResult = pd.DataFrame({'Time span': time}, \n",
    "                                {'Entrance Year': entrTime}, \n",
    "                                {'Gender': gender})\n",
    "    \n",
    "    #plt.scatter()\n",
    "    \n",
    "CalcMasterSpanAndEntranceYear(msData)"
   ]
  },
  {
   "cell_type": "markdown",
   "metadata": {},
   "source": [
    "## Summary"
   ]
  },
  {
   "cell_type": "markdown",
   "metadata": {},
   "source": [
    "Numerically, male and female students take roughly the same time to finish their master study."
   ]
  },
  {
   "cell_type": "code",
   "execution_count": null,
   "metadata": {
    "collapsed": true
   },
   "outputs": [],
   "source": []
  }
 ],
 "metadata": {
  "kernelspec": {
   "display_name": "Python [Root]",
   "language": "python",
   "name": "Python [Root]"
  },
  "language_info": {
   "codemirror_mode": {
    "name": "ipython",
    "version": 3
   },
   "file_extension": ".py",
   "mimetype": "text/x-python",
   "name": "python",
   "nbconvert_exporter": "python",
   "pygments_lexer": "ipython3",
   "version": "3.5.2"
  }
 },
 "nbformat": 4,
 "nbformat_minor": 1
}
