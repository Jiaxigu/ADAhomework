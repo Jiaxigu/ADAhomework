{
 "cells": [
  {
   "cell_type": "markdown",
   "metadata": {},
   "source": [
    "For this first task we need to load some standard libraries and Beautiful soup."
   ]
  },
  {
   "cell_type": "code",
   "execution_count": 1,
   "metadata": {
    "collapsed": true
   },
   "outputs": [],
   "source": [
    "import numpy as np\n",
    "import pandas as pd\n",
    "from bs4 import BeautifulSoup\n",
    "import urllib.request"
   ]
  },
  {
   "cell_type": "markdown",
   "metadata": {},
   "source": [
    "Now we will load the URL, the html that gets loaded after executing the javascript encoded in the webpage, that hosts the possible search fields and the respective options (obtained with the help of Postman)."
   ]
  },
  {
   "cell_type": "code",
   "execution_count": 2,
   "metadata": {
    "collapsed": false
   },
   "outputs": [],
   "source": [
    "myURL = \"http://isa.epfl.ch/imoniteur_ISAP/!GEDPUBLICREPORTS.filter?ww_i_reportmodel=133685247\"\n",
    "with urllib.request.urlopen(myURL) as url:\n",
    "    s = url.read()\n",
    "soup = BeautifulSoup(s,\"html.parser\")"
   ]
  },
  {
   "cell_type": "markdown",
   "metadata": {},
   "source": [
    "Taking a quick look inside the html file in the web browser, it is clear that the select boxes contain the possible options and the equivalent html params encoded in fields called \"options\". We will load them into a data frame with the corresponding text that gets displayed to the user, and also with the field name that belongs to them."
   ]
  },
  {
   "cell_type": "code",
   "execution_count": 3,
   "metadata": {
    "collapsed": false
   },
   "outputs": [
    {
     "data": {
      "text/html": [
       "<div>\n",
       "<table border=\"1\" class=\"dataframe\">\n",
       "  <thead>\n",
       "    <tr style=\"text-align: right;\">\n",
       "      <th></th>\n",
       "      <th>Field</th>\n",
       "      <th>Tag</th>\n",
       "      <th>Value</th>\n",
       "    </tr>\n",
       "  </thead>\n",
       "  <tbody>\n",
       "    <tr>\n",
       "      <th>1</th>\n",
       "      <td>Unité académique</td>\n",
       "      <td>Architecture</td>\n",
       "      <td>942293</td>\n",
       "    </tr>\n",
       "    <tr>\n",
       "      <th>2</th>\n",
       "      <td>Unité académique</td>\n",
       "      <td>Chimie et génie chimique</td>\n",
       "      <td>246696</td>\n",
       "    </tr>\n",
       "    <tr>\n",
       "      <th>3</th>\n",
       "      <td>Unité académique</td>\n",
       "      <td>Cours de mathématiques spéciales</td>\n",
       "      <td>943282</td>\n",
       "    </tr>\n",
       "    <tr>\n",
       "      <th>4</th>\n",
       "      <td>Unité académique</td>\n",
       "      <td>EME (EPFL Middle East)</td>\n",
       "      <td>637841336</td>\n",
       "    </tr>\n",
       "    <tr>\n",
       "      <th>5</th>\n",
       "      <td>Unité académique</td>\n",
       "      <td>Génie civil</td>\n",
       "      <td>942623</td>\n",
       "    </tr>\n",
       "  </tbody>\n",
       "</table>\n",
       "</div>"
      ],
      "text/plain": [
       "              Field                               Tag      Value\n",
       "1  Unité académique                      Architecture     942293\n",
       "2  Unité académique          Chimie et génie chimique     246696\n",
       "3  Unité académique  Cours de mathématiques spéciales     943282\n",
       "4  Unité académique            EME (EPFL Middle East)  637841336\n",
       "5  Unité académique                       Génie civil     942623"
      ]
     },
     "execution_count": 3,
     "metadata": {},
     "output_type": "execute_result"
    }
   ],
   "source": [
    "options = soup.find_all(\"option\")\n",
    "fields = [f.text for f in soup.find_all(\"th\")]\n",
    "optionsDF = pd.DataFrame({'Value':[val[\"value\"] for val in options],\n",
    "                          'Tag':[val.text for val in options],\n",
    "                          'Field':\"NaN\"})\n",
    "i=0\n",
    "for index, row in optionsDF.iterrows():\n",
    "    if (row[\"Value\"]==\"null\"):\n",
    "        i=i+1\n",
    "    row[\"Field\"]=fields[i]\n",
    "    \n",
    "optionsDF = optionsDF[optionsDF.Value!=\"null\"]\n",
    "optionsDF.head()"
   ]
  },
  {
   "cell_type": "markdown",
   "metadata": {},
   "source": [
    "Now we can see that it is very easy to filter the search options of the webpage, for example:"
   ]
  },
  {
   "cell_type": "code",
   "execution_count": 4,
   "metadata": {
    "collapsed": false
   },
   "outputs": [
    {
     "data": {
      "text/html": [
       "<div>\n",
       "<table border=\"1\" class=\"dataframe\">\n",
       "  <thead>\n",
       "    <tr style=\"text-align: right;\">\n",
       "      <th></th>\n",
       "      <th>Field</th>\n",
       "      <th>Tag</th>\n",
       "      <th>Value</th>\n",
       "    </tr>\n",
       "  </thead>\n",
       "  <tbody>\n",
       "    <tr>\n",
       "      <th>21</th>\n",
       "      <td>Période académique</td>\n",
       "      <td>2016-2017</td>\n",
       "      <td>355925344</td>\n",
       "    </tr>\n",
       "    <tr>\n",
       "      <th>22</th>\n",
       "      <td>Période académique</td>\n",
       "      <td>2015-2016</td>\n",
       "      <td>213638028</td>\n",
       "    </tr>\n",
       "    <tr>\n",
       "      <th>23</th>\n",
       "      <td>Période académique</td>\n",
       "      <td>2014-2015</td>\n",
       "      <td>213637922</td>\n",
       "    </tr>\n",
       "    <tr>\n",
       "      <th>24</th>\n",
       "      <td>Période académique</td>\n",
       "      <td>2013-2014</td>\n",
       "      <td>213637754</td>\n",
       "    </tr>\n",
       "    <tr>\n",
       "      <th>25</th>\n",
       "      <td>Période académique</td>\n",
       "      <td>2012-2013</td>\n",
       "      <td>123456101</td>\n",
       "    </tr>\n",
       "  </tbody>\n",
       "</table>\n",
       "</div>"
      ],
      "text/plain": [
       "                 Field        Tag      Value\n",
       "21  Période académique  2016-2017  355925344\n",
       "22  Période académique  2015-2016  213638028\n",
       "23  Période académique  2014-2015  213637922\n",
       "24  Période académique  2013-2014  213637754\n",
       "25  Période académique  2012-2013  123456101"
      ]
     },
     "execution_count": 4,
     "metadata": {},
     "output_type": "execute_result"
    }
   ],
   "source": [
    "optionsDF[optionsDF.Field==\"Période académique\"].head()"
   ]
  },
  {
   "cell_type": "markdown",
   "metadata": {
    "collapsed": false
   },
   "source": [
    "We can also check from Postman the ID's of the params in the URL (it could've been also made only with beautiful soup, but we are dealing with nested repeated tags, so it can't really be generalized), which are:"
   ]
  },
  {
   "cell_type": "code",
   "execution_count": 5,
   "metadata": {
    "collapsed": false
   },
   "outputs": [
    {
     "data": {
      "text/html": [
       "<div>\n",
       "<table border=\"1\" class=\"dataframe\">\n",
       "  <thead>\n",
       "    <tr style=\"text-align: right;\">\n",
       "      <th></th>\n",
       "      <th>Value</th>\n",
       "    </tr>\n",
       "  </thead>\n",
       "  <tbody>\n",
       "    <tr>\n",
       "      <th>ww_x_GPS</th>\n",
       "      <td>-1</td>\n",
       "    </tr>\n",
       "    <tr>\n",
       "      <th>ww_i_reportModel</th>\n",
       "      <td>133685247</td>\n",
       "    </tr>\n",
       "    <tr>\n",
       "      <th>ww_i_reportModelXsl</th>\n",
       "      <td>133685270</td>\n",
       "    </tr>\n",
       "    <tr>\n",
       "      <th>ww_x_UNITE_ACAD</th>\n",
       "      <td>null</td>\n",
       "    </tr>\n",
       "    <tr>\n",
       "      <th>ww_x_PERIODE_ACAD</th>\n",
       "      <td>null</td>\n",
       "    </tr>\n",
       "    <tr>\n",
       "      <th>ww_x_PERIODE_PEDAGO</th>\n",
       "      <td>null</td>\n",
       "    </tr>\n",
       "    <tr>\n",
       "      <th>ww_x_HIVERETE</th>\n",
       "      <td>null</td>\n",
       "    </tr>\n",
       "  </tbody>\n",
       "</table>\n",
       "</div>"
      ],
      "text/plain": [
       "                         Value\n",
       "ww_x_GPS                    -1\n",
       "ww_i_reportModel     133685247\n",
       "ww_i_reportModelXsl  133685270\n",
       "ww_x_UNITE_ACAD           null\n",
       "ww_x_PERIODE_ACAD         null\n",
       "ww_x_PERIODE_PEDAGO       null\n",
       "ww_x_HIVERETE             null"
      ]
     },
     "execution_count": 5,
     "metadata": {},
     "output_type": "execute_result"
    }
   ],
   "source": [
    "mParams = pd.DataFrame({'Value':[\"null\"]},\n",
    "                        index= [\"ww_x_GPS\", \"ww_i_reportModel\",\"ww_i_reportModelXsl\",\n",
    "                               \"ww_x_UNITE_ACAD\",\"ww_x_PERIODE_ACAD\",\"ww_x_PERIODE_PEDAGO\",\n",
    "                               \"ww_x_HIVERETE\"])\n",
    "#Load default values\n",
    "mParams.Value[0]=-1\n",
    "mParams.Value[1]=133685247\n",
    "mParams.Value[2]=133685270\n",
    "mParams"
   ]
  },
  {
   "cell_type": "markdown",
   "metadata": {
    "collapsed": true
   },
   "source": [
    "We can now set up specific URLS:"
   ]
  },
  {
   "cell_type": "code",
   "execution_count": 16,
   "metadata": {
    "collapsed": false
   },
   "outputs": [],
   "source": [
    "def getURL(optVect):\n",
    "    baseURL = \"http://isa.epfl.ch/imoniteur_ISAP/!GEDPUBLICREPORTS.html?\"\n",
    "    pParams = mParams.copy()\n",
    "    pParams.Value = [-1,133685247,133685270] + optVect\n",
    "    for index,row in pParams.iterrows():\n",
    "        baseURL = baseURL + row.name + \"=\" + str(row.Value) + \"&\"\n",
    "    return baseURL[:-1]\n",
    "\n",
    "def getValVector(id_u,id_pa,id_pp,id_h):\n",
    "    return [optionsDF[optionsDF.Field==\"Unité académique\"].iloc[id_u].Value if id_u!=-1 else \"null\",\n",
    "           optionsDF[optionsDF.Field==\"Période académique\"].iloc[id_pa].Value if id_pa!=-1 else \"null\",\n",
    "           optionsDF[optionsDF.Field==\"Période pédagogique\"].iloc[id_pp].Value if id_pp!=-1 else \"null\",\n",
    "           optionsDF[optionsDF.Field==\"Type de semestre\"].iloc[id_h].Value if id_h!=-1 else \"null\"]\n",
    "\n",
    "def getFieldNames(id_u,id_pa,id_pp,id_h):\n",
    "    return [optionsDF[optionsDF.Field==\"Unité académique\"].iloc[id_u].Tag if id_u!=-1 else \"null\",\n",
    "           optionsDF[optionsDF.Field==\"Période académique\"].iloc[id_pa].Tag if id_pa!=-1 else \"null\",\n",
    "           optionsDF[optionsDF.Field==\"Période pédagogique\"].iloc[id_pp].Tag if id_pp!=-1 else \"null\",\n",
    "           optionsDF[optionsDF.Field==\"Type de semestre\"].iloc[id_h].Tag if id_h!=-1 else \"null\"]"
   ]
  },
  {
   "cell_type": "markdown",
   "metadata": {},
   "source": [
    "The third function is just so we can check which fields are we requesting"
   ]
  },
  {
   "cell_type": "code",
   "execution_count": 25,
   "metadata": {
    "collapsed": false
   },
   "outputs": [
    {
     "data": {
      "text/plain": [
       "['Mathématiques', '2016-2017', 'Master semestre 3', 'null']"
      ]
     },
     "execution_count": 25,
     "metadata": {},
     "output_type": "execute_result"
    }
   ],
   "source": [
    "getFieldNames(11,0,10,-1)"
   ]
  },
  {
   "cell_type": "markdown",
   "metadata": {},
   "source": [
    "As an example, this is the url that we get for mathematics, period 2016-2017, Master Semester 3: "
   ]
  },
  {
   "cell_type": "code",
   "execution_count": 27,
   "metadata": {
    "collapsed": false
   },
   "outputs": [
    {
     "data": {
      "text/plain": [
       "'http://isa.epfl.ch/imoniteur_ISAP/!GEDPUBLICREPORTS.html?ww_x_GPS=-1&ww_i_reportModel=133685247&ww_i_reportModelXsl=133685270&ww_x_UNITE_ACAD=944590&ww_x_PERIODE_ACAD=355925344&ww_x_PERIODE_PEDAGO=2230128&ww_x_HIVERETE=null'"
      ]
     },
     "execution_count": 27,
     "metadata": {},
     "output_type": "execute_result"
    }
   ],
   "source": [
    "getURL(getValVector(11,0,10,-1))"
   ]
  },
  {
   "cell_type": "markdown",
   "metadata": {},
   "source": [
    "We can read the information from the URL to pass it to Beautiful Soup and start tryng to take out information from the html tables:"
   ]
  },
  {
   "cell_type": "code",
   "execution_count": 30,
   "metadata": {
    "collapsed": false
   },
   "outputs": [],
   "source": [
    "with urllib.request.urlopen(getURL(getValVector(11,0,10,-1))) as url:\n",
    "    s = url.read()\n",
    "aData = BeautifulSoup(s,\"html.parser\")"
   ]
  },
  {
   "cell_type": "markdown",
   "metadata": {},
   "source": [
    "Let's start by taking the headers of the table, meaning the column names *and* the fields of study"
   ]
  },
  {
   "cell_type": "code",
   "execution_count": 38,
   "metadata": {
    "collapsed": false
   },
   "outputs": [
    {
     "data": {
      "text/plain": [
       "['Ingénierie mathématique, 2016-2017, Master semestre 3\\n\\xa0(25 ét.)\\n    ',\n",
       " 'Civilité',\n",
       " 'Nom Prénom',\n",
       " 'Orientation Bachelor',\n",
       " 'Orientation Master',\n",
       " 'Spécialisation',\n",
       " 'Filière opt.',\n",
       " 'Mineur',\n",
       " 'Statut',\n",
       " 'Type Echange',\n",
       " 'Ecole Echange',\n",
       " 'No Sciper',\n",
       " 'Mathématiques - master, 2016-2017, Master semestre 3\\n\\xa0(9 ét.)\\n    ',\n",
       " 'Civilité',\n",
       " 'Nom Prénom']"
      ]
     },
     "execution_count": 38,
     "metadata": {},
     "output_type": "execute_result"
    }
   ],
   "source": [
    "header = [h.text for h in aData.find_all(\"th\")]\n",
    "header[:15]"
   ]
  },
  {
   "cell_type": "markdown",
   "metadata": {},
   "source": [
    "And now we get the content of the table:"
   ]
  },
  {
   "cell_type": "code",
   "execution_count": 39,
   "metadata": {
    "collapsed": false
   },
   "outputs": [
    {
     "data": {
      "text/plain": [
       "['Monsieur',\n",
       " 'Arnould-Borel\\xa0Charles Antoine André',\n",
       " '',\n",
       " '',\n",
       " '',\n",
       " '',\n",
       " 'Mineur en Management, technologie et entrepreneuriat',\n",
       " 'Présent',\n",
       " '',\n",
       " '',\n",
       " '215913',\n",
       " '',\n",
       " 'Monsieur',\n",
       " 'Bandelier\\xa0Valentin Michel',\n",
       " '']"
      ]
     },
     "execution_count": 39,
     "metadata": {},
     "output_type": "execute_result"
    }
   ],
   "source": [
    "content = [h.text for h in aData.find_all(\"td\")]\n",
    "content[:15]"
   ]
  },
  {
   "cell_type": "markdown",
   "metadata": {},
   "source": [
    "The goal is to pass this information to an equivalent data frame in pandas. For this, we will cheat a little bit: We can notice that the field that describes the area of study contains also the number of students inside and that they are located between parenthesis (we decode the byte string from the url in `latin_1` encoding format, as specified in the html header):"
   ]
  },
  {
   "cell_type": "code",
   "execution_count": 68,
   "metadata": {
    "collapsed": false
   },
   "outputs": [
    {
     "data": {
      "text/html": [
       "<html><head><META http-equiv=\"Content-Type\" content=\"text/html; charset=iso-8859-1\"><link rel=\"stylesheet\" type=\"text/css\" href=\"gedpublicreports.css?ww_x_path=Gestac.Moniteur.Style\"></head><body bgcolor=\"#ffffff\" marginheight=\"0\" marginwidth=\"5\" link=\"#666666\" vlink=\"#666666\" alink=\"#666666\"><fieldset style=\"text-align:right; width:40%; position:relative; margin-right: 10px;float:right; border: 0; padding: 0 0 8px 0;\"><a style=\"color:#990033;\" href=\"!GEDREPORTS.html?ww_x_GPS=-1&amp;ww_i_reportModel=133685247&amp;ww_i_reportModelXsl=133685270&amp;ww_x_UNITE_ACAD=944590&amp;ww_x_PERIODE_ACAD=355925344&amp;ww_x_PERIODE_PEDAGO=2230128&amp;ww_x_HIVERETE=null\">Identification pour accéder aux e-mails<br>Login to access email adresses</a></fieldset><script>\n",
       "  function mailList(x) {\n",
       "   var vtop = (screen.height-200)/2;\n",
       "   var vleft=(screen.width-600)/2;\n",
       "   var w=open(\"\", \"emaillist\", \"Scrollbars=1,resizable=1,width=600,height=200,top=\"+vtop+\",left=\"+vleft);\n",
       "   w.document.write(x);\n",
       "   w.document.close();\n",
       "   w.focus();\n",
       "  }\n",
       " </script><h1>Extraction : Liste des étudiants inscrits par semestre</h1><h1>Ces listes d'étudiants ne seront définitives qu'à la mi-août une fois la commission d'admission bachelor et la conférence d'examen passées afin de s'assurer que tous les étudiants nouvellement admis à l'EPFL y figurent et que les étudiants en situation d'échec définitif soient rayés de ces listes</h1><hr style=\"height:0px;visibility: hidden;display:block;width:0px; float:none; clear:both; color: #ffffff;\"><table><tr><th colspan=\"12\"><font color=\"black\">Ingénierie mathématique, 2016-2017, Master semestre 3</font>\n",
       "&nbsp;(25 ét.)\n",
       "    </th></tr><tr><th>Civilité</th><th>Nom Prénom</th><th>Orientation Bachelor</th><th>Orientation Master</th><th>Spécialisation</th><th>Filière opt.</th><th>Mineur</th><th>Statut</th><th>Type Echange</th><th>Ecole Echange</th><th>No Sciper</th></tr><tr><td style=\"white-space:nowrap\">Monsieur</td><td style=\"white-space:nowrap\">Arnould-Borel&nbsp;Charles Antoine André</td><td style=\"white-space:nowrap\"></td><td style=\"white-space:nowrap\"></td><td style=\"white-space:nowrap\"></td><td style=\"white-space:nowrap\"></td><td style=\"white-space:nowrap\">Mineur en Management, technologie et entrepreneuriat</td><td style=\"white-space:nowrap\">Présent</td><td style=\"white-space:nowrap\"></td><td style=\"white-space:nowrap\"></td><td>215913</td><td style=\"white-space:nowrap\"></td></tr><tr><td style=\"white-space:nowrap\">Monsieur</td><td style=\"white-space:nowrap\">Bandelier&nbsp;Valentin Michel</td><td style=\"white-space:nowrap\"></td><td style=\"white-space:nowrap\"></td><td style=\"white-space:nowrap\"></td><td style=\"white-space:nowrap\"></td><td style=\"white-space:nowrap\"></td><td style=\"white-space:nowrap\">Stage</td><td style=\"white-space:nowrap\"></td><td style=\"white-space:nowrap\"></td><td>189515</td><td style=\"white-space:nowrap\"></td></tr><tr><td style=\"white-space:nowrap\">Monsieur</td><td style=\"white-space:nowrap\">Bays&nbsp;Xavier</td><td style=\"white-space:nowrap\"></td><td style=\"white-space:nowrap\"></td><td style=\"white-space:nowrap\"></td><td style=\"white-space:nowrap\"></td><td style=\"white-space:nowrap\"></td><td style=\"white-space:nowrap\">Présent</td><td style=\"white-space:nowrap\"></td><td style=\"white-space:nowrap\"></td><td>224854</td><td style=\"white-space:nowrap\"></td></tr><tr><td style=\"white-space:nowrap\">Madame</td><td style=\"white-space:nowrap\">Biletta&nbsp;Anna-Maria</td><td style=\"white-space:nowrap\"></td><td style=\"white-space:nowrap\"></td><td style=\"white-space:nowrap\"></td><td style=\"white-space:nowrap\"></td><td style=\"white-space:nowrap\"></td><td style=\"white-space:nowrap\">Présent</td><td style=\"white-space:nowrap\"></td><td style=\"white-space:nowrap\"></td><td>260145</td><td style=\"white-space:nowrap\"></td></tr><tr><td style=\"white-space:nowrap\">Monsieur</td><td style=\"white-space:nowrap\">Brunat&nbsp;Grégoire Pierre-Olivier</td><td style=\"white-space:nowrap\"></td><td style=\"white-space:nowrap\"></td><td style=\"white-space:nowrap\"></td><td style=\"white-space:nowrap\"></td><td style=\"white-space:nowrap\"></td><td style=\"white-space:nowrap\">Présent</td><td style=\"white-space:nowrap\"></td><td style=\"white-space:nowrap\"></td><td>201023</td><td style=\"white-space:nowrap\"></td></tr><tr><td style=\"white-space:nowrap\">Monsieur</td><td style=\"white-space:nowrap\">De Castro Fernandes&nbsp;Adrien Jorge Roger</td><td style=\"white-space:nowrap\"></td><td style=\"white-space:nowrap\"></td><td style=\"white-space:nowrap\"></td><td style=\"white-space:nowrap\"></td><td style=\"white-space:nowrap\"></td><td style=\"white-space:nowrap\">Stage</td><td style=\"white-space:nowrap\"></td><td style=\"white-space:nowrap\"></td><td>203940</td><td style=\"white-space:nowrap\"></td></tr><tr><td style=\"white-space:nowrap\">Madame</td><td style=\"white-space:nowrap\">Favre&nbsp;Julie Marthe</td><td style=\"white-space:nowrap\"></td><td style=\"white-space:nowrap\"></td><td style=\"white-space:nowrap\"></td><td style=\"white-space:nowrap\"></td><td style=\"white-space:nowrap\"></td><td style=\"white-space:nowrap\">Stage</td><td style=\"white-space:nowrap\"></td><td style=\"white-space:nowrap\"></td><td>226481</td><td style=\"white-space:nowrap\"></td></tr><tr><td style=\"white-space:nowrap\">Madame</td><td style=\"white-space:nowrap\">Ghita&nbsp;Lavinia</td><td style=\"white-space:nowrap\"></td><td style=\"white-space:nowrap\">Statistique et probabilités appliquées</td><td style=\"white-space:nowrap\"></td><td style=\"white-space:nowrap\"></td><td style=\"white-space:nowrap\"></td><td style=\"white-space:nowrap\">Stage</td><td style=\"white-space:nowrap\"></td><td style=\"white-space:nowrap\"></td><td>224570</td><td style=\"white-space:nowrap\"></td></tr><tr><td style=\"white-space:nowrap\">Monsieur</td><td style=\"white-space:nowrap\">Jauslin&nbsp;Raphaël</td><td style=\"white-space:nowrap\"></td><td style=\"white-space:nowrap\"></td><td style=\"white-space:nowrap\"></td><td style=\"white-space:nowrap\"></td><td style=\"white-space:nowrap\"></td><td style=\"white-space:nowrap\">Présent</td><td style=\"white-space:nowrap\"></td><td style=\"white-space:nowrap\"></td><td>217432</td><td style=\"white-space:nowrap\"></td></tr><tr><td style=\"white-space:nowrap\">Monsieur</td><td style=\"white-space:nowrap\">Kianmanesh Rad&nbsp;Melvin</td><td style=\"white-space:nowrap\"></td><td style=\"white-space:nowrap\">Statistique et probabilités appliquées</td><td style=\"white-space:nowrap\"></td><td style=\"white-space:nowrap\"></td><td style=\"white-space:nowrap\"></td><td style=\"white-space:nowrap\">Stage</td><td style=\"white-space:nowrap\"></td><td style=\"white-space:nowrap\"></td><td>227951</td><td style=\"white-space:nowrap\"></td></tr><tr><td style=\"white-space:nowrap\">Monsieur</td><td style=\"white-space:nowrap\">Maître&nbsp;Alan Jean Joseph</td><td style=\"white-space:nowrap\"></td><td style=\"white-space:nowrap\"></td><td style=\"white-space:nowrap\"></td><td style=\"white-space:nowrap\"></td><td style=\"white-space:nowrap\"></td><td style=\"white-space:nowrap\">Stage</td><td style=\"white-space:nowrap\"></td><td style=\"white-space:nowrap\"></td><td>227539</td><td style=\"white-space:nowrap\"></td></tr><tr><td style=\"white-space:nowrap\">Madame</td><td style=\"white-space:nowrap\">Mannari&nbsp;Marina</td><td style=\"white-space:nowrap\"></td><td style=\"white-space:nowrap\"></td><td style=\"white-space:nowrap\"></td><td style=\"white-space:nowrap\"></td><td style=\"white-space:nowrap\"></td><td style=\"white-space:nowrap\">Stage</td><td style=\"white-space:nowrap\"></td><td style=\"white-space:nowrap\"></td><td>254452</td><td style=\"white-space:nowrap\"></td></tr><tr><td style=\"white-space:nowrap\">Madame</td><td style=\"white-space:nowrap\">Manzoni&nbsp;Cecilia</td><td style=\"white-space:nowrap\"></td><td style=\"white-space:nowrap\">Mathématiques appliquées</td><td style=\"white-space:nowrap\"></td><td style=\"white-space:nowrap\"></td><td style=\"white-space:nowrap\"></td><td style=\"white-space:nowrap\">Stage</td><td style=\"white-space:nowrap\"></td><td style=\"white-space:nowrap\"></td><td>223524</td><td style=\"white-space:nowrap\"></td></tr><tr><td style=\"white-space:nowrap\">Monsieur</td><td style=\"white-space:nowrap\">Michel&nbsp;Loris</td><td style=\"white-space:nowrap\"></td><td style=\"white-space:nowrap\">Statistique et probabilités appliquées</td><td style=\"white-space:nowrap\"></td><td style=\"white-space:nowrap\"></td><td style=\"white-space:nowrap\"></td><td style=\"white-space:nowrap\">Stage</td><td style=\"white-space:nowrap\"></td><td style=\"white-space:nowrap\"></td><td>228495</td><td style=\"white-space:nowrap\"></td></tr><tr><td style=\"white-space:nowrap\">Monsieur</td><td style=\"white-space:nowrap\">N'Cho&nbsp;Anassé Daniel Yann Eric</td><td style=\"white-space:nowrap\"></td><td style=\"white-space:nowrap\"></td><td style=\"white-space:nowrap\"></td><td style=\"white-space:nowrap\"></td><td style=\"white-space:nowrap\"></td><td style=\"white-space:nowrap\">Présent</td><td style=\"white-space:nowrap\"></td><td style=\"white-space:nowrap\"></td><td>223473</td><td style=\"white-space:nowrap\"></td></tr><tr><td style=\"white-space:nowrap\">Monsieur</td><td style=\"white-space:nowrap\">Nguyen&nbsp;Kenneth Minh Thang</td><td style=\"white-space:nowrap\"></td><td style=\"white-space:nowrap\"></td><td style=\"white-space:nowrap\"></td><td style=\"white-space:nowrap\"></td><td style=\"white-space:nowrap\"></td><td style=\"white-space:nowrap\">Stage</td><td style=\"white-space:nowrap\"></td><td style=\"white-space:nowrap\"></td><td>225766</td><td style=\"white-space:nowrap\"></td></tr><tr><td style=\"white-space:nowrap\">Monsieur</td><td style=\"white-space:nowrap\">Nobili&nbsp;Francesco</td><td style=\"white-space:nowrap\"></td><td style=\"white-space:nowrap\"></td><td style=\"white-space:nowrap\"></td><td style=\"white-space:nowrap\"></td><td style=\"white-space:nowrap\"></td><td style=\"white-space:nowrap\">Stage</td><td style=\"white-space:nowrap\"></td><td style=\"white-space:nowrap\"></td><td>260677</td><td style=\"white-space:nowrap\"></td></tr><tr><td style=\"white-space:nowrap\">Monsieur</td><td style=\"white-space:nowrap\">Paillard&nbsp;Christophe</td><td style=\"white-space:nowrap\"></td><td style=\"white-space:nowrap\"></td><td style=\"white-space:nowrap\"></td><td style=\"white-space:nowrap\"></td><td style=\"white-space:nowrap\"></td><td style=\"white-space:nowrap\">Stage</td><td style=\"white-space:nowrap\"></td><td style=\"white-space:nowrap\"></td><td>217286</td><td style=\"white-space:nowrap\"></td></tr><tr><td style=\"white-space:nowrap\">Monsieur</td><td style=\"white-space:nowrap\">Repond&nbsp;Brice Elian</td><td style=\"white-space:nowrap\"></td><td style=\"white-space:nowrap\"></td><td style=\"white-space:nowrap\"></td><td style=\"white-space:nowrap\"></td><td style=\"white-space:nowrap\"></td><td style=\"white-space:nowrap\">Présent</td><td style=\"white-space:nowrap\"></td><td style=\"white-space:nowrap\"></td><td>225785</td><td style=\"white-space:nowrap\"></td></tr><tr><td style=\"white-space:nowrap\">Monsieur</td><td style=\"white-space:nowrap\">Rochat&nbsp;Fabien Alexandre</td><td style=\"white-space:nowrap\"></td><td style=\"white-space:nowrap\"></td><td style=\"white-space:nowrap\"></td><td style=\"white-space:nowrap\"></td><td style=\"white-space:nowrap\"></td><td style=\"white-space:nowrap\">Stage</td><td style=\"white-space:nowrap\"></td><td style=\"white-space:nowrap\"></td><td>216741</td><td style=\"white-space:nowrap\"></td></tr><tr><td style=\"white-space:nowrap\">Monsieur</td><td style=\"white-space:nowrap\">Roquette&nbsp;Lucien Henri Jacques Marie</td><td style=\"white-space:nowrap\"></td><td style=\"white-space:nowrap\"></td><td style=\"white-space:nowrap\"></td><td style=\"white-space:nowrap\"></td><td style=\"white-space:nowrap\"></td><td style=\"white-space:nowrap\">Stage</td><td style=\"white-space:nowrap\"></td><td style=\"white-space:nowrap\"></td><td>204381</td><td style=\"white-space:nowrap\"></td></tr><tr><td style=\"white-space:nowrap\">Madame</td><td style=\"white-space:nowrap\">Saugy&nbsp;Lola Valentine</td><td style=\"white-space:nowrap\"></td><td style=\"white-space:nowrap\"></td><td style=\"white-space:nowrap\"></td><td style=\"white-space:nowrap\"></td><td style=\"white-space:nowrap\">Mineur en Management, technologie et entrepreneuriat</td><td style=\"white-space:nowrap\">Présent</td><td style=\"white-space:nowrap\"></td><td style=\"white-space:nowrap\"></td><td>217493</td><td style=\"white-space:nowrap\"></td></tr><tr><td style=\"white-space:nowrap\">Monsieur</td><td style=\"white-space:nowrap\">Singy&nbsp;Florent Patrick Jacques</td><td style=\"white-space:nowrap\"></td><td style=\"white-space:nowrap\">Mathématiques appliquées</td><td style=\"white-space:nowrap\"></td><td style=\"white-space:nowrap\"></td><td style=\"white-space:nowrap\"></td><td style=\"white-space:nowrap\">Présent</td><td style=\"white-space:nowrap\"></td><td style=\"white-space:nowrap\"></td><td>217472</td><td style=\"white-space:nowrap\"></td></tr><tr><td style=\"white-space:nowrap\">Madame</td><td style=\"white-space:nowrap\">Tosi&nbsp;Margherita</td><td style=\"white-space:nowrap\"></td><td style=\"white-space:nowrap\"></td><td style=\"white-space:nowrap\"></td><td style=\"white-space:nowrap\"></td><td style=\"white-space:nowrap\"></td><td style=\"white-space:nowrap\">Stage</td><td style=\"white-space:nowrap\"></td><td style=\"white-space:nowrap\"></td><td>255378</td><td style=\"white-space:nowrap\"></td></tr><tr><td style=\"white-space:nowrap\">Madame</td><td style=\"white-space:nowrap\">Vukmirovic&nbsp;Mila</td><td style=\"white-space:nowrap\"></td><td style=\"white-space:nowrap\"></td><td style=\"white-space:nowrap\"></td><td style=\"white-space:nowrap\"></td><td style=\"white-space:nowrap\"></td><td style=\"white-space:nowrap\">Présent</td><td style=\"white-space:nowrap\"></td><td style=\"white-space:nowrap\"></td><td>255460</td><td style=\"white-space:nowrap\"></td></tr><tr><th colspan=\"12\"><font color=\"black\">Mathématiques - master, 2016-2017, Master semestre 3</font>\n",
       "&nbsp;(9 ét.)\n",
       "    </th></tr><tr><th>Civilité</th><th>Nom Prénom</th><th>Orientation Bachelor</th><th>Orientation Master</th><th>Spécialisation</th><th>Filière opt.</th><th>Mineur</th><th>Statut</th><th>Type Echange</th><th>Ecole Echange</th><th>No Sciper</th></tr><tr><td style=\"white-space:nowrap\">Monsieur</td><td style=\"white-space:nowrap\">Antille&nbsp;Raphaël</td><td style=\"white-space:nowrap\"></td><td style=\"white-space:nowrap\"></td><td style=\"white-space:nowrap\"></td><td style=\"white-space:nowrap\"></td><td style=\"white-space:nowrap\">Information security minor</td><td style=\"white-space:nowrap\">Présent</td><td style=\"white-space:nowrap\"></td><td style=\"white-space:nowrap\"></td><td>226697</td><td style=\"white-space:nowrap\"></td></tr><tr><td style=\"white-space:nowrap\">Monsieur</td><td style=\"white-space:nowrap\">Buro&nbsp;Guillaume</td><td style=\"white-space:nowrap\"></td><td style=\"white-space:nowrap\"></td><td style=\"white-space:nowrap\"></td><td style=\"white-space:nowrap\"></td><td style=\"white-space:nowrap\"></td><td style=\"white-space:nowrap\">Présent</td><td style=\"white-space:nowrap\"></td><td style=\"white-space:nowrap\"></td><td>214322</td><td style=\"white-space:nowrap\"></td></tr><tr><td style=\"white-space:nowrap\">Madame</td><td style=\"white-space:nowrap\">Hong&nbsp;Sungyeon</td><td style=\"white-space:nowrap\"></td><td style=\"white-space:nowrap\"></td><td style=\"white-space:nowrap\"></td><td style=\"white-space:nowrap\"></td><td style=\"white-space:nowrap\"></td><td style=\"white-space:nowrap\">Présent</td><td style=\"white-space:nowrap\"></td><td style=\"white-space:nowrap\"></td><td>236949</td><td style=\"white-space:nowrap\"></td></tr><tr><td style=\"white-space:nowrap\">Monsieur</td><td style=\"white-space:nowrap\">Jacot-Guillarmod&nbsp;Arthur Ulysse</td><td style=\"white-space:nowrap\"></td><td style=\"white-space:nowrap\">Mathématiques appliquées</td><td style=\"white-space:nowrap\"></td><td style=\"white-space:nowrap\"></td><td style=\"white-space:nowrap\">Mineur en Neurosciences computationnelles</td><td style=\"white-space:nowrap\">Présent</td><td style=\"white-space:nowrap\"></td><td style=\"white-space:nowrap\"></td><td>260771</td><td style=\"white-space:nowrap\"></td></tr><tr><td style=\"white-space:nowrap\">Madame</td><td style=\"white-space:nowrap\">Métrailler&nbsp;Coline Eloïse</td><td style=\"white-space:nowrap\"></td><td style=\"white-space:nowrap\"></td><td style=\"white-space:nowrap\"></td><td style=\"white-space:nowrap\"></td><td style=\"white-space:nowrap\"></td><td style=\"white-space:nowrap\">Présent</td><td style=\"white-space:nowrap\"></td><td style=\"white-space:nowrap\"></td><td>255048</td><td style=\"white-space:nowrap\"></td></tr><tr><td style=\"white-space:nowrap\">Madame</td><td style=\"white-space:nowrap\">Morell&nbsp;Sarah Maria</td><td style=\"white-space:nowrap\"></td><td style=\"white-space:nowrap\"></td><td style=\"white-space:nowrap\"></td><td style=\"white-space:nowrap\"></td><td style=\"white-space:nowrap\">Mineur en Informatique</td><td style=\"white-space:nowrap\">Présent</td><td style=\"white-space:nowrap\"></td><td style=\"white-space:nowrap\"></td><td>193107</td><td style=\"white-space:nowrap\"></td></tr><tr><td style=\"white-space:nowrap\">Monsieur</td><td style=\"white-space:nowrap\">Rossi&nbsp;Nicolas</td><td style=\"white-space:nowrap\"></td><td style=\"white-space:nowrap\"></td><td style=\"white-space:nowrap\"></td><td style=\"white-space:nowrap\"></td><td style=\"white-space:nowrap\"></td><td style=\"white-space:nowrap\">Présent</td><td style=\"white-space:nowrap\"></td><td style=\"white-space:nowrap\"></td><td>201944</td><td style=\"white-space:nowrap\"></td></tr><tr><td style=\"white-space:nowrap\">Monsieur</td><td style=\"white-space:nowrap\">Simko&nbsp;Peter</td><td style=\"white-space:nowrap\"></td><td style=\"white-space:nowrap\"></td><td style=\"white-space:nowrap\"></td><td style=\"white-space:nowrap\"></td><td style=\"white-space:nowrap\"></td><td style=\"white-space:nowrap\">Présent</td><td style=\"white-space:nowrap\"></td><td style=\"white-space:nowrap\"></td><td>224448</td><td style=\"white-space:nowrap\"></td></tr><tr><td style=\"white-space:nowrap\">Monsieur</td><td style=\"white-space:nowrap\">Widmer&nbsp;Bastian</td><td style=\"white-space:nowrap\"></td><td style=\"white-space:nowrap\"></td><td style=\"white-space:nowrap\"></td><td style=\"white-space:nowrap\"></td><td style=\"white-space:nowrap\"></td><td style=\"white-space:nowrap\">Présent</td><td style=\"white-space:nowrap\"></td><td style=\"white-space:nowrap\"></td><td>226653</td><td style=\"white-space:nowrap\"></td></tr><tr><th colspan=\"12\">Mathématiques pour l'enseignement, 2016-2017, Master semestre 3\n",
       "&nbsp;(0 ét.)\n",
       "    </th></tr><tr><th colspan=\"12\"><font color=\"black\">Science et ingénierie computationnelles, 2016-2017, Master semestre 3</font>\n",
       "&nbsp;(24 ét.)\n",
       "    </th></tr><tr><th>Civilité</th><th>Nom Prénom</th><th>Orientation Bachelor</th><th>Orientation Master</th><th>Spécialisation</th><th>Filière opt.</th><th>Mineur</th><th>Statut</th><th>Type Echange</th><th>Ecole Echange</th><th>No Sciper</th></tr><tr><td style=\"white-space:nowrap\">Monsieur</td><td style=\"white-space:nowrap\">Barry&nbsp;Martin Louis Lucien Rémy</td><td style=\"white-space:nowrap\"></td><td style=\"white-space:nowrap\"></td><td style=\"white-space:nowrap\"></td><td style=\"white-space:nowrap\"></td><td style=\"white-space:nowrap\"></td><td style=\"white-space:nowrap\">Présent</td><td style=\"white-space:nowrap\"></td><td style=\"white-space:nowrap\"></td><td>226745</td><td style=\"white-space:nowrap\"></td></tr><tr><td style=\"white-space:nowrap\">Monsieur</td><td style=\"white-space:nowrap\">Beck&nbsp;Benjamin</td><td style=\"white-space:nowrap\"></td><td style=\"white-space:nowrap\"></td><td style=\"white-space:nowrap\"></td><td style=\"white-space:nowrap\"></td><td style=\"white-space:nowrap\"></td><td style=\"white-space:nowrap\">Présent</td><td style=\"white-space:nowrap\"></td><td style=\"white-space:nowrap\"></td><td>179323</td><td style=\"white-space:nowrap\"></td></tr><tr><td style=\"white-space:nowrap\">Monsieur</td><td style=\"white-space:nowrap\">Berclaz&nbsp;Paul</td><td style=\"white-space:nowrap\"></td><td style=\"white-space:nowrap\"></td><td style=\"white-space:nowrap\"></td><td style=\"white-space:nowrap\"></td><td style=\"white-space:nowrap\"></td><td style=\"white-space:nowrap\">Présent</td><td style=\"white-space:nowrap\"></td><td style=\"white-space:nowrap\"></td><td>214271</td><td style=\"white-space:nowrap\"></td></tr><tr><td style=\"white-space:nowrap\">Madame</td><td style=\"white-space:nowrap\">Chanon&nbsp;Ondine Gabrielle</td><td style=\"white-space:nowrap\"></td><td style=\"white-space:nowrap\"></td><td style=\"white-space:nowrap\"></td><td style=\"white-space:nowrap\"></td><td style=\"white-space:nowrap\"></td><td style=\"white-space:nowrap\">Présent</td><td style=\"white-space:nowrap\"></td><td style=\"white-space:nowrap\"></td><td>214211</td><td style=\"white-space:nowrap\"></td></tr><tr><td style=\"white-space:nowrap\">Monsieur</td><td style=\"white-space:nowrap\">Gu&nbsp;Jiaxi</td><td style=\"white-space:nowrap\"></td><td style=\"white-space:nowrap\"></td><td style=\"white-space:nowrap\"></td><td style=\"white-space:nowrap\"></td><td style=\"white-space:nowrap\"></td><td style=\"white-space:nowrap\">Présent</td><td style=\"white-space:nowrap\"></td><td style=\"white-space:nowrap\"></td><td>255626</td><td style=\"white-space:nowrap\"></td></tr><tr><td style=\"white-space:nowrap\">Monsieur</td><td style=\"white-space:nowrap\">He&nbsp;Lie</td><td style=\"white-space:nowrap\"></td><td style=\"white-space:nowrap\"></td><td style=\"white-space:nowrap\"></td><td style=\"white-space:nowrap\"></td><td style=\"white-space:nowrap\"></td><td style=\"white-space:nowrap\">Présent</td><td style=\"white-space:nowrap\"></td><td style=\"white-space:nowrap\"></td><td>254962</td><td style=\"white-space:nowrap\"></td></tr><tr><td style=\"white-space:nowrap\">Monsieur</td><td style=\"white-space:nowrap\">Juda&nbsp;Przemyslaw</td><td style=\"white-space:nowrap\"></td><td style=\"white-space:nowrap\"></td><td style=\"white-space:nowrap\"></td><td style=\"white-space:nowrap\"></td><td style=\"white-space:nowrap\"></td><td style=\"white-space:nowrap\">Présent</td><td style=\"white-space:nowrap\"></td><td style=\"white-space:nowrap\"></td><td>256246</td><td style=\"white-space:nowrap\"></td></tr><tr><td style=\"white-space:nowrap\">Monsieur</td><td style=\"white-space:nowrap\">Kibleur&nbsp;Pierre Charles Marie</td><td style=\"white-space:nowrap\"></td><td style=\"white-space:nowrap\"></td><td style=\"white-space:nowrap\"></td><td style=\"white-space:nowrap\"></td><td style=\"white-space:nowrap\"></td><td style=\"white-space:nowrap\">Présent</td><td style=\"white-space:nowrap\"></td><td style=\"white-space:nowrap\"></td><td>216811</td><td style=\"white-space:nowrap\"></td></tr><tr><td style=\"white-space:nowrap\">Monsieur</td><td style=\"white-space:nowrap\">Lederrey&nbsp;Gael</td><td style=\"white-space:nowrap\"></td><td style=\"white-space:nowrap\"></td><td style=\"white-space:nowrap\"></td><td style=\"white-space:nowrap\"></td><td style=\"white-space:nowrap\"></td><td style=\"white-space:nowrap\">Présent</td><td style=\"white-space:nowrap\"></td><td style=\"white-space:nowrap\"></td><td>204874</td><td style=\"white-space:nowrap\"></td></tr><tr><td style=\"white-space:nowrap\">Monsieur</td><td style=\"white-space:nowrap\">Lorkowski&nbsp;Alexander Kengo</td><td style=\"white-space:nowrap\"></td><td style=\"white-space:nowrap\"></td><td style=\"white-space:nowrap\"></td><td style=\"white-space:nowrap\"></td><td style=\"white-space:nowrap\"></td><td style=\"white-space:nowrap\">Présent</td><td style=\"white-space:nowrap\"></td><td style=\"white-space:nowrap\"></td><td>260847</td><td style=\"white-space:nowrap\"></td></tr><tr><td style=\"white-space:nowrap\">Monsieur</td><td style=\"white-space:nowrap\">Malanche Flores&nbsp;Carlos Gerardo</td><td style=\"white-space:nowrap\"></td><td style=\"white-space:nowrap\"></td><td style=\"white-space:nowrap\"></td><td style=\"white-space:nowrap\"></td><td style=\"white-space:nowrap\"></td><td style=\"white-space:nowrap\">Présent</td><td style=\"white-space:nowrap\"></td><td style=\"white-space:nowrap\"></td><td>260159</td><td style=\"white-space:nowrap\"></td></tr><tr><td style=\"white-space:nowrap\">Monsieur</td><td style=\"white-space:nowrap\">Martinolli&nbsp;Marco</td><td style=\"white-space:nowrap\"></td><td style=\"white-space:nowrap\"></td><td style=\"white-space:nowrap\"></td><td style=\"white-space:nowrap\"></td><td style=\"white-space:nowrap\"></td><td style=\"white-space:nowrap\">Stage</td><td style=\"white-space:nowrap\"></td><td style=\"white-space:nowrap\"></td><td>260846</td><td style=\"white-space:nowrap\"></td></tr><tr><td style=\"white-space:nowrap\">Monsieur</td><td style=\"white-space:nowrap\">Migliorini&nbsp;Francesco</td><td style=\"white-space:nowrap\"></td><td style=\"white-space:nowrap\"></td><td style=\"white-space:nowrap\"></td><td style=\"white-space:nowrap\"></td><td style=\"white-space:nowrap\"></td><td style=\"white-space:nowrap\">Stage</td><td style=\"white-space:nowrap\"></td><td style=\"white-space:nowrap\"></td><td>260855</td><td style=\"white-space:nowrap\"></td></tr><tr><td style=\"white-space:nowrap\">Monsieur</td><td style=\"white-space:nowrap\">Mordig&nbsp;Maximilian Oliver Mogli</td><td style=\"white-space:nowrap\"></td><td style=\"white-space:nowrap\"></td><td style=\"white-space:nowrap\"></td><td style=\"white-space:nowrap\"></td><td style=\"white-space:nowrap\"></td><td style=\"white-space:nowrap\">Présent</td><td style=\"white-space:nowrap\"></td><td style=\"white-space:nowrap\"></td><td>229447</td><td style=\"white-space:nowrap\"></td></tr><tr><td style=\"white-space:nowrap\">Monsieur</td><td style=\"white-space:nowrap\">Pradovera&nbsp;Davide</td><td style=\"white-space:nowrap\"></td><td style=\"white-space:nowrap\"></td><td style=\"white-space:nowrap\"></td><td style=\"white-space:nowrap\"></td><td style=\"white-space:nowrap\"></td><td style=\"white-space:nowrap\">Présent</td><td style=\"white-space:nowrap\"></td><td style=\"white-space:nowrap\"></td><td>256019</td><td style=\"white-space:nowrap\"></td></tr><tr><td style=\"white-space:nowrap\">Monsieur</td><td style=\"white-space:nowrap\">Ripamonti&nbsp;Nicolò</td><td style=\"white-space:nowrap\"></td><td style=\"white-space:nowrap\"></td><td style=\"white-space:nowrap\"></td><td style=\"white-space:nowrap\"></td><td style=\"white-space:nowrap\"></td><td style=\"white-space:nowrap\">Stage</td><td style=\"white-space:nowrap\"></td><td style=\"white-space:nowrap\"></td><td>260853</td><td style=\"white-space:nowrap\"></td></tr><tr><td style=\"white-space:nowrap\">Monsieur</td><td style=\"white-space:nowrap\">Rivollet&nbsp;David Martin</td><td style=\"white-space:nowrap\"></td><td style=\"white-space:nowrap\"></td><td style=\"white-space:nowrap\"></td><td style=\"white-space:nowrap\"></td><td style=\"white-space:nowrap\"></td><td style=\"white-space:nowrap\">Présent</td><td style=\"white-space:nowrap\"></td><td style=\"white-space:nowrap\"></td><td>216723</td><td style=\"white-space:nowrap\"></td></tr><tr><td style=\"white-space:nowrap\">Monsieur</td><td style=\"white-space:nowrap\">Rolland&nbsp;Paul Thierry Yves</td><td style=\"white-space:nowrap\"></td><td style=\"white-space:nowrap\"></td><td style=\"white-space:nowrap\"></td><td style=\"white-space:nowrap\"></td><td style=\"white-space:nowrap\"></td><td style=\"white-space:nowrap\">Présent</td><td style=\"white-space:nowrap\"></td><td style=\"white-space:nowrap\"></td><td>223583</td><td style=\"white-space:nowrap\"></td></tr><tr><td style=\"white-space:nowrap\">Monsieur</td><td style=\"white-space:nowrap\">Sanchez&nbsp;Thomas</td><td style=\"white-space:nowrap\"></td><td style=\"white-space:nowrap\"></td><td style=\"white-space:nowrap\"></td><td style=\"white-space:nowrap\"></td><td style=\"white-space:nowrap\"></td><td style=\"white-space:nowrap\">Présent</td><td style=\"white-space:nowrap\"></td><td style=\"white-space:nowrap\"></td><td>225447</td><td style=\"white-space:nowrap\"></td></tr><tr><td style=\"white-space:nowrap\">Monsieur</td><td style=\"white-space:nowrap\">Sanchez Falcon&nbsp;Alexandre Nikolaj Miguel Hubert</td><td style=\"white-space:nowrap\"></td><td style=\"white-space:nowrap\"></td><td style=\"white-space:nowrap\"></td><td style=\"white-space:nowrap\"></td><td style=\"white-space:nowrap\"></td><td style=\"white-space:nowrap\">Présent</td><td style=\"white-space:nowrap\"></td><td style=\"white-space:nowrap\"></td><td>245572</td><td style=\"white-space:nowrap\"></td></tr><tr><td style=\"white-space:nowrap\">Monsieur</td><td style=\"white-space:nowrap\">Savarè&nbsp;Stefano</td><td style=\"white-space:nowrap\"></td><td style=\"white-space:nowrap\"></td><td style=\"white-space:nowrap\"></td><td style=\"white-space:nowrap\"></td><td style=\"white-space:nowrap\"></td><td style=\"white-space:nowrap\">Présent</td><td style=\"white-space:nowrap\"></td><td style=\"white-space:nowrap\"></td><td>260960</td><td style=\"white-space:nowrap\"></td></tr><tr><td style=\"white-space:nowrap\">Monsieur</td><td style=\"white-space:nowrap\">Stankovic&nbsp;Aleksa</td><td style=\"white-space:nowrap\"></td><td style=\"white-space:nowrap\"></td><td style=\"white-space:nowrap\"></td><td style=\"white-space:nowrap\"></td><td style=\"white-space:nowrap\"></td><td style=\"white-space:nowrap\">Présent</td><td style=\"white-space:nowrap\"></td><td style=\"white-space:nowrap\"></td><td>256393</td><td style=\"white-space:nowrap\"></td></tr><tr><td style=\"white-space:nowrap\">Monsieur</td><td style=\"white-space:nowrap\">Ubbiali&nbsp;Stefano</td><td style=\"white-space:nowrap\"></td><td style=\"white-space:nowrap\"></td><td style=\"white-space:nowrap\"></td><td style=\"white-space:nowrap\"></td><td style=\"white-space:nowrap\"></td><td style=\"white-space:nowrap\">Stage</td><td style=\"white-space:nowrap\"></td><td style=\"white-space:nowrap\"></td><td>260769</td><td style=\"white-space:nowrap\"></td></tr><tr><td style=\"white-space:nowrap\">Monsieur</td><td style=\"white-space:nowrap\">Veyssiere&nbsp;Loïc Pierre Antoine</td><td style=\"white-space:nowrap\"></td><td style=\"white-space:nowrap\"></td><td style=\"white-space:nowrap\"></td><td style=\"white-space:nowrap\"></td><td style=\"white-space:nowrap\"></td><td style=\"white-space:nowrap\">Présent</td><td style=\"white-space:nowrap\"></td><td style=\"white-space:nowrap\"></td><td>256292</td><td style=\"white-space:nowrap\"></td></tr></table></body></html>\n",
       "<!-- OpenXml:0.01s  agent ctrl:0.00s  xml:0.55s  xsl extr&stylesheet:0.00s  xsl after parsing:0.01s  xsl ctrl data:0.00s  transform 2:0.07s  xsl process:0.00s  -->"
      ],
      "text/plain": [
       "<IPython.core.display.HTML object>"
      ]
     },
     "execution_count": 68,
     "metadata": {},
     "output_type": "execute_result"
    }
   ],
   "source": [
    "from IPython.core.display import HTML\n",
    "HTML(s.decode(\"latin_1\"))"
   ]
  },
  {
   "cell_type": "code",
   "execution_count": null,
   "metadata": {
    "collapsed": true
   },
   "outputs": [],
   "source": [
    "We can extract this numbers from the line:"
   ]
  },
  {
   "cell_type": "code",
   "execution_count": 67,
   "metadata": {
    "collapsed": false
   },
   "outputs": [
    {
     "name": "stdout",
     "output_type": "stream",
     "text": [
      "25\n",
      "9\n",
      "0\n",
      "24\n"
     ]
    }
   ],
   "source": [
    "for row in header:\n",
    "    if(row.find(\"(\")!=-1):\n",
    "        par = row[row.find(\"(\")+1:row.find(\")\")]\n",
    "        print([int(s) for s in par.split() if s.isdigit()][0])"
   ]
  },
  {
   "cell_type": "code",
   "execution_count": null,
   "metadata": {
    "collapsed": true
   },
   "outputs": [],
   "source": []
  }
 ],
 "metadata": {
  "kernelspec": {
   "display_name": "Python 3",
   "language": "python",
   "name": "python3"
  },
  "language_info": {
   "codemirror_mode": {
    "name": "ipython",
    "version": 3
   },
   "file_extension": ".py",
   "mimetype": "text/x-python",
   "name": "python",
   "nbconvert_exporter": "python",
   "pygments_lexer": "ipython3",
   "version": "3.5.1"
  }
 },
 "nbformat": 4,
 "nbformat_minor": 1
}
